{
 "cells": [
  {
   "attachments": {},
   "cell_type": "markdown",
   "metadata": {},
   "source": [
    "# P4-Y 4/25 Guide to SASS \n",
    "> An guide on how to use SASS to build a more customized frontend.\n",
    "- toc: true\n",
    "- comments: true\n",
    "- badges: false\n",
    "- author: Aniket Chakradeo, Ryan Hakimipour, Max Tullius, Jaden Nguyen, Nathan Kim, Kalani Cabral-Omana, Evan Appari, Max Wu, \n",
    "- categories: [student]\n",
    "- type: ap\n",
    "- week: 31"
   ]
  },
  {
   "attachments": {},
   "cell_type": "markdown",
   "metadata": {},
   "source": [
    "# WGET this file and complete fully and thoroughly in order to be receive credit\n",
    "\n",
    "[Wget Link](https://raw.githubusercontent.com/nighthawkcoders/APCSP/master/_notebooks/2023-04-25-P4Y-SASSGuide.ipynb)\n",
    "\n",
    "## Team Lesson Plan: \n",
    "\n",
    "SASS Part 1- Nathan, Aniket, Kalani\n",
    "- Basic UI Properties and what they mean\n",
    "- Color properties\n",
    "- Themes\n",
    "- SASS Definition/What it is useful for\n",
    "- SASS code segments w/ comparison to css\n",
    "- Demonstration of SASS\n",
    "\n",
    "SASS Part 2- Max W, Evan \n",
    "- More UI Properties\n",
    "- UX\n",
    "- Layouts\n",
    "- Animation/animation code for UI\n",
    "\n",
    "Building JavaScript Game or Application- Ryan, Jaden\n",
    "- Before vs After Minesweeper Game - how to customize \n",
    "- Building a java script game and what it requires\n",
    "\n",
    "Hacks Page - Kalani, Max T\n",
    "- Students must create their own hack (simple app,game, etc using key components from the lesson) \n",
    "- Make sure the students can wget the file so they can work on it for their hacks\n"
   ]
  },
  {
   "attachments": {},
   "cell_type": "markdown",
   "metadata": {},
   "source": [
    "# Classwork: \n",
    "\n",
    "### What are 5 Basic UI Elements?:\n",
    "\n",
    "1. **Color**\n",
    "2. **Font**\n",
    "3. **Layout**\n",
    "4. **Icons**\n",
    "5. **Interactivity**\n",
    "\n",
    "### In your own words, explain what SASS does:\n",
    "- **SASS is an easier way to style your site in comparison to CSS. It allows for stylesheets to be written with .sass and .scss, and it includes CSS features with more. It makes programming and styling very easy.**\n",
    "\n",
    "### What are some benefits to SASS?: \n",
    "- **It is easy to use, less complex, and has variables that can be used. SASS gives us built-in functions, and the SASS compiler allows for a conversion to working CSS.**\n",
    "\n",
    "### Describe/Explain one of the more \"advanced\" SASS properties below in detail:\n",
    "- **One advanced SASS property is the animation effect. This has many different possible parameters, and can be changed to change the duration of the animation, the opacity of an animation, and many other things.**\n",
    "\n",
    "## [Link to Number Guesser Game](https://anicricket.github.io/tmv4/_pages/numberguesser_v3.html)\n",
    "\n",
    "\n",
    "### How does the number guesser game work?\n",
    "- **The number guesser game works by inputting a number between 1-100, and the program randomly generating a unique number in that range. It will then tell you if your guess is too high or too low, and you will continue to guess until you get the right answer.**\n",
    "\n",
    "### Explain how SASS can be used to make the number guesser game look more visually appealing?\n",
    "- **In the updated number guesser game, SASS was utilized to make the game look more visually appealing by making the background color green after guessing the right answer. Maybe, as an inclusion, an animation can be added for an up or down arrow to symbolize a higher guess or lower guess in the game.**"
   ]
  },
  {
   "attachments": {},
   "cell_type": "markdown",
   "metadata": {},
   "source": [
    "# Hacks - Insert any screenshots, code segments, etc. that you need to in order to demonstrate an understanding of the hacks\n",
    "\n",
    "## Hacks Part 1\n",
    "1. Add your own element to your own repository to make it unique (0.9)\n",
    "**In my own repository, I changed the background color and the sidebar color using SASS.** \n",
    "![image](https://user-images.githubusercontent.com/45215873/234737735-58a6bdc7-2e5c-4c89-a374-b9cb6e463160.png)\n",
    "\n",
    "\n",
    "## Hacks Part 2\n",
    "1. Add the style change button to your own github page (0.9)\n",
    "    - Change the button to your own styles \n",
    "    - See if you can let make it change to multiple different styles (we understand that it is hard to create multiple distinct styles so you are only required to make it clear you have at least three different styles at can be changed)\n",
    "2. Extra: Try and incorporate something you learned in the lesson into your CPT Project (0.1)\n",
    "\n",
    "## Hacks Part 3\n",
    "1. Add SASS to Number Guesser Game provided (0.9) or create your own Javascript game/application and add SASS to it (0.9+)\n",
    "2. We will collectively decide on the \"best\" game/app and award potential seed. \n",
    "\n",
    "# Copy and paste the following code segment into a markdown file which will be used for the hacks:"
   ]
  },
  {
   "cell_type": "code",
   "execution_count": null,
   "metadata": {
    "vscode": {
     "languageId": "plaintext"
    }
   },
   "outputs": [],
   "source": [
    "<html>\n",
    "<head>\n",
    "  <title>Guess the Number</title>\n",
    "</head>\n",
    "<body>\n",
    "  <h1>Guess the Number</h1>\n",
    "  <p>Try to guess the number between 1 and 100.</p>\n",
    "  <input type=\"text\" id=\"guess\" placeholder=\"Enter your guess\">\n",
    "  <button onclick=\"checkGuess()\">Submit</button>\n",
    "  <p id=\"result\"></p>\n",
    "\n",
    "  <script>\n",
    "    // Generate a random number between 1 and 100\n",
    "    const randomNumber = Math.floor(Math.random() * 100) + 1;\n",
    "    let attempts = 0;\n",
    "\n",
    "    function checkGuess() {\n",
    "      // Get the user's guess\n",
    "      const guess = parseInt(document.getElementById(\"guess\").value);\n",
    "\n",
    "      // Increase the number of attempts\n",
    "      attempts++;\n",
    "\n",
    "      // Check if the guess is correct\n",
    "      if (guess === randomNumber) {\n",
    "        document.getElementById(\"result\").innerHTML = `Congratulations! You guessed the number in ${attempts} attempts.`;\n",
    "      } else if (guess < randomNumber) {\n",
    "        document.getElementById(\"result\").innerHTML = \"Too low. Guess again.\";\n",
    "      } else {\n",
    "        document.getElementById(\"result\").innerHTML = \"Too high. Guess again.\";\n",
    "      }\n",
    "    }\n",
    "  </script>\n",
    "</body>\n",
    "</html>\n"
   ]
  }
 ],
 "metadata": {
  "language_info": {
   "name": "python"
  },
  "orig_nbformat": 4
 },
 "nbformat": 4,
 "nbformat_minor": 2
}
