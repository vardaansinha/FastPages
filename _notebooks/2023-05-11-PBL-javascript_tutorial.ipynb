{
 "cells": [
  {
   "attachments": {},
   "cell_type": "markdown",
   "metadata": {},
   "source": [
    "# JavaScript Tutorial\n",
    "> Quick launch into Variables, Functions, Arrays, Classes, HTML.\n",
    "\n",
    "- layout: default\n",
    "- toc: true\n",
    "- badges: false\n",
    "- week: 33"
   ]
  },
  {
   "attachments": {},
   "cell_type": "markdown",
   "metadata": {},
   "source": [
    "## Hacks\n",
    "> One key to these hacks is to build confidence with me going into final grade, I would like to see each student adapt this frontend work in their final project.  Second key is the finished work can serve as review for the course, notes for the future in relationship to frontend.\n",
    "- Adapt this tutorial to your own work\n",
    "- Consider what you need to work on to be stronger developer\n",
    "- Show something creative or unique, no cloning\n",
    "- Be ready to talk to Teacher for 5 to 10 minutes. Individually!!!\n",
    "- Show in Jupyter Notebook during discussion, show Theme and ChatGPT\n",
    "- Have a runtime final in GithHub Pages (or Fastpage)"
   ]
  }
 ],
 "metadata": {
  "kernelspec": {
   "display_name": "Python 3",
   "language": "python",
   "name": "python3"
  },
  "language_info": {
   "codemirror_mode": {
    "name": "ipython",
    "version": 3
   },
   "file_extension": ".py",
   "mimetype": "text/x-python",
   "name": "python",
   "nbconvert_exporter": "python",
   "pygments_lexer": "ipython3",
   "version": "3.9.12"
  },
  "orig_nbformat": 4
 },
 "nbformat": 4,
 "nbformat_minor": 2
}
