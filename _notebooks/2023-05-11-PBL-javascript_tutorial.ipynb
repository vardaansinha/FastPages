{
 "cells": [
  {
   "cell_type": "markdown",
   "metadata": {},
   "source": [
    "# JavaScript Tutorial\n",
    "> Quick launch into Variables, Functions, Arrays, Classes, HTML.\n",
    "\n",
    "- layout: default\n",
    "- toc: true\n",
    "- badges: false\n",
    "- week: 33"
   ]
  },
  {
   "cell_type": "markdown",
   "metadata": {
    "chatgpt_cell": "query",
    "chatgpt_language": "javascript",
    "chatgpt_thread": ""
   },
   "source": [
    "##### chat\n",
    "\n",
    "write a javascript program that says hi to me"
   ]
  },
  {
   "cell_type": "markdown",
   "metadata": {},
   "source": [
    "##### response generated  by ChatGPT in 7 seconds at 5/29/2023 8:00:00 PM\n",
    "Certainly! Here's a simple JavaScript program that will greet you with \"Hi!\" when executed:\n",
    "```javascript\n",
    "console.log(\"Hi!\");\n",
    "```\n",
    "You can run this code in any JavaScript environment, such as a web browser console or a Node.js environment, and it will output \"Hi!\" to the console.\n",
    "If you want to personalize the greeting by using your name, you can modify the code as follows:\n",
    "```javascript\n",
    "const name = \"Your Name\";\n",
    "console.log(\"Hi, \" + name + \"!\");\n",
    "```\n",
    "Replace \"Your Name\" with your actual name, and when you run the program, it will greet you with \"Hi, Your Name!\" in the console."
   ]
  },
  {
   "cell_type": "code",
   "execution_count": null,
   "metadata": {
    "chatgpt_cell": "code",
    "chatgpt_language": "javascript",
    "chatgpt_thread": ""
   },
   "outputs": [],
   "source": [
    "console.log(\"Hi!\");"
   ]
  },
  {
   "cell_type": "code",
   "execution_count": null,
   "metadata": {
    "chatgpt_cell": "code",
    "chatgpt_language": "javascript",
    "chatgpt_thread": ""
   },
   "outputs": [],
   "source": [
    "const name = \"Your Name\";\n",
    "console.log(\"Hi, \" + name + \"!\");"
   ]
  },
  {
   "cell_type": "markdown",
   "metadata": {},
   "source": [
    "## Hacks\n",
    "> One key to these hacks is to build confidence with me going into final grade, I would like to see each student adapt this frontend work in their final project.  Second key is the finished work can serve as review for the course, notes for the future in relationship to frontend.\n",
    "- Adapt this tutorial to your own work\n",
    "- Consider what you need to work on to be stronger developer\n",
    "- Show something creative or unique, no cloning\n",
    "- Be ready to talk to Teacher for 5 to 10 minutes. Individually!!!\n",
    "- Show in Jupyter Notebook during discussion, show Theme and ChatGPT\n",
    "- Have a runtime final in GithHub Pages (or Fastpage)"
   ]
  },
  {
   "cell_type": "code",
   "execution_count": 16,
   "metadata": {},
   "outputs": [
    {
     "data": {
      "text/html": [
       "<html>\n",
       "    <head>\n",
       "        <style>\n",
       "            #output {\n",
       "                background-color: #42e3f5;\n",
       "                padding: 8px;\n",
       "                border: 1px solid #ccc;\n",
       "            }\n",
       "        </style>\n",
       "    </head>\n",
       "    <body>\n",
       "        <div id=\"output\">\n",
       "            Testing.\n",
       "        </div>\n",
       "    </body>\n",
       "</html>\n"
      ],
      "text/plain": [
       "<IPython.core.display.HTML object>"
      ]
     },
     "metadata": {},
     "output_type": "display_data"
    }
   ],
   "source": [
    "%%html\n",
    "<html>\n",
    "    <head>\n",
    "        <style>\n",
    "             {\n",
    "                background-color: #42e3f5;\n",
    "                padding: 8px;\n",
    "                border: 1px solid #ccc;\n",
    "            }\n",
    "        </style>\n",
    "    </head>\n",
    "    <body>\n",
    "        <div id=\"output\">\n",
    "            Testing.\n",
    "        </div>\n",
    "    </body>\n",
    "</html>"
   ]
  },
  {
   "cell_type": "markdown",
   "metadata": {},
   "source": [
    "## Output Explored"
   ]
  },
  {
   "cell_type": "code",
   "execution_count": 9,
   "metadata": {},
   "outputs": [
    {
     "data": {
      "application/javascript": [
       "element.append(\"Hi there.\");\n",
       "\n",
       "// Browser Console output; debugging or tracing\n",
       "element.append(\" I am talking to Mr. Mortensen right now.\");\n",
       "element.append(\" I am taking AP CSA next year.\");\n"
      ],
      "text/plain": [
       "<IPython.core.display.Javascript object>"
      ]
     },
     "metadata": {},
     "output_type": "display_data"
    }
   ],
   "source": [
    "%%js // required to allow cell to be JavaScript enabled\n",
    "element.append(\"Hi there.\");\n",
    "\n",
    "// Browser Console output; debugging or tracing\n",
    "element.append(\" I am talking to Mr. Mortensen right now.\");\n",
    "element.append(\" I am taking AP CSA next year.\");\n"
   ]
  },
  {
   "cell_type": "markdown",
   "metadata": {},
   "source": [
    "## Multiple Outputs using One Variable"
   ]
  },
  {
   "cell_type": "code",
   "execution_count": 1,
   "metadata": {},
   "outputs": [
    {
     "data": {
      "application/javascript": [
       "console.log(\"Multiple Outputs Using One Variable\");\n",
       "\n",
       "var msg = \"I am defining the variable msg here.\";\n",
       "\n",
       "// Use msg to output code to Console and Jupyter Notebook\n",
       "console.log(msg);  //right click browser select Inspect, then select Console to view\n",
       "element.text(msg);\n",
       "//alert(msg);\n"
      ],
      "text/plain": [
       "<IPython.core.display.Javascript object>"
      ]
     },
     "metadata": {},
     "output_type": "display_data"
    }
   ],
   "source": [
    "%%js\n",
    "console.log(\"Multiple Outputs Using One Variable\");\n",
    "\n",
    "var msg = \"I am defining the variable msg here.\";\n",
    "\n",
    "// Use msg to output code to Console and Jupyter Notebook\n",
    "console.log(msg);  //right click browser select Inspect, then select Console to view\n",
    "element.text(msg);\n",
    "//alert(msg);"
   ]
  },
  {
   "cell_type": "markdown",
   "metadata": {},
   "source": [
    "## Building a Person Object and JSON"
   ]
  },
  {
   "cell_type": "code",
   "execution_count": 7,
   "metadata": {},
   "outputs": [
    {
     "data": {
      "text/html": [
       "<!-- load jQuery and tablesorter scripts -->\n",
       "<html>\n",
       "    <head>\n",
       "        <!-- load jQuery and tablesorter scripts -->\n",
       "        <script src=\"https://ajax.googleapis.com/ajax/libs/jquery/3.6.0/jquery.min.js\"></script>\n",
       "        <script src=\"https://cdnjs.cloudflare.com/ajax/libs/jquery.tablesorter/2.31.3/js/jquery.tablesorter.min.js\"></script>\n",
       "    </head>\n",
       "\n",
       "    <body>\n",
       "        <table id=\"jsonTable\">\n",
       "            <thead>\n",
       "                <tr>\n",
       "                    <th>NBA PLAYER JSON Data</th>\n",
       "                </tr>\n",
       "            </thead>\n",
       "            <tbody>\n",
       "                <tr>\n",
       "                    <td id=\"jsonText\">{\n",
       "                        \"player\": [\n",
       "                          {\n",
       "                            \"name\": \"LeBron James\",\n",
       "                            \"team\": \"Los Angeles Lakers\",\n",
       "                            \"ppg\": 28,\n",
       "                          },\n",
       "                          {\n",
       "                            \"name\": \"Steph Curry\",\n",
       "                            \"team\": \"Golden State Warriors\",\n",
       "                            \"ppg\": 30,\n",
       "                          },\n",
       "                        ]\n",
       "                      }\n",
       "                      </td>\n",
       "                </tr>\n",
       "            </tbody>\n",
       "        </table>\n",
       "\n",
       "    </body>\n",
       "</html>\n"
      ],
      "text/plain": [
       "<IPython.core.display.HTML object>"
      ]
     },
     "metadata": {},
     "output_type": "display_data"
    }
   ],
   "source": [
    "%%html\n",
    "<!-- load jQuery and tablesorter scripts -->\n",
    "<html>\n",
    "    <head>\n",
    "        <!-- load jQuery and tablesorter scripts -->\n",
    "        <script src=\"https://ajax.googleapis.com/ajax/libs/jquery/3.6.0/jquery.min.js\"></script>\n",
    "        <script src=\"https://cdnjs.cloudflare.com/ajax/libs/jquery.tablesorter/2.31.3/js/jquery.tablesorter.min.js\"></script>\n",
    "    </head>\n",
    "\n",
    "    <body>\n",
    "        <table id=\"jsonTable\">\n",
    "            <thead>\n",
    "                <tr>\n",
    "                    <th>NBA PLAYER JSON Data</th>\n",
    "                </tr>\n",
    "            </thead>\n",
    "            <tbody>\n",
    "                <tr>\n",
    "                    <td id=\"jsonText\">{\n",
    "                        \"player\": [\n",
    "                          {\n",
    "                            \"name\": \"LeBron James\",\n",
    "                            \"team\": \"Los Angeles Lakers\",\n",
    "                            \"ppg\": 28,\n",
    "                          },\n",
    "                          {\n",
    "                            \"name\": \"Steph Curry\",\n",
    "                            \"team\": \"Golden State Warriors\",\n",
    "                            \"ppg\": 30,\n",
    "                          },\n",
    "                        ]\n",
    "                      }\n",
    "                      </td>\n",
    "                </tr>\n",
    "            </tbody>\n",
    "        </table>\n",
    "\n",
    "    </body>\n",
    "</html>"
   ]
  },
  {
   "cell_type": "code",
   "execution_count": 11,
   "metadata": {},
   "outputs": [
    {
     "data": {
      "application/javascript": [
       "class NBA {\n",
       "  constructor(name, team, ppg) {\n",
       "    this.name = name;\n",
       "    this.team = team;\n",
       "    this.ppg = ppg;\n",
       "  }\n",
       "\n",
       "  getJSON() {\n",
       "    const obj = {\n",
       "      name: this.name,\n",
       "      team: this.team,\n",
       "      ppg: this.ppg,\n",
       "     \n",
       "    };\n",
       "    const json = JSON.stringify(obj);\n",
       "    return json;\n",
       "  }\n",
       "\n",
       "  logIt() {\n",
       "    console.info(this);\n",
       "    element.append(this.getJSON());\n",
       "  }\n",
       "}\n",
       "\n",
       "const NBAData = {\n",
       "  name: \"LeBron James\",\n",
       "  team: \"Los Angeles Lakers\",\n",
       "  ppg: 28,\n",
       "};\n",
       "\n",
       "const js = new NBA(\n",
       "  NBAData.name,\n",
       "  NBAData.team,\n",
       "  NBAData.ppg\n",
       ");\n",
       "\n",
       "js.logIt();\n"
      ],
      "text/plain": [
       "<IPython.core.display.Javascript object>"
      ]
     },
     "metadata": {},
     "output_type": "display_data"
    }
   ],
   "source": [
    "%%js\n",
    "class NBA {\n",
    "  constructor(name, team, ppg) {\n",
    "    this.name = name;\n",
    "    this.team = team;\n",
    "    this.ppg = ppg;\n",
    "  }\n",
    "\n",
    "  getJSON() {\n",
    "    const obj = {\n",
    "      name: this.name,\n",
    "      team: this.team,\n",
    "      ppg: this.ppg,\n",
    "     \n",
    "    };\n",
    "    const json = JSON.stringify(obj);\n",
    "    return json;\n",
    "  }\n",
    "\n",
    "  logIt() {\n",
    "    console.info(this);\n",
    "    element.append(this.getJSON());\n",
    "  }\n",
    "}\n",
    "\n",
    "const NBAData = {\n",
    "  name: \"LeBron James\",\n",
    "  team: \"Los Angeles Lakers\",\n",
    "  ppg: 28,\n",
    "};\n",
    "\n",
    "const js = new NBA(\n",
    "  NBAData.name,\n",
    "  NBAData.team,\n",
    "  NBAData.ppg\n",
    ");\n",
    "\n",
    "js.logIt();"
   ]
  },
  {
   "cell_type": "markdown",
   "metadata": {},
   "source": [
    "## Project Usage: JavaScript Sorting"
   ]
  },
  {
   "cell_type": "code",
   "execution_count": 13,
   "metadata": {},
   "outputs": [
    {
     "data": {
      "text/html": [
       "# defines the tableID that is going to be referred to in the future\n",
       "<table id=\"sportsTable\">\n",
       "    <thead>\n",
       "      <tr>\n",
       "        # these are the sortTable functions for each of the columns. the onclick allows for on click of the table header. \n",
       "        <th onclick=\"sortTable('assists per game')\">Assists Per Game</th>\n",
       "        <th onclick=\"sortTable('minutes per game')\">Minutes Per Game</th>\n",
       "        <th onclick=\"sortTable('blocks per game')\">Blocks Per Game</th>\n",
       "        <th onclick=\"sortTable('defensive rebounds')\">Defensive Rebounds</th>\n",
       "        <th onclick=\"sortTable('fg percent')\">FG Percent</th>\n",
       "        <th onclick=\"sortTable('ft percent')\">FT Percent</th>\n",
       "        <th onclick=\"sortTable('games played')\">Games Played</th>\n",
       "        <th onclick=\"sortTable('height (inches)')\">Height (inches)</th>\n",
       "        <th onclick=\"sortTable('name')\">Name</th>\n",
       "        <th onclick=\"sortTable('offensive rebounds')\">Offensive Rebounds</th>\n",
       "        <th onclick=\"sortTable('points per game')\">Points Per Game</th>\n",
       "        <th onclick=\"sortTable('steals per game')\">Steals Per Game</th>\n",
       "        <th onclick=\"sortTable('team')\">Team</th>\n",
       "        <th onclick=\"sortTable('three percent')\">Three Percent</th>\n",
       "        <th onclick=\"sortTable('weight (pounds)')\">Weight (pounds)</th>\n",
       "      </tr>\n",
       "    </thead>\n",
       "    <tbody>\n",
       "    # sample data following on frontend, just for demo.\n",
       "      <tr>\n",
       "        <td>2</td>\n",
       "        <td>35</td>\n",
       "        <td>1</td>\n",
       "        <td>5</td>\n",
       "        <td>44</td>\n",
       "        <td>88</td>\n",
       "        <td>1421</td>\n",
       "        <td>81</td>\n",
       "        <td>LeBron James</td>\n",
       "        <td>6</td>\n",
       "        <td>28</td>\n",
       "        <td>1</td>\n",
       "        <td>Los Angeles Lakers</td>\n",
       "        <td>24</td>\n",
       "        <td>250</td>\n",
       "      </tr>\n",
       "      <tr>\n",
       "        <td>3</td>\n",
       "        <td>32</td>\n",
       "        <td>2</td>\n",
       "        <td>6</td>\n",
       "        <td>55</td>\n",
       "        <td>92</td>\n",
       "        <td>1231</td>\n",
       "        <td>75</td>\n",
       "        <td>Steph Curry</td>\n",
       "        <td>5</td>\n",
       "        <td>29</td>\n",
       "        <td>1</td>\n",
       "        <td>Golden State Warriors</td>\n",
       "        <td>34</td>\n",
       "        <td>185</td>\n",
       "      </tr>\n",
       "  </table>\n",
       "  \n",
       "  <script>\n",
       "    // sortTable function meant to sort based on each column header.\n",
       "    function getColumnIndex(columnName) {\n",
       "      // each column name is taken in columnName to get its index.\n",
       "      const table = document.getElementById('sportsTable');\n",
       "      const headerRow = table.getElementsByTagName('thead')[0].getElementsByTagName('tr')[0];\n",
       "      // contains the column headers, index 0\n",
       "      const headers = Array.from(headerRow.getElementsByTagName('th'));\n",
       "      return headers.findIndex(header => header.innerText.toLowerCase() === columnName.toLowerCase()) + 1;\n",
       "      // converts column header names to lowercase to account for sortTable definitions\n",
       "    }\n",
       "    \n",
       "function sortTable(columnName) {\n",
       "  const table = document.getElementById('sportsTable');\n",
       "  // constant calls the tableID that was previously defined\n",
       "  const rows = Array.from(table.tBodies[0].getElementsByTagName('tr'));\n",
       "  const headerRow = table.getElementsByTagName('thead')[0].getElementsByTagName('tr')[0];\n",
       "  const isAscending = !headerRow.classList.contains('asc');\n",
       "  // this is a very important line - the asc class helps the function decide whether or not the column is going to be sorted in increasing order or decreasing order.\n",
       "  \n",
       "  rows.sort((rowA, rowB) => {\n",
       "    let cellA = rowA.querySelector(`td:nth-child(${getColumnIndex(columnName)})`).innerText;\n",
       "    let cellB = rowB.querySelector(`td:nth-child(${getColumnIndex(columnName)})`).innerText;\n",
       "    // the nth-child selector is different from normal JS arrays, these have an index starting at 1 rather than 0\n",
       "    // the rows are sorted based on the column. getColumnIndex is used to get the index of the column. \n",
       "\n",
       "    if (columnName.toLowerCase() === 'name' || columnName.toLowerCase() === 'team') {\n",
       "      return isAscending ? cellA.localeCompare(cellB, undefined, { sensitivity: 'base' }) : cellB.localeCompare(cellA, undefined, { sensitivity: 'base' });\n",
       "    }\n",
       "    \n",
       "    // these were for special situations. the name and team columns were not sorting properly, so the localeCompare was used to sort the rows alphabetically. \n",
       "\n",
       "    // Convert the cell values to numbers for the \"Games Played\" column\n",
       "    if (columnName.toLowerCase() === 'games played') {\n",
       "      cellA = parseInt(cellA);\n",
       "      cellB = parseInt(cellB);\n",
       "    }\n",
       "    \n",
       "    // games played was not sorting for some odd reason, which is why this if statement was added.\n",
       "    // purpose is to parse the values as an integer and then sort numerically. \n",
       "    \n",
       "    return isAscending ? cellA - cellB : cellB - cellA;\n",
       "  });\n",
       "  \n",
       "  rows.forEach(row => table.tBodies[0].appendChild(row));\n",
       "  headerRow.classList.toggle('asc');\n",
       "  // this is meant for after sorting. after the sorting is done, the appendChild is meant to append these cell values back into the specified table.\n",
       "}\n",
       "\n",
       "  </script>\n"
      ],
      "text/plain": [
       "<IPython.core.display.HTML object>"
      ]
     },
     "metadata": {},
     "output_type": "display_data"
    }
   ],
   "source": [
    "%%html\n",
    "# defines the tableID that is going to be referred to in the future\n",
    "<table id=\"sportsTable\">\n",
    "    <thead>\n",
    "      <tr>\n",
    "        # these are the sortTable functions for each of the columns. the onclick allows for on click of the table header. \n",
    "        <th onclick=\"sortTable('assists per game')\">Assists Per Game</th>\n",
    "        <th onclick=\"sortTable('minutes per game')\">Minutes Per Game</th>\n",
    "        <th onclick=\"sortTable('blocks per game')\">Blocks Per Game</th>\n",
    "        <th onclick=\"sortTable('defensive rebounds')\">Defensive Rebounds</th>\n",
    "        <th onclick=\"sortTable('fg percent')\">FG Percent</th>\n",
    "        <th onclick=\"sortTable('ft percent')\">FT Percent</th>\n",
    "        <th onclick=\"sortTable('games played')\">Games Played</th>\n",
    "        <th onclick=\"sortTable('height (inches)')\">Height (inches)</th>\n",
    "        <th onclick=\"sortTable('name')\">Name</th>\n",
    "        <th onclick=\"sortTable('offensive rebounds')\">Offensive Rebounds</th>\n",
    "        <th onclick=\"sortTable('points per game')\">Points Per Game</th>\n",
    "        <th onclick=\"sortTable('steals per game')\">Steals Per Game</th>\n",
    "        <th onclick=\"sortTable('team')\">Team</th>\n",
    "        <th onclick=\"sortTable('three percent')\">Three Percent</th>\n",
    "        <th onclick=\"sortTable('weight (pounds)')\">Weight (pounds)</th>\n",
    "      </tr>\n",
    "    </thead>\n",
    "    <tbody>\n",
    "    # sample data following on frontend, just for demo.\n",
    "      <tr>\n",
    "        <td>2</td>\n",
    "        <td>35</td>\n",
    "        <td>1</td>\n",
    "        <td>5</td>\n",
    "        <td>44</td>\n",
    "        <td>88</td>\n",
    "        <td>1421</td>\n",
    "        <td>81</td>\n",
    "        <td>LeBron James</td>\n",
    "        <td>6</td>\n",
    "        <td>28</td>\n",
    "        <td>1</td>\n",
    "        <td>Los Angeles Lakers</td>\n",
    "        <td>24</td>\n",
    "        <td>250</td>\n",
    "      </tr>\n",
    "      <tr>\n",
    "        <td>3</td>\n",
    "        <td>32</td>\n",
    "        <td>2</td>\n",
    "        <td>6</td>\n",
    "        <td>55</td>\n",
    "        <td>92</td>\n",
    "        <td>1231</td>\n",
    "        <td>75</td>\n",
    "        <td>Steph Curry</td>\n",
    "        <td>5</td>\n",
    "        <td>29</td>\n",
    "        <td>1</td>\n",
    "        <td>Golden State Warriors</td>\n",
    "        <td>34</td>\n",
    "        <td>185</td>\n",
    "      </tr>\n",
    "  </table>\n",
    "  \n",
    "  <script>\n",
    "    // sortTable function meant to sort based on each column header.\n",
    "    function getColumnIndex(columnName) {\n",
    "      // each column name is taken in columnName to get its index.\n",
    "      const table = document.getElementById('sportsTable');\n",
    "      const headerRow = table.getElementsByTagName('thead')[0].getElementsByTagName('tr')[0];\n",
    "      // contains the column headers, index 0\n",
    "      const headers = Array.from(headerRow.getElementsByTagName('th'));\n",
    "      return headers.findIndex(header => header.innerText.toLowerCase() === columnName.toLowerCase()) + 1;\n",
    "      // converts column header names to lowercase to account for sortTable definitions\n",
    "    }\n",
    "    \n",
    "function sortTable(columnName) {\n",
    "  const table = document.getElementById('sportsTable');\n",
    "  // constant calls the tableID that was previously defined\n",
    "  const rows = Array.from(table.tBodies[0].getElementsByTagName('tr'));\n",
    "  const headerRow = table.getElementsByTagName('thead')[0].getElementsByTagName('tr')[0];\n",
    "  const isAscending = !headerRow.classList.contains('asc');\n",
    "  // this is a very important line - the asc class helps the function decide whether or not the column is going to be sorted in increasing order or decreasing order.\n",
    "  \n",
    "  rows.sort((rowA, rowB) => {\n",
    "    let cellA = rowA.querySelector(`td:nth-child(${getColumnIndex(columnName)})`).innerText;\n",
    "    let cellB = rowB.querySelector(`td:nth-child(${getColumnIndex(columnName)})`).innerText;\n",
    "    // the nth-child selector is different from normal JS arrays, these have an index starting at 1 rather than 0\n",
    "    // the rows are sorted based on the column. getColumnIndex is used to get the index of the column. \n",
    "\n",
    "    if (columnName.toLowerCase() === 'name' || columnName.toLowerCase() === 'team') {\n",
    "      return isAscending ? cellA.localeCompare(cellB, undefined, { sensitivity: 'base' }) : cellB.localeCompare(cellA, undefined, { sensitivity: 'base' });\n",
    "    }\n",
    "    \n",
    "    // these were for special situations. the name and team columns were not sorting properly, so the localeCompare was used to sort the rows alphabetically. \n",
    "\n",
    "    // Convert the cell values to numbers for the \"Games Played\" column\n",
    "    if (columnName.toLowerCase() === 'games played') {\n",
    "      cellA = parseInt(cellA);\n",
    "      cellB = parseInt(cellB);\n",
    "    }\n",
    "    \n",
    "    // games played was not sorting for some odd reason, which is why this if statement was added.\n",
    "    // purpose is to parse the values as an integer and then sort numerically. \n",
    "    \n",
    "    return isAscending ? cellA - cellB : cellB - cellA;\n",
    "  });\n",
    "  \n",
    "  rows.forEach(row => table.tBodies[0].appendChild(row));\n",
    "  headerRow.classList.toggle('asc');\n",
    "  // this is meant for after sorting. after the sorting is done, the appendChild is meant to append these cell values back into the specified table.\n",
    "}\n",
    "\n",
    "  </script>"
   ]
  },
  {
   "cell_type": "markdown",
   "metadata": {},
   "source": [
    "## CSA Goals & Programming Goals"
   ]
  },
  {
   "cell_type": "markdown",
   "metadata": {},
   "source": [
    "I think that next year in CSA, my main goal is going to be to approach assignments and projects with a much more **open-ended approach**.\n",
    "\n",
    "This year with CSP, I was working to solely fulfill the requirements, and I was not looking at the very vast variety of project types that I could take on.\n",
    "\n",
    "Next year with CSA, I hope to go much more in-depth into **machine learning**, and I want to approach assignments in a much more open-minded way. \n",
    "\n",
    "Next year, I also have to be much more **independent**, as this year, I had a lot of cleaning up after other people's messes in groups and such - I want to be more of a free programmer next year, while still being able to work and collaborate in teams.\n",
    "\n",
    "\n",
    "These are the projects that I want to work on over the summer and moving into next year:\n",
    "\n",
    "1. Throughout the past 15 years, my mom has had **serious thyroid issues**. It has impacted her way of life drastically and has forced her out of living her life to its fullest. I would like to research and work on an ML related project which can recognize symptoms of these issues in order to give a **preliminary diagnosis** so that it can be treated earlier on.\n",
    "\n",
    "2. I am currently working on a Data Science course for getting the CompTIA Data+ Certification, a certification that most people with 18-24 months of experience in the data science industry take to gain more skills. I want to finish the course and pass the test to earn the certification so that I can develop a curriculum that can be used in an AP CSP classroom. We focused on DBs a lot during CSP this year, so I feel that the information I learn from this course can be a valuable addition to that focus area."
   ]
  }
 ],
 "metadata": {
  "kernelspec": {
   "display_name": "Python 3 (ipykernel)",
   "language": "python",
   "name": "python3"
  },
  "language_info": {
   "codemirror_mode": {
    "name": "ipython",
    "version": 3
   },
   "file_extension": ".py",
   "mimetype": "text/x-python",
   "name": "python",
   "nbconvert_exporter": "python",
   "pygments_lexer": "ipython3",
   "version": "3.9.12"
  }
 },
 "nbformat": 4,
 "nbformat_minor": 2
}
