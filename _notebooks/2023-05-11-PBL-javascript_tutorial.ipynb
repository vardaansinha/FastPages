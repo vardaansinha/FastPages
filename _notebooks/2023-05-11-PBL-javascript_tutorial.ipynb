{
 "cells": [
  {
   "cell_type": "markdown",
   "metadata": {},
   "source": [
    "# JavaScript Tutorial\n",
    "> Quick launch into Variables, Functions, Arrays, Classes, HTML.\n",
    "\n",
    "- layout: default\n",
    "- toc: true\n",
    "- badges: false\n",
    "- week: 33"
   ]
  },
  {
   "cell_type": "markdown",
   "metadata": {},
   "source": [
    "## Hacks\n",
    "> One key to these hacks is to build confidence with me going into final grade, I would like to see each student adapt this frontend work in their final project.  Second key is the finished work can serve as review for the course, notes for the future in relationship to frontend.\n",
    "- Adapt this tutorial to your own work\n",
    "- Consider what you need to work on to be stronger developer\n",
    "- Show something creative or unique, no cloning\n",
    "- Be ready to talk to Teacher for 5 to 10 minutes. Individually!!!\n",
    "- Show in Jupyter Notebook during discussion, show Theme and ChatGPT\n",
    "- Have a runtime final in GithHub Pages (or Fastpage)"
   ]
  },
  {
   "cell_type": "markdown",
   "metadata": {},
   "source": [
    "## Output Explored"
   ]
  },
  {
   "cell_type": "code",
   "execution_count": 9,
   "metadata": {},
   "outputs": [
    {
     "data": {
      "application/javascript": "element.append(\"Hi there.\");\n\n// Browser Console output; debugging or tracing\nelement.append(\" I am talking to Mr. Mortensen right now.\");\nelement.append(\" I am taking AP CSA next year.\");\n",
      "text/plain": [
       "<IPython.core.display.Javascript object>"
      ]
     },
     "metadata": {},
     "output_type": "display_data"
    }
   ],
   "source": [
    "%%js // required to allow cell to be JavaScript enabled\n",
    "element.append(\"Hi there.\");\n",
    "\n",
    "// Browser Console output; debugging or tracing\n",
    "element.append(\" I am talking to Mr. Mortensen right now.\");\n",
    "element.append(\" I am taking AP CSA next year.\");\n"
   ]
  },
  {
   "cell_type": "markdown",
   "metadata": {},
   "source": [
    "## Multiple Outputs using One Variable"
   ]
  },
  {
   "cell_type": "code",
   "execution_count": 1,
   "metadata": {},
   "outputs": [
    {
     "data": {
      "application/javascript": "console.log(\"Multiple Outputs Using One Variable\");\n\nvar msg = \"I am defining the variable msg here.\";\n\n// Use msg to output code to Console and Jupyter Notebook\nconsole.log(msg);  //right click browser select Inspect, then select Console to view\nelement.text(msg);\n//alert(msg);\n",
      "text/plain": [
       "<IPython.core.display.Javascript object>"
      ]
     },
     "metadata": {},
     "output_type": "display_data"
    }
   ],
   "source": [
    "%%js\n",
    "console.log(\"Multiple Outputs Using One Variable\");\n",
    "\n",
    "var msg = \"I am defining the variable msg here.\";\n",
    "\n",
    "// Use msg to output code to Console and Jupyter Notebook\n",
    "console.log(msg);  //right click browser select Inspect, then select Console to view\n",
    "element.text(msg);\n",
    "//alert(msg);"
   ]
  },
  {
   "cell_type": "markdown",
   "metadata": {},
   "source": [
    "## Building a Person Object and JSON"
   ]
  },
  {
   "cell_type": "code",
   "execution_count": 7,
   "metadata": {},
   "outputs": [
    {
     "data": {
      "text/html": [
       "<!-- load jQuery and tablesorter scripts -->\n",
       "<html>\n",
       "    <head>\n",
       "        <!-- load jQuery and tablesorter scripts -->\n",
       "        <script src=\"https://ajax.googleapis.com/ajax/libs/jquery/3.6.0/jquery.min.js\"></script>\n",
       "        <script src=\"https://cdnjs.cloudflare.com/ajax/libs/jquery.tablesorter/2.31.3/js/jquery.tablesorter.min.js\"></script>\n",
       "    </head>\n",
       "\n",
       "    <body>\n",
       "        <table id=\"jsonTable\">\n",
       "            <thead>\n",
       "                <tr>\n",
       "                    <th>NBA PLAYER JSON Data</th>\n",
       "                </tr>\n",
       "            </thead>\n",
       "            <tbody>\n",
       "                <tr>\n",
       "                    <td id=\"jsonText\">{\n",
       "                        \"player\": [\n",
       "                          {\n",
       "                            \"name\": \"LeBron James\",\n",
       "                            \"team\": \"Los Angeles Lakers\",\n",
       "                            \"ppg\": 28,\n",
       "                          },\n",
       "                          {\n",
       "                            \"name\": \"Steph Curry\",\n",
       "                            \"team\": \"Golden State Warriors\",\n",
       "                            \"ppg\": 30,\n",
       "                          },\n",
       "                        ]\n",
       "                      }\n",
       "                      </td>\n",
       "                </tr>\n",
       "            </tbody>\n",
       "        </table>\n",
       "\n",
       "    </body>\n",
       "</html>\n"
      ],
      "text/plain": [
       "<IPython.core.display.HTML object>"
      ]
     },
     "metadata": {},
     "output_type": "display_data"
    }
   ],
   "source": [
    "%%html\n",
    "<!-- load jQuery and tablesorter scripts -->\n",
    "<html>\n",
    "    <head>\n",
    "        <!-- load jQuery and tablesorter scripts -->\n",
    "        <script src=\"https://ajax.googleapis.com/ajax/libs/jquery/3.6.0/jquery.min.js\"></script>\n",
    "        <script src=\"https://cdnjs.cloudflare.com/ajax/libs/jquery.tablesorter/2.31.3/js/jquery.tablesorter.min.js\"></script>\n",
    "    </head>\n",
    "\n",
    "    <body>\n",
    "        <table id=\"jsonTable\">\n",
    "            <thead>\n",
    "                <tr>\n",
    "                    <th>NBA PLAYER JSON Data</th>\n",
    "                </tr>\n",
    "            </thead>\n",
    "            <tbody>\n",
    "                <tr>\n",
    "                    <td id=\"jsonText\">{\n",
    "                        \"player\": [\n",
    "                          {\n",
    "                            \"name\": \"LeBron James\",\n",
    "                            \"team\": \"Los Angeles Lakers\",\n",
    "                            \"ppg\": 28,\n",
    "                          },\n",
    "                          {\n",
    "                            \"name\": \"Steph Curry\",\n",
    "                            \"team\": \"Golden State Warriors\",\n",
    "                            \"ppg\": 30,\n",
    "                          },\n",
    "                        ]\n",
    "                      }\n",
    "                      </td>\n",
    "                </tr>\n",
    "            </tbody>\n",
    "        </table>\n",
    "\n",
    "    </body>\n",
    "</html>"
   ]
  },
  {
   "cell_type": "markdown",
   "metadata": {},
   "source": [
    "## Project Usage: JavaScript Sorting"
   ]
  },
  {
   "cell_type": "code",
   "execution_count": 4,
   "metadata": {},
   "outputs": [
    {
     "data": {
      "text/html": [
       "<table id=\"sportsTable\">\n",
       "    <thead>\n",
       "      <tr>\n",
       "        <th onclick=\"sortTable('assists per game')\">Assists Per Game</th>\n",
       "        <th onclick=\"sortTable('minutes per game')\">Minutes Per Game</th>\n",
       "        <th onclick=\"sortTable('blocks per game')\">Blocks Per Game</th>\n",
       "        <th onclick=\"sortTable('defensive rebounds')\">Defensive Rebounds</th>\n",
       "        <th onclick=\"sortTable('fg percent')\">FG Percent</th>\n",
       "        <th onclick=\"sortTable('ft percent')\">FT Percent</th>\n",
       "        <th onclick=\"sortTable('games played')\">Games Played</th>\n",
       "        <th onclick=\"sortTable('height (inches)')\">Height (inches)</th>\n",
       "        <th onclick=\"sortTable('name')\">Name</th>\n",
       "        <th onclick=\"sortTable('offensive rebounds')\">Offensive Rebounds</th>\n",
       "        <th onclick=\"sortTable('points per game')\">Points Per Game</th>\n",
       "        <th onclick=\"sortTable('steals per game')\">Steals Per Game</th>\n",
       "        <th onclick=\"sortTable('team')\">Team</th>\n",
       "        <th onclick=\"sortTable('three percent')\">Three Percent</th>\n",
       "        <th onclick=\"sortTable('weight (pounds)')\">Weight (pounds)</th>\n",
       "      </tr>\n",
       "    </thead>\n",
       "    <tbody>\n",
       "      <tr>\n",
       "        <td>2</td>\n",
       "        <td>35</td>\n",
       "        <td>1</td>\n",
       "        <td>5</td>\n",
       "        <td>44</td>\n",
       "        <td>88</td>\n",
       "        <td>1421</td>\n",
       "        <td>81</td>\n",
       "        <td>LeBron James</td>\n",
       "        <td>6</td>\n",
       "        <td>28</td>\n",
       "        <td>1</td>\n",
       "        <td>Los Angeles Lakers</td>\n",
       "        <td>24</td>\n",
       "        <td>250</td>\n",
       "      </tr>\n",
       "      <tr>\n",
       "        <td>3</td>\n",
       "        <td>32</td>\n",
       "        <td>2</td>\n",
       "        <td>6</td>\n",
       "        <td>55</td>\n",
       "        <td>92</td>\n",
       "        <td>1231</td>\n",
       "        <td>75</td>\n",
       "        <td>Steph Curry</td>\n",
       "        <td>5</td>\n",
       "        <td>29</td>\n",
       "        <td>1</td>\n",
       "        <td>Golden State Warriors</td>\n",
       "        <td>34</td>\n",
       "        <td>185</td>\n",
       "      </tr>\n",
       "  </table>\n",
       "  \n",
       "  <script>\n",
       "    // Function to sort the table based on the selected column\n",
       "function sortTable(columnName) {\n",
       "  const table = document.getElementById('sportsTable');\n",
       "  const rows = Array.from(table.tBodies[0].getElementsByTagName('tr'));\n",
       "  const headerRow = table.getElementsByTagName('thead')[0].getElementsByTagName('tr')[0];\n",
       "  const isAscending = !headerRow.classList.contains('asc');\n",
       "  \n",
       "  rows.sort((rowA, rowB) => {\n",
       "    let cellA = rowA.querySelector(`td:nth-child(${getColumnIndex(columnName)})`).innerText;\n",
       "    let cellB = rowB.querySelector(`td:nth-child(${getColumnIndex(columnName)})`).innerText;\n",
       "\n",
       "    if (columnName.toLowerCase() === 'name' || columnName.toLowerCase() === 'team') {\n",
       "      return isAscending ? cellA.localeCompare(cellB, undefined, { sensitivity: 'base' }) : cellB.localeCompare(cellA, undefined, { sensitivity: 'base' });\n",
       "    }\n",
       "\n",
       "    // Convert the cell values to numbers for the \"Games Played\" column\n",
       "    if (columnName.toLowerCase() === 'games played') {\n",
       "      cellA = parseInt(cellA);\n",
       "      cellB = parseInt(cellB);\n",
       "    }\n",
       "    \n",
       "    return isAscending ? cellA - cellB : cellB - cellA;\n",
       "  });\n",
       "  \n",
       "  rows.forEach(row => table.tBodies[0].appendChild(row));\n",
       "  headerRow.classList.toggle('asc');\n",
       "}\n",
       "\n",
       "\n",
       "  \n",
       "    // Helper function to get the index of the selected column\n",
       "    function getColumnIndex(columnName) {\n",
       "      const table = document.getElementById('sportsTable');\n",
       "      const headerRow = table.getElementsByTagName('thead')[0].getElementsByTagName('tr')[0];\n",
       "      const headers = Array.from(headerRow.getElementsByTagName('th'));\n",
       "      \n",
       "      return headers.findIndex(header => header.innerText.toLowerCase() === columnName.toLowerCase()) + 1;\n",
       "    }\n",
       "  </script>\n"
      ],
      "text/plain": [
       "<IPython.core.display.HTML object>"
      ]
     },
     "metadata": {},
     "output_type": "display_data"
    }
   ],
   "source": [
    "%%html\n",
    "<table id=\"sportsTable\">\n",
    "    <thead>\n",
    "      <tr>\n",
    "        <th onclick=\"sortTable('assists per game')\">Assists Per Game</th>\n",
    "        <th onclick=\"sortTable('minutes per game')\">Minutes Per Game</th>\n",
    "        <th onclick=\"sortTable('blocks per game')\">Blocks Per Game</th>\n",
    "        <th onclick=\"sortTable('defensive rebounds')\">Defensive Rebounds</th>\n",
    "        <th onclick=\"sortTable('fg percent')\">FG Percent</th>\n",
    "        <th onclick=\"sortTable('ft percent')\">FT Percent</th>\n",
    "        <th onclick=\"sortTable('games played')\">Games Played</th>\n",
    "        <th onclick=\"sortTable('height (inches)')\">Height (inches)</th>\n",
    "        <th onclick=\"sortTable('name')\">Name</th>\n",
    "        <th onclick=\"sortTable('offensive rebounds')\">Offensive Rebounds</th>\n",
    "        <th onclick=\"sortTable('points per game')\">Points Per Game</th>\n",
    "        <th onclick=\"sortTable('steals per game')\">Steals Per Game</th>\n",
    "        <th onclick=\"sortTable('team')\">Team</th>\n",
    "        <th onclick=\"sortTable('three percent')\">Three Percent</th>\n",
    "        <th onclick=\"sortTable('weight (pounds)')\">Weight (pounds)</th>\n",
    "      </tr>\n",
    "    </thead>\n",
    "    <tbody>\n",
    "      <tr>\n",
    "        <td>2</td>\n",
    "        <td>35</td>\n",
    "        <td>1</td>\n",
    "        <td>5</td>\n",
    "        <td>44</td>\n",
    "        <td>88</td>\n",
    "        <td>1421</td>\n",
    "        <td>81</td>\n",
    "        <td>LeBron James</td>\n",
    "        <td>6</td>\n",
    "        <td>28</td>\n",
    "        <td>1</td>\n",
    "        <td>Los Angeles Lakers</td>\n",
    "        <td>24</td>\n",
    "        <td>250</td>\n",
    "      </tr>\n",
    "      <tr>\n",
    "        <td>3</td>\n",
    "        <td>32</td>\n",
    "        <td>2</td>\n",
    "        <td>6</td>\n",
    "        <td>55</td>\n",
    "        <td>92</td>\n",
    "        <td>1231</td>\n",
    "        <td>75</td>\n",
    "        <td>Steph Curry</td>\n",
    "        <td>5</td>\n",
    "        <td>29</td>\n",
    "        <td>1</td>\n",
    "        <td>Golden State Warriors</td>\n",
    "        <td>34</td>\n",
    "        <td>185</td>\n",
    "      </tr>\n",
    "  </table>\n",
    "  \n",
    "  <script>\n",
    "    // Function to sort the table based on the selected column\n",
    "function sortTable(columnName) {\n",
    "  const table = document.getElementById('sportsTable');\n",
    "  const rows = Array.from(table.tBodies[0].getElementsByTagName('tr'));\n",
    "  const headerRow = table.getElementsByTagName('thead')[0].getElementsByTagName('tr')[0];\n",
    "  const isAscending = !headerRow.classList.contains('asc');\n",
    "  \n",
    "  rows.sort((rowA, rowB) => {\n",
    "    let cellA = rowA.querySelector(`td:nth-child(${getColumnIndex(columnName)})`).innerText;\n",
    "    let cellB = rowB.querySelector(`td:nth-child(${getColumnIndex(columnName)})`).innerText;\n",
    "\n",
    "    if (columnName.toLowerCase() === 'name' || columnName.toLowerCase() === 'team') {\n",
    "      return isAscending ? cellA.localeCompare(cellB, undefined, { sensitivity: 'base' }) : cellB.localeCompare(cellA, undefined, { sensitivity: 'base' });\n",
    "    }\n",
    "\n",
    "    // Convert the cell values to numbers for the \"Games Played\" column\n",
    "    if (columnName.toLowerCase() === 'games played') {\n",
    "      cellA = parseInt(cellA);\n",
    "      cellB = parseInt(cellB);\n",
    "    }\n",
    "    \n",
    "    return isAscending ? cellA - cellB : cellB - cellA;\n",
    "  });\n",
    "  \n",
    "  rows.forEach(row => table.tBodies[0].appendChild(row));\n",
    "  headerRow.classList.toggle('asc');\n",
    "}\n",
    "\n",
    "\n",
    "  \n",
    "    // Helper function to get the index of the selected column\n",
    "    function getColumnIndex(columnName) {\n",
    "      const table = document.getElementById('sportsTable');\n",
    "      const headerRow = table.getElementsByTagName('thead')[0].getElementsByTagName('tr')[0];\n",
    "      const headers = Array.from(headerRow.getElementsByTagName('th'));\n",
    "      \n",
    "      return headers.findIndex(header => header.innerText.toLowerCase() === columnName.toLowerCase()) + 1;\n",
    "    }\n",
    "  </script>"
   ]
  },
  {
   "cell_type": "markdown",
   "metadata": {},
   "source": [
    "## CSA Goals & Programming Goals"
   ]
  },
  {
   "cell_type": "markdown",
   "metadata": {},
   "source": [
    "I think that next year in CSA, my main goal is going to be to approach assignments and projects with a much more **open-ended approach**.\n",
    "\n",
    "This year with CSP, I was working to solely fulfill the requirements, and I was not looking at the very vast variety of project types that I could take on.\n",
    "\n",
    "Next year with CSA, I hope to go much more in-depth into **machine learning**, and I want to approach assignments in a much more open-minded way. \n",
    "\n",
    "Next year, I also have to be much more **independent**, as this year, I had a lot of cleaning up after other people's messes in groups and such - I want to be more of a free programmer next year, while still being able to work and collaborate in teams."
   ]
  }
 ],
 "metadata": {
  "kernelspec": {
   "display_name": "Python 3 (ipykernel)",
   "language": "python",
   "name": "python3"
  },
  "language_info": {
   "codemirror_mode": {
    "name": "ipython",
    "version": 3
   },
   "file_extension": ".py",
   "mimetype": "text/x-python",
   "name": "python",
   "nbconvert_exporter": "python",
   "pygments_lexer": "ipython3",
   "version": "3.9.12"
  }
 },
 "nbformat": 4,
 "nbformat_minor": 2
}
