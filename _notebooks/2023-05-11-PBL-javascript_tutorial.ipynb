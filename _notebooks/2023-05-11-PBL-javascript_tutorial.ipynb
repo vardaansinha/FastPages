{
 "cells": [
  {
   "attachments": {},
   "cell_type": "markdown",
   "metadata": {},
   "source": [
    "# JavaScript Tutorial\n",
    "> Quick launch into Variables, Functions, Arrays, Classes, HTML.\n",
    "\n",
    "- layout: default\n",
    "- toc: true\n",
    "- badges: false\n",
    "- week: 33"
   ]
  },
  {
   "attachments": {},
   "cell_type": "markdown",
   "metadata": {},
   "source": [
    "## Hacks\n",
    "> One key to these hacks is to build confidence with me going into final grade, I would like to see each student adapt this frontend work in their final project.  Second key is the finished work can serve as review for the course, notes for the future in relationship to frontend.\n",
    "- Adapt this tutorial to your own work\n",
    "- Consider what you need to work on to be stronger developer\n",
    "- Show something creative or unique, no cloning\n",
    "- Be ready to talk to Teacher for 5 to 10 minutes. Individually!!!\n",
    "- Show in Jupyter Notebook during discussion, show Theme and ChatGPT\n",
    "- Have a runtime final in GithHub Pages (or Fastpage)"
   ]
  },
  {
   "attachments": {},
   "cell_type": "markdown",
   "metadata": {},
   "source": [
    "## RapidAPI Usage"
   ]
  },
  {
   "cell_type": "code",
   "execution_count": null,
   "metadata": {},
   "outputs": [],
   "source": [
    "%%html\n",
    "<head>\n",
    "  <link rel=\"stylesheet\" type=\"text/css\" href=\"https://cdn.datatables.net/1.10.25/css/jquery.dataTables.min.css\">\n",
    "  <script type=\"text/javascript\" language=\"javascript\" src=\"https://code.jquery.com/jquery-3.6.0.min.js\"></script>\n",
    "  <script type=\"text/javascript\" language=\"javascript\" src=\"https://cdn.datatables.net/1.10.25/js/jquery.dataTables.min.js\"></script>\n",
    "</head>\n",
    "\n",
    "<table id=\"table\" class=\"table\">\n",
    "  <thead id=\"head\">\n",
    "      <tr>\n",
    "          <th>ID</th>\n",
    "          <th>Breed</th>\n",
    "          <th>Image</th>\n",
    "          \n",
    "      </tr>\n",
    "  </thead>\n",
    "  <tbody id=\"body\"></tbody>\n",
    "</table>\n",
    "\n",
    "<script>\n",
    "\n",
    "const settings = {\n",
    "\tasync: true,\n",
    "\tcrossDomain: true,\n",
    "\turl: 'https://dog-api.p.rapidapi.com/list/all',\n",
    "\tmethod: 'GET',\n",
    "\theaders: {\n",
    "\t\t'X-RapidAPI-Key': '115318933dmsh6d4dd26b9c05b57p138eb6jsn5766c7fe61da',\n",
    "\t\t'X-RapidAPI-Host': 'dog-api.p.rapidapi.com'\n",
    "\t}\n",
    "};\n",
    "\n",
    "$.ajax(settings).done(function (response) {\n",
    "\tconsole.log(response)\n",
    "  for (const row of response) {\n",
    "    $('#body').append('<tr><td>' + \n",
    "        row.id + '</td><td>' + \n",
    "        row.breed + '</td><td>' + \n",
    "        '<img src=\"' + row.img +'\">' + '</td><td>' + \n",
    "        '<a href=\"' + row.url + '\">' + row.url + '</a>' + '</td></tr>');\n",
    "  }\n",
    "  $(\"#table\").DataTable();\n",
    "});\n",
    "</script>\n",
    "\n"
   ]
  },
  {
   "attachments": {},
   "cell_type": "markdown",
   "metadata": {},
   "source": [
    "## Project Usage: JavaScript Sorting"
   ]
  },
  {
   "attachments": {},
   "cell_type": "markdown",
   "metadata": {},
   "source": [
    "## CSA Goals & Programming Goals"
   ]
  }
 ],
 "metadata": {
  "kernelspec": {
   "display_name": "Python 3",
   "language": "python",
   "name": "python3"
  },
  "language_info": {
   "codemirror_mode": {
    "name": "ipython",
    "version": 3
   },
   "file_extension": ".py",
   "mimetype": "text/x-python",
   "name": "python",
   "nbconvert_exporter": "python",
   "pygments_lexer": "ipython3",
   "version": "3.9.12"
  },
  "orig_nbformat": 4
 },
 "nbformat": 4,
 "nbformat_minor": 2
}
