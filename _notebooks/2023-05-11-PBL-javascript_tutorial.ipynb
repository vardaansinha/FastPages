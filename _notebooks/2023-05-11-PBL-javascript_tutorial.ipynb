{
 "cells": [
  {
   "attachments": {},
   "cell_type": "markdown",
   "metadata": {},
   "source": [
    "# JavaScript Tutorial\n",
    "> Quick launch into Variables, Functions, Arrays, Classes, HTML.\n",
    "\n",
    "- layout: default\n",
    "- toc: true\n",
    "- badges: false\n",
    "- week: 33"
   ]
  },
  {
   "attachments": {},
   "cell_type": "markdown",
   "metadata": {},
   "source": [
    "## Hacks\n",
    "> One key to these hacks is to build confidence with me going into final grade, I would like to see each student adapt this frontend work in their final project.  Second key is the finished work can serve as review for the course, notes for the future in relationship to frontend.\n",
    "- Adapt this tutorial to your own work\n",
    "- Consider what you need to work on to be stronger developer\n",
    "- Show something creative or unique, no cloning\n",
    "- Be ready to talk to Teacher for 5 to 10 minutes. Individually!!!\n",
    "- Show in Jupyter Notebook during discussion, show Theme and ChatGPT\n",
    "- Have a runtime final in GithHub Pages (or Fastpage)"
   ]
  },
  {
   "cell_type": "code",
   "execution_count": 1,
   "metadata": {},
   "outputs": [
    {
     "data": {
      "text/html": [
       "<head>\n",
       "  <link rel=\"stylesheet\" type=\"text/css\" href=\"https://cdn.datatables.net/1.10.25/css/jquery.dataTables.min.css\">\n",
       "  <script type=\"text/javascript\" language=\"javascript\" src=\"https://code.jquery.com/jquery-3.6.0.min.js\"></script>\n",
       "  <script type=\"text/javascript\" language=\"javascript\" src=\"https://cdn.datatables.net/1.10.25/js/jquery.dataTables.min.js\"></script>\n",
       "</head>\n",
       "<table id=\"table\" class=\"table\">\n",
       "  <thead id=\"head\">\n",
       "      <tr>\n",
       "          <th>ID</th>\n",
       "          <th>Breed</th>\n",
       "          <th>Other Names</th>\n",
       "          <th>Origin</th>\n",
       "          <th>Image</th>\n",
       "          <th>Info</th>\n",
       "      </tr>\n",
       "  </thead>\n",
       "  <tbody id=\"body\"></tbody>\n",
       "</table>\n",
       "\n",
       "<script>\n",
       "const settings = {\n",
       "\tasync: true,\n",
       "\tcrossDomain: true,\n",
       "\turl: 'https://dog-breeds2.p.rapidapi.com/dog_breeds',\n",
       "\tmethod: 'GET',\n",
       "\theaders: {\n",
       "\t\t'X-RapidAPI-Key': '701410bf7emshbaf1fa99b2e4e5bp1c0ee6jsn8f8f51602e3f',\n",
       "\t\t'X-RapidAPI-Host': 'dog-breeds2.p.rapidapi.com'\n",
       "\t}\n",
       "};\n",
       "\n",
       "$.ajax(settings).done(function (response) {\n",
       "\tconsole.log(response)\n",
       "  for (const row of response) {\n",
       "    $('#body').append('<tr><td>' + \n",
       "        row.id + '</td><td>' + \n",
       "        row.breed + '</td><td>' + \n",
       "        row.meta.other_names + '</td><td>' +\n",
       "        row.origin + '</td><td>' + \n",
       "        '<img src=\"' + row.img +'\">' + '</td><td>' + \n",
       "        '<a href=\"' + row.url + '\">' + row.url + '</a>' + '</td></tr>');\n",
       "  }\n",
       "  $(\"#table\").DataTable();\n",
       "});\n",
       "</script>\n"
      ],
      "text/plain": [
       "<IPython.core.display.HTML object>"
      ]
     },
     "metadata": {},
     "output_type": "display_data"
    }
   ],
   "source": [
    "%%html\n",
    "<head>\n",
    "  <link rel=\"stylesheet\" type=\"text/css\" href=\"https://cdn.datatables.net/1.10.25/css/jquery.dataTables.min.css\">\n",
    "  <script type=\"text/javascript\" language=\"javascript\" src=\"https://code.jquery.com/jquery-3.6.0.min.js\"></script>\n",
    "  <script type=\"text/javascript\" language=\"javascript\" src=\"https://cdn.datatables.net/1.10.25/js/jquery.dataTables.min.js\"></script>\n",
    "</head>\n",
    "<table id=\"table\" class=\"table\">\n",
    "  <thead id=\"head\">\n",
    "      <tr>\n",
    "          <th>ID</th>\n",
    "          <th>Player ID</th>\n",
    "          <th>Season</th>\n",
    "          <th>Game Type</th>\n",
    "\n",
    "      </tr>\n",
    "  </thead>\n",
    "  <tbody id=\"body\"></tbody>\n",
    "</table>\n",
    "\n",
    "<script>\n",
    "const settings = {\n",
    "\tasync: true,\n",
    "\tcrossDomain: true,\n",
    "\turl: 'https://mlb-data.p.rapidapi.com/json/named.player_teams.bam',\n",
    "\tmethod: 'GET',\n",
    "\theaders: {\n",
    "\t\t'X-RapidAPI-Key': '115318933dmsh6d4dd26b9c05b57p138eb6jsn5766c7fe61da',\n",
    "\t\t'X-RapidAPI-Host': 'mlb-data.p.rapidapi.com'\n",
    "\t}\n",
    "};\n",
    "\n",
    "$.ajax(settings).done(function (response) {\n",
    "\tconsole.log(response)\n",
    "  for (const row of response) {\n",
    "    $('#body').append('<tr><td>' + \n",
    "        row.id + '</td><td>' + \n",
    "        row.playerid + '</td><td>' + \n",
    "        row.season + '</td><td>' +\n",
    "        row.gametype + '</td><td>');\n",
    "  }\n",
    "  $(\"#table\").DataTable();\n",
    "});\n",
    "</script>"
   ]
  }
 ],
 "metadata": {
  "kernelspec": {
   "display_name": "Python 3",
   "language": "python",
   "name": "python3"
  },
  "language_info": {
   "codemirror_mode": {
    "name": "ipython",
    "version": 3
   },
   "file_extension": ".py",
   "mimetype": "text/x-python",
   "name": "python",
   "nbconvert_exporter": "python",
   "pygments_lexer": "ipython3",
   "version": "3.8.10"
  },
  "orig_nbformat": 4
 },
 "nbformat": 4,
 "nbformat_minor": 2
}
