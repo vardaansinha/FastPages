{
 "cells": [
  {
   "cell_type": "markdown",
   "metadata": {},
   "source": [
    "# \"Jupyter Notebook Experimentation\"\n",
    "> \"Bash in its truest form.\"\n",
    "\n",
    "- toc: true \n",
    "- badges: true\n",
    "- comments: true\n",
    "- categories: [jupyter,bash]\n",
    "- author: Vardaan Sinha"
   ]
  },
  {
   "cell_type": "code",
   "execution_count": 11,
   "metadata": {
    "vscode": {
     "languageId": "shellscript"
    }
   },
   "outputs": [
    {
     "name": "stdout",
     "output_type": "stream",
     "text": [
      "./Anaconda3-2022.05-Linux-x86_64.sh.1\n",
      "./Anaconda3-2022.05-Linux-x86_64.sh.2\n",
      "./Anaconda3-2022.05-Linux-x86_64.sh.3\n",
      "./Anaconda3-2022.05-Linux-x86_64.sh\n"
     ]
    }
   ],
   "source": [
    "# Verifying the Conda installation. Conda is a critical tool that will be used throughout AP CSP.\n",
    "\n",
    "cd ~\n",
    "find . -name Anaconda3-2022\\* \n",
    "\n",
    "# The above command utilized the 'find' feature of Bash in order to look for a file in the directory that we moved into with the phrase 'Anaconda3'.\n",
    "\n"
   ]
  },
  {
   "cell_type": "code",
   "execution_count": 12,
   "metadata": {
    "vscode": {
     "languageId": "shellscript"
    }
   },
   "outputs": [
    {
     "name": "stdout",
     "output_type": "stream",
     "text": [
      "Let's check if you have correctly formatted the names for your posts.\n",
      "-rw-r--r-- 1 vardaan vardaan  498 Aug 19 19:35 \u001b[01;31m\u001b[K2022\u001b[m\u001b[K-08-19-minor-markdown-post.md\n",
      "-rw-r--r-- 1 vardaan vardaan  759 Aug 28 17:20 \u001b[01;31m\u001b[K2022\u001b[m\u001b[K-08-22-work-post.md\n",
      "-rw-r--r-- 1 vardaan vardaan  760 Aug 28 17:43 \u001b[01;31m\u001b[K2022\u001b[m\u001b[K-08-28-pictures.md\n",
      "If all of your posts are showing up in the output, this means that you have properly formatted your post names with the year in the beginning.\n"
     ]
    }
   ],
   "source": [
    "\n",
    "echo \"Let's check if you have correctly formatted the names for your posts.\"\n",
    "cd ~\n",
    "cd ./vscode/FastPages/_posts\n",
    "ls -l | grep 2022\n",
    "# The ls -l command lists all files in a long list format. Grep is a feature used to filter files based on certain parts of the names of the file. It can also be used to find certain phrases, words, or characters INSIDE of a file.\n",
    "echo \"If all of your posts are showing up in the output, this means that you have properly formatted your post names with the year in the beginning.\""
   ]
  },
  {
   "cell_type": "code",
   "execution_count": 13,
   "metadata": {
    "vscode": {
     "languageId": "shellscript"
    }
   },
   "outputs": [
    {
     "name": "stdout",
     "output_type": "stream",
     "text": [
      "Let's show you how to use Bash to give you the contents of a specific file.\n",
      "Let's show the contents of my index.html file.\n",
      "\n",
      "---\n",
      "layout: home\n",
      "search_exclude: true\n",
      "image: images/logo.png\n",
      "---\n",
      "\n",
      "Welcome to Vardaan's FastPages site! To learn more about me, go to the About Me page, and feel free to check out some of my posts below! \n",
      "\n",
      "![]({{site.baseurl}}/images/mac-jones.png \"https://github.com/fastai/fastpages\")\n",
      "\n",
      "This is Mac Jones, my favorite football player on my favorite football team: The New England Patriots.\n",
      "# Posts\n",
      "\n",
      "Bottom of index.html file.\n"
     ]
    }
   ],
   "source": [
    "echo \"Let's show you how to use Bash to give you the contents of a specific file.\"\n",
    "\n",
    "cd ~\n",
    "cd ./vscode/FastPages\n",
    "\n",
    "echo \"Let's show the contents of my index.html file.\"\n",
    "echo \"\"\n",
    "\n",
    "cat index.html\n",
    "echo \"\"\n",
    "echo \"Bottom of index.html file.\"\n",
    "\n"
   ]
  }
 ],
 "metadata": {
  "kernelspec": {
   "display_name": "Bash",
   "language": "bash",
   "name": "bash"
  },
  "language_info": {
   "codemirror_mode": "shell",
   "file_extension": ".sh",
   "mimetype": "text/x-sh",
   "name": "bash"
  },
  "orig_nbformat": 4
 },
 "nbformat": 4,
 "nbformat_minor": 2
}
