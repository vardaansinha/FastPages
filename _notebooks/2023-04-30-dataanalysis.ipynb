{
 "cells": [
  {
   "attachments": {},
   "cell_type": "markdown",
   "metadata": {},
   "source": [
    "#  Data Analysis Hacks\n",
    "> Data Analysis Hacks\n",
    "- toc: true\n",
    "- image: /images/python.png\n",
    "- categories: []\n",
    "- type: pbl\n",
    "- week: 28"
   ]
  },
  {
   "cell_type": "code",
   "execution_count": 3,
   "metadata": {},
   "outputs": [
    {
     "name": "stdout",
     "output_type": "stream",
     "text": [
      "HIGHEST QUARTERBACK HEIGHT\n",
      "   Height  Weight  QB Ranking\n",
      "0      76     244           1\n",
      "2      76     229           3\n",
      "\n",
      "SMALLEST QUARTERBACK HEIGHT\n",
      "   Height  Weight  QB Ranking\n",
      "1      70     214           2\n",
      "\n",
      "TOP 5 QUARTERBACK HEIGHTS\n",
      "   Height  Weight  QB Ranking\n",
      "0      76     244           1\n",
      "1      70     214           2\n",
      "2      76     229           3\n",
      "3      75     217           4\n",
      "4      75     231           5\n",
      "\n",
      "\n",
      "\n",
      "THE AVERAGE QUARTERBACK HEIGHT IN INCHES IS...\n",
      "73.5\n",
      "\n",
      "\n",
      "\n",
      "THE MEDIAN QUARTERBACK WEIGHT IN POUNDS IS...\n",
      "213.5\n",
      "\n",
      "\n",
      "\n",
      "SOME STATISTICS ABOUT THE PROSPECTS QUALITIES:\n",
      "          Height      Weight  QB Ranking\n",
      "count  12.000000   12.000000   12.000000\n",
      "mean   73.500000  215.666667    6.500000\n",
      "std     1.977142   14.278613    3.605551\n",
      "min    70.000000  192.000000    1.000000\n",
      "25%    72.000000  207.000000    3.750000\n",
      "50%    73.500000  213.500000    6.500000\n",
      "75%    75.000000  225.250000    9.250000\n",
      "max    76.000000  244.000000   12.000000\n"
     ]
    }
   ],
   "source": [
    "import pandas as pd\n",
    "import matplotlib.pyplot as plt\n",
    "\n",
    "df = pd.read_json('files/nfl.json')\n",
    "\n",
    "print(\"HIGHEST QUARTERBACK HEIGHT\")\n",
    "print(df[df.Height == df.Height.max()])\n",
    "print()\n",
    "print(\"SMALLEST QUARTERBACK HEIGHT\")\n",
    "print(df[df.Height == df.Height.min()])\n",
    "print()\n",
    "print(\"TOP 5 QUARTERBACK HEIGHTS\")\n",
    "print(df.head(5))\n",
    "print()\n",
    "print()\n",
    "print()\n",
    "print(\"THE AVERAGE QUARTERBACK HEIGHT IN INCHES IS...\")\n",
    "print(df['Height'].mean())\n",
    "print()\n",
    "print()\n",
    "print()\n",
    "print(\"THE MEDIAN QUARTERBACK WEIGHT IN POUNDS IS...\")\n",
    "print(df['Weight'].median())\n",
    "print()\n",
    "print()\n",
    "print()\n",
    "print(\"SOME STATISTICS ABOUT THE PROSPECTS QUALITIES:\")\n",
    "print(df.describe())\n",
    "\n",
    "plt.scatter(df['Height'], df['Weight'])\n",
    "plt.title('Weight vs Height')\n",
    "plt.xlabel('Height')\n",
    "plt.ylabel('Weight')\n",
    "plt.show()"
   ]
  },
  {
   "attachments": {},
   "cell_type": "markdown",
   "metadata": {},
   "source": [
    "**QUESTIONS**:\n",
    "\n",
    "1. What are the two primary data structures in pandas and how do they differ?: **The two primary data structures in pandas are Series and DataFrame. Series hold 1D arrays while DataFrames hold 2D arrays.**\n",
    "2. How do you read a CSV file into a pandas DataFrame?: **Through read_csv() and then citing the file from the right location.**\n",
    "3. How do you select a single column from a pandas DataFrame? **df['column name'] is generally used to select a single column.**\n",
    "4. How do you filter rows in a pandas DataFrame based on a condition? **Rows can be filtered using df[df'[row name'] = 'value']**\n",
    "5. How do you group rows in a pandas DataFrame by a particular column? **Rows are grouped using the df.groupby('Name') option.**\n",
    "6. How do you aggregate data in a pandas DataFrame using functions like sum and mean? **Data can be organized with mean, median, sum, etc. For sum, the function sum_df can be utilized, and for mean, the mean_df function can be utilized and grouped by mean using df.groupby('group').mean()**\n",
    "7. How do you handle missing values in a pandas DataFrame? **You can fill in the missing values in a DF.**\n",
    "8. How do you merge two pandas DataFrames together? **Using the merged_df function, two pandas DataFrames can be merged together.**\n",
    "9. How do you export a pandas DataFrame to a CSV file? **df.to_csv function can be utilized for this.**\n",
    "10. What is the difference between a Series and a DataFrame in Pandas? **Series are for 1D Arrays, DataFrames hold 2D Arrays.**"
   ]
  }
 ],
 "metadata": {
  "kernelspec": {
   "display_name": "base",
   "language": "python",
   "name": "python3"
  },
  "language_info": {
   "codemirror_mode": {
    "name": "ipython",
    "version": 3
   },
   "file_extension": ".py",
   "mimetype": "text/x-python",
   "name": "python",
   "nbconvert_exporter": "python",
   "pygments_lexer": "ipython3",
   "version": "3.9.12"
  },
  "orig_nbformat": 4
 },
 "nbformat": 4,
 "nbformat_minor": 2
}
