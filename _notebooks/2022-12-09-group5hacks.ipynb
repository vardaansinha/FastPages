{
 "cells": [
  {
   "cell_type": "markdown",
   "metadata": {},
   "source": [
    "# \"Sections 9-11 Hacks\"\n",
    "> \"The Section 9-11 Hacks\"\n",
    "\n",
    "- toc: true \n",
    "- badges: true\n",
    "- comments: true\n",
    "- categories: [jupyter]\n",
    "- author: Vardaan Sinha"
   ]
  },
  {
   "cell_type": "markdown",
   "metadata": {},
   "source": [
    "**Hack #1**"
   ]
  },
  {
   "cell_type": "code",
   "execution_count": null,
   "metadata": {},
   "outputs": [],
   "source": [
    "if (isCold or isRaining) {\n",
    "    stayInside <-- True\n",
    "}\n",
    "\n",
    "else {\n",
    "    stayInside <-- False\n",
    "}"
   ]
  },
  {
   "cell_type": "markdown",
   "metadata": {},
   "source": [
    "**Hack #2**"
   ]
  },
  {
   "cell_type": "code",
   "execution_count": 3,
   "metadata": {},
   "outputs": [
    {
     "name": "stdout",
     "output_type": "stream",
     "text": [
      "Attempts:  [6, 9, 4, 5]\n",
      "\n",
      "Your FINAL score is: 9\n"
     ]
    }
   ],
   "source": [
    "import random\n",
    "# This is necessary, as this program is supposed to utilize a random number generator to select a random number from 1 to 10. \n",
    "\n",
    "attemptCount = []\n",
    "\n",
    "i = 1\n",
    "# Initial attempt count\n",
    "while i <= 4:\n",
    "    attemptCount.append(random.randint(1,10))\n",
    "    i = i + 1\n",
    "\n",
    "print(\"Attempts: \", attemptCount)\n",
    "print(\"\")\n",
    "print(\"Your FINAL score is:\", max(attemptCount))\n"
   ]
  },
  {
   "cell_type": "markdown",
   "metadata": {},
   "source": [
    "**Hack #3**"
   ]
  },
  {
   "cell_type": "code",
   "execution_count": null,
   "metadata": {},
   "outputs": [],
   "source": [
    "{\n",
    "    if MoveForwardPossible {\n",
    "        moveForward\n",
    "    }\n",
    "    elif {\n",
    "        MoveRightPossible {\n",
    "            moveRight\n",
    "        }\n",
    "    }\n",
    "    elif {\n",
    "        MoveLeftPossible {\n",
    "            moveLeft\n",
    "        }\n",
    "    }\n",
    "    \n",
    "}"
   ]
  },
  {
   "cell_type": "markdown",
   "metadata": {},
   "source": [
    "**Hack #4**"
   ]
  },
  {
   "cell_type": "markdown",
   "metadata": {},
   "source": [
    "Images shown in post (refer to post)"
   ]
  },
  {
   "cell_type": "markdown",
   "metadata": {},
   "source": [
    "**Hack #5**"
   ]
  },
  {
   "cell_type": "markdown",
   "metadata": {},
   "source": [
    "To find 69, the list would be iterated through until the number 69 is found. This would take 7 iterations.\n",
    "\n",
    "Using a binary search instead, this process would be much more efficient. The search would start from the middle index, then going to the first and last index and dividing by two. This process goes through until the number 69 is found."
   ]
  },
  {
   "cell_type": "markdown",
   "metadata": {},
   "source": [
    "**Hack #6**"
   ]
  },
  {
   "cell_type": "markdown",
   "metadata": {},
   "source": [
    "Images shown in post (refer to post)"
   ]
  },
  {
   "cell_type": "markdown",
   "metadata": {},
   "source": [
    "**Hack #7**"
   ]
  },
  {
   "cell_type": "markdown",
   "metadata": {},
   "source": [
    "[\"Market\",\"Walmart\",\"store\",\"Target\",\"Ralphs\"]"
   ]
  },
  {
   "cell_type": "markdown",
   "metadata": {},
   "source": [
    "**Hack #8**"
   ]
  },
  {
   "cell_type": "markdown",
   "metadata": {},
   "source": [
    "Binary search is much more efficient than a sequential search. This is because sequential searches move one by one, iterating through each object. Binary searches search the list of data exponentially, which takes a much shorter time."
   ]
  },
  {
   "cell_type": "markdown",
   "metadata": {},
   "source": [
    "**Hack #9**"
   ]
  },
  {
   "cell_type": "markdown",
   "metadata": {},
   "source": [
    "In this situation, you are searching for 11. The middle index would be 16, which is where you start, and then you would do 3 + 5 all divided by two, which gives 4. The next index would be at 11, which is what we are looking for.\n",
    "\n",
    "Images shown in post (refer to post)"
   ]
  }
 ],
 "metadata": {
  "kernelspec": {
   "display_name": "Python 3.8.10 64-bit",
   "language": "python",
   "name": "python3"
  },
  "language_info": {
   "codemirror_mode": {
    "name": "ipython",
    "version": 3
   },
   "file_extension": ".py",
   "mimetype": "text/x-python",
   "name": "python",
   "nbconvert_exporter": "python",
   "pygments_lexer": "ipython3",
   "version": "3.8.10"
  },
  "orig_nbformat": 4,
  "vscode": {
   "interpreter": {
    "hash": "916dbcbb3f70747c44a77c7bcd40155683ae19c65e1c03b4aa3499c5328201f1"
   }
  }
 },
 "nbformat": 4,
 "nbformat_minor": 2
}
