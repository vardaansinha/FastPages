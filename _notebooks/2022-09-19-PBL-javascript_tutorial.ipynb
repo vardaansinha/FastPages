{
 "cells": [
  {
   "cell_type": "markdown",
   "metadata": {},
   "source": [
    "# JavaScript TechTalk\n",
    "> My version of the Tech Talk for JavaScript, showing my understanding.\n",
    "\n",
    "- layout: default\n",
    "- badges: false\n",
    "- permalink: /techtalk/javascript\n",
    "- categories: [javascript,jupyter]"
   ]
  },
  {
   "cell_type": "markdown",
   "metadata": {},
   "source": [
    "{% include nav_frontend.html %}"
   ]
  },
  {
   "cell_type": "code",
   "execution_count": 1,
   "metadata": {},
   "outputs": [
    {
     "name": "stdout",
     "output_type": "stream",
     "text": [
      "PROOF\n"
     ]
    }
   ],
   "source": [
    "// The equivalent to the Python print function; printing 'PROOF' as a message.\n",
    "console.log(\"PROOF\");"
   ]
  },
  {
   "cell_type": "code",
   "execution_count": 2,
   "metadata": {},
   "outputs": [
    {
     "name": "stdout",
     "output_type": "stream",
     "text": [
      "WSG\n"
     ]
    }
   ],
   "source": [
    "// creating a variable with the 'var' component, and printing that variable. in this case, it is 'msg'\n",
    "var msg = \"WSG\";\n",
    "console.log(msg);"
   ]
  },
  {
   "cell_type": "code",
   "execution_count": 3,
   "metadata": {},
   "outputs": [
    {
     "name": "stdout",
     "output_type": "stream",
     "text": [
      "WSG\n"
     ]
    }
   ],
   "source": [
    "// creating a function called logIt, and calling the 'msg' variable that was created in the above cell.\n",
    "function logIt(output) {\n",
    "    console.log(output);\n",
    "}\n",
    "logIt(msg);"
   ]
  },
  {
   "cell_type": "code",
   "execution_count": 4,
   "metadata": {},
   "outputs": [
    {
     "name": "stdout",
     "output_type": "stream",
     "text": [
      "I\n",
      "AM\n",
      "100\n"
     ]
    }
   ],
   "source": [
    "// showing multiple ways of printing different messages.\n",
    "console.log(\"I\")\n",
    "logIt(\"AM\");\n",
    "logIt(100)"
   ]
  },
  {
   "cell_type": "code",
   "execution_count": 5,
   "metadata": {},
   "outputs": [
    {
     "name": "stdout",
     "output_type": "stream",
     "text": [
      "JS IS DIFFERENT\n",
      "string ; cheese\n",
      "number ; 100\n",
      "object ; [ 2, 4, 6, 8 ]\n"
     ]
    }
   ],
   "source": [
    "// notice the added 'Type' at the end of the logIt in comparison to the previous examples. this prints the TYPE of variable, as seen in the output with the \"string\", \"number\", and \"object\" declarations.\n",
    "function logItType(output) {\n",
    "    console.log(typeof output, \";\", output);\n",
    "}\n",
    "console.log(\"JS IS DIFFERENT\")\n",
    "logItType(\"cheese\"); // String\n",
    "logItType(100);    // Number\n",
    "logItType([2, 4, 6, 8]);  // Object is generic for this Array, which similar to Python List"
   ]
  },
  {
   "cell_type": "code",
   "execution_count": 7,
   "metadata": {},
   "outputs": [
    {
     "name": "stdout",
     "output_type": "stream",
     "text": [
      "object ; Person { name: 'SAMIT', ghID: 'POOJARY', classOf: 2014, role: '' }\n",
      "string ; {\"name\":\"SAMIT\",\"ghID\":\"POOJARY\",\"classOf\":2014,\"role\":\"\"}\n",
      "object ; Person { name: 'SAMIT', ghID: 'POOJARY', classOf: 2014, role: 'Student' }\n",
      "string ; {\"name\":\"SAMIT\",\"ghID\":\"POOJARY\",\"classOf\":2014,\"role\":\"Student\"}\n"
     ]
    }
   ],
   "source": [
    "// defining the function with the characteristics for each person\n",
    "function Person(name, lastName, draftClass) {\n",
    "    this.name = name;\n",
    "    this.lastName = lastName;\n",
    "    this.draftClass = draftClass;\n",
    "    this.role = \"\";\n",
    "}\n",
    "\n",
    "// prototype definition\n",
    "Person.prototype.setRole = function(role) {\n",
    "    this.role = role;\n",
    "}\n",
    "\n",
    "// define a JSON conversion \"method\" associated with Person\n",
    "Person.prototype.toJSON = function() {\n",
    "    const obj = {name: this.name, lastName: this.lastName, draftClass: this.draftClass, role: this.role};\n",
    "    const json = JSON.stringify(obj);\n",
    "    return json;\n",
    "}\n",
    "\n",
    "// new person assigned to student variable\n",
    "var student = new Person(\"SAMIT\", \"POOJARY\", 2014);  \n",
    "logItType(student); \n",
    "logItType(student.toJSON());  \n",
    "\n",
    "// output of Object and JSON/string associated with student variable defined above - again, using the student variable defined above and the logItType showing the TYPE of variable being printed.\n",
    "student.setRole(\"Student\");  \n",
    "logItType(student); \n",
    "logItType(student.toJSON());  "
   ]
  },
  {
   "cell_type": "code",
   "execution_count": 9,
   "metadata": {},
   "outputs": [
    {
     "name": "stdout",
     "output_type": "stream",
     "text": [
      "object ; [ Person { name: 'SAMIT', ghID: 'POOJARY', classOf: 2014, role: 'Student' },\n",
      "  Person { name: 'Mac', ghID: 'Jones', classOf: 2021, role: 'Quarterback' },\n",
      "  Person { name: 'Tom', ghID: 'Brady', classOf: 1999, role: 'Quarterback' },\n",
      "  Person {\n",
      "    name: 'Aaron',\n",
      "    ghID: 'Rodgers',\n",
      "    classOf: 2006,\n",
      "    role: 'Quarterback' },\n",
      "  Person {\n",
      "    name: 'Justin',\n",
      "    ghID: 'Herbert',\n",
      "    classOf: 2019,\n",
      "    role: 'Quarterback' },\n",
      "  Person {\n",
      "    name: 'Patrick',\n",
      "    ghID: 'Mahomes',\n",
      "    classOf: 2017,\n",
      "    role: 'Quarterback' },\n",
      "  Person {\n",
      "    name: 'Kyler',\n",
      "    ghID: 'Murray',\n",
      "    classOf: 2019,\n",
      "    role: 'Quarterback' } ]\n",
      "string ; SAMIT\n",
      "string ; {\"name\":\"SAMIT\",\"ghID\":\"POOJARY\",\"classOf\":2014,\"role\":\"Student\"}\n",
      "object ; { name: 'SAMIT', ghID: 'POOJARY', classOf: 2014, role: 'Student' }\n"
     ]
    }
   ],
   "source": [
    "// array of quarterbacks\n",
    "var quarterbacks = [ \n",
    "    new Person(\"Mac\", \"Jones\", 2021),\n",
    "    new Person(\"Tom\", \"Brady\", 1999),\n",
    "    new Person(\"Aaron\", \"Rodgers\", 2006),\n",
    "    new Person(\"Justin\", \"Herbert\", 2019),\n",
    "    new Person(\"Patrick\", \"Mahomes\", 2017),\n",
    "    new Person(\"Kyler\", \"Murray\", 2019)\n",
    "];\n",
    "\n",
    "// define a classroom and build Classroom objects and json\n",
    "function Classroom(student, quarterbacks){ // 1 teacher, many student\n",
    "    // start Classroom with Teacher\n",
    "    student.setRole(\"Student\");\n",
    "    this.student = student;\n",
    "    this.classroom = [student];\n",
    "    // add each Student to Classroom\n",
    "    this.quarterbacks = quarterbacks;\n",
    "    this.quarterbacks.forEach(quarterback => { quarterback.setRole(\"Quarterback\"); this.classroom.push(quarterback); });\n",
    "    // build json/string format of Classroom\n",
    "    this.json = [];\n",
    "    this.classroom.forEach(person => this.json.push(person.toJSON()));\n",
    "}\n",
    "\n",
    "// make a CompSci classroom from formerly defined teacher and students\n",
    "compsci = new Classroom(student, quarterbacks);\n",
    "\n",
    "// output of Objects and JSON in CompSci classroom\n",
    "logItType(compsci.classroom);  // constructed classroom object\n",
    "logItType(compsci.classroom[0].name);  // abstract 1st objects name\n",
    "logItType(compsci.json[0]);  // show json conversion of 1st object to string\n",
    "logItType(JSON.parse(compsci.json[0]));  // show JSON.parse inverse of JSON.stringify"
   ]
  },
  {
   "cell_type": "code",
   "execution_count": 10,
   "metadata": {},
   "outputs": [
    {
     "data": {
      "text/html": [
       "<div style='display:inline-block;border: 2px solid grey;box-shadow: 0.8em 0.4em 0.4em grey;'><table><tr><th><mark>Name</mark></th><th><mark>GitHub ID</mark></th><th><mark>Class Of</mark></th><th><mark>Role</mark></th></tr><tr><td>SAMIT</td><td>POOJARY</td><td>2014</td><td>Student</td><tr><tr><td>Mac</td><td>Jones</td><td>2021</td><td>Quarterback</td><tr><tr><td>Tom</td><td>Brady</td><td>1999</td><td>Quarterback</td><tr><tr><td>Aaron</td><td>Rodgers</td><td>2006</td><td>Quarterback</td><tr><tr><td>Justin</td><td>Herbert</td><td>2019</td><td>Quarterback</td><tr><tr><td>Patrick</td><td>Mahomes</td><td>2017</td><td>Quarterback</td><tr><tr><td>Kyler</td><td>Murray</td><td>2019</td><td>Quarterback</td><tr></table></div>"
      ]
     },
     "execution_count": 10,
     "metadata": {},
     "output_type": "execute_result"
    }
   ],
   "source": [
    "// define an HTML conversion \"method\" associated with Classroom\n",
    "Classroom.prototype._toHtml = function() {\n",
    "  // HTML Style is build using inline structure\n",
    "  var style = (\n",
    "    \"display:inline-block;\" +\n",
    "    \"border: 2px solid grey;\" +\n",
    "    \"box-shadow: 0.8em 0.4em 0.4em grey;\"\n",
    "  );\n",
    "\n",
    "  // HTML Body of Table is build as a series of concatenations (+=)\n",
    "  var body = \"\";\n",
    "  // Heading for Array Columns\n",
    "  body += \"<tr>\";\n",
    "  body += \"<th><mark>\" + \"Name\" + \"</mark></th>\";\n",
    "  body += \"<th><mark>\" + \"GitHub ID\" + \"</mark></th>\";\n",
    "  body += \"<th><mark>\" + \"Class Of\" + \"</mark></th>\";\n",
    "  body += \"<th><mark>\" + \"Role\" + \"</mark></th>\";\n",
    "  body += \"</tr>\";\n",
    "  // Data of Array, iterate through each row of compsci.classroom \n",
    "  for (var row of compsci.classroom) {\n",
    "    // tr for each row, a new line\n",
    "    body += \"<tr>\";\n",
    "    // td for each column of data\n",
    "    body += \"<td>\" + row.name + \"</td>\";\n",
    "    body += \"<td>\" + row.ghID + \"</td>\";\n",
    "    body += \"<td>\" + row.classOf + \"</td>\";\n",
    "    body += \"<td>\" + row.role + \"</td>\";\n",
    "    // tr to end line\n",
    "    body += \"<tr>\";\n",
    "  }\n",
    "\n",
    "   // Build and HTML fragment of div, table, table body\n",
    "  return (\n",
    "    \"<div style='\" + style + \"'>\" +\n",
    "      \"<table>\" +\n",
    "        body +\n",
    "      \"</table>\" +\n",
    "    \"</div>\"\n",
    "  );\n",
    "\n",
    "};\n",
    "\n",
    "// IJavaScript HTML processor receive parameter of defined HTML fragment\n",
    "$$.html(compsci._toHtml());"
   ]
  }
 ],
 "metadata": {
  "kernelspec": {
   "display_name": "JavaScript (Node.js)",
   "language": "javascript",
   "name": "javascript"
  },
  "language_info": {
   "file_extension": ".js",
   "mimetype": "application/javascript",
   "name": "javascript",
   "version": "6.11.2"
  },
  "vscode": {
   "interpreter": {
    "hash": "aee8b7b246df8f9039afb4144a1f6fd8d2ca17a180786b69acc140d282b71a49"
   }
  }
 },
 "nbformat": 4,
 "nbformat_minor": 2
}
