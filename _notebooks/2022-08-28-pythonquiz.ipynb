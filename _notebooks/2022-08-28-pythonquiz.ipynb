{
 "cells": [
  {
   "cell_type": "markdown",
   "metadata": {},
   "source": [
    "# \"Python Quiz\"\n",
    "> \"A quiz on some of the most common Python commands and terminology.\"\n",
    "\n",
    "- toc: true \n",
    "- badges: true\n",
    "- comments: true\n",
    "- categories: [jupyter,python]\n",
    "- author: Vardaan Sinha"
   ]
  },
  {
   "cell_type": "code",
   "execution_count": 12,
   "metadata": {},
   "outputs": [
    {
     "name": "stdout",
     "output_type": "stream",
     "text": [
      "Hey skippy, 4 questions.\n",
      "Question: Prepared? Say 'yes' or 'no'.\n",
      "Let's start.\n",
      "Question: What type of statement is used to evaluate an expression list?\n",
      "expression is correct.\n",
      "Question: What type of statement is used to return an expression list?\n",
      "return is correct.\n",
      "Question: What type of statement is used to call other Python modules to utilize their functions?\n",
      "import is correct.\n",
      "Question: BONUS: What is the name of the Python module used to utilize StackOverflow without leaving the terminal?\n",
      "howdoi is correct.\n",
      "vardaan you got a 4/3 or a 133.33333333333331%\n"
     ]
    }
   ],
   "source": [
    "import getpass,sys\n",
    "# The import command is used to import particular Python modules that involve certain sets of functions and variables that may be useful in a specific script.\n",
    "def question_answer(prompt):\n",
    "    print(\"Question: \")\n",
    "    message = input(\"Question: \" + prompt)\n",
    "    print(\"Answer:\" +message)\n",
    "\n",
    "def response(prompt):\n",
    "    print(\"Question: \" + prompt)\n",
    "    message = input(\"Question: \" + prompt) \n",
    "    return message   \n",
    "\n",
    "integer = 3\n",
    "# Here, what I did was that I defined the value of the integer. This needed to be done for the Bonus question.\n",
    "question_data = [\n",
    "    \"What type of statement is used to evaluate an expression list?\",\n",
    "    \"What type of statement is used to return an expression list?\",\n",
    "    \"What type of statement is used to call other Python modules to utilize their functions?\",\n",
    "    \"BONUS: What is the name of the Python module used to utilize StackOverflow without leaving the terminal?\"\n",
    "] \n",
    "\n",
    "answer_data = [\n",
    "    \"expression\",\n",
    "    \"return\",\n",
    "    \"import\",\n",
    "    \"howdoi\",\n",
    "]\n",
    "\n",
    "questions = len(question_data)\n",
    "correct = 0\n",
    "\n",
    "print('Hey skippy, ' + str(questions) + \" questions.\")\n",
    "resp = response(\"Prepared? Say 'yes' or 'no'.\")\n",
    "\n",
    "if resp == \"yes\":\n",
    "    \n",
    "    print(\"Let's start.\")\n",
    "    for i in range(len(question_data)):\n",
    "        resp = response(question_data[i])\n",
    "        if resp == answer_data[i]:\n",
    "            print(resp + \" is correct.\")\n",
    "            correct +=1\n",
    "        else:\n",
    "            print(resp + \" is wrong.\")\n",
    "    \n",
    "    \n",
    "    print (getpass.getuser() + \" you got a \" + str(correct) + \"/\" + str(integer) + \" or a \" + str((correct / integer) * 100) + \"%\")\n",
    "\n",
    "else:\n",
    "    print(\"Leave.\")"
   ]
  },
  {
   "cell_type": "markdown",
   "metadata": {},
   "source": [
    "Now, I'd like to talk about a caveat that I used in the code. As you can all see, I defined 'integer' as 3 at the start, even though there were 4 questions. This is because the 4th question was defined as a bonus question, and if someone got the bonus question right, they should get more than a 100%. \n",
    "\n",
    "First, I tried without defining the integer value in the code and just adding the number 3 in the last print statement, but that did not work, as Python cannot concatenate an integer into a string value. Therefore, I had to define the integer as a string, and that made the print statement work without crashing at the end. \n",
    "\n",
    "Thanks!"
   ]
  }
 ],
 "metadata": {
  "kernelspec": {
   "display_name": "Python 3.8.10 64-bit",
   "language": "python",
   "name": "python3"
  },
  "language_info": {
   "codemirror_mode": {
    "name": "ipython",
    "version": 3
   },
   "file_extension": ".py",
   "mimetype": "text/x-python",
   "name": "python",
   "nbconvert_exporter": "python",
   "pygments_lexer": "ipython3",
   "version": "3.8.10"
  },
  "orig_nbformat": 4,
  "vscode": {
   "interpreter": {
    "hash": "916dbcbb3f70747c44a77c7bcd40155683ae19c65e1c03b4aa3499c5328201f1"
   }
  }
 },
 "nbformat": 4,
 "nbformat_minor": 2
}
