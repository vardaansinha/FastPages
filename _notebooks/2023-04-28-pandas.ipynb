{
 "cells": [
  {
   "attachments": {},
   "cell_type": "markdown",
   "metadata": {},
   "source": [
    "#  Pandas Hacks for the Friday Nighters\n",
    "> Pandas Hacks for the Friday Nighters\n",
    "- toc: true\n",
    "- image: /images/python.png\n",
    "- categories: []\n",
    "- type: pbl\n",
    "- week: 28"
   ]
  },
  {
   "cell_type": "code",
   "execution_count": 7,
   "metadata": {},
   "outputs": [
    {
     "name": "stdout",
     "output_type": "stream",
     "text": [
      "     Name  Age Gender Grade\n",
      "0  Dillon   24      M     A\n",
      "1    Noor   31      M     B\n",
      "2  Steven   42      M     A\n",
      "3   Lucas   27      M     D\n",
      "4  Harsha   29      F     C\n",
      "5  Varalu   26      F     F\n",
      "6    Ryan   90      F     B\n",
      "7   Emaad   15      F     A\n",
      "\n",
      "\n",
      "THE AVERAGE AGE OF THE BOYS IS...\n",
      "35.5\n",
      "\n",
      "\n",
      "THE MEDIAN AGE OF THE BOYS IS...\n",
      "28.0\n",
      "\n",
      "\n",
      "SOME STATISTICS ABOUT THE BOYS HEIGHTS:\n",
      "             Age\n",
      "count   8.000000\n",
      "mean   35.500000\n",
      "std    23.268618\n",
      "min    15.000000\n",
      "25%    25.500000\n",
      "50%    28.000000\n",
      "75%    33.750000\n",
      "max    90.000000\n"
     ]
    }
   ],
   "source": [
    "import pandas as pd\n",
    "data = {\n",
    "    'Name': ['Dillon', 'Noor', 'Steven', 'Lucas', 'Harsha', 'Varalu', 'Ryan', 'Emaad'],\n",
    "    'Age': [24, 31, 42, 27, 29, 26, 90, 15],\n",
    "    'Gender': ['M', 'M', 'M', 'M', 'F', 'F', 'F', 'F'],\n",
    "    'Grade': ['A', 'B', 'A', 'D', 'C', 'F', 'B', 'A']\n",
    "}\n",
    "df = pd.DataFrame(data)\n",
    "print(df)\n",
    "print()\n",
    "print()\n",
    "# Data Analysis 1\n",
    "print(\"THE AVERAGE AGE OF THE BOYS IS...\")\n",
    "print(df['Age'].mean())\n",
    "# Data Analysis 2\n",
    "print()\n",
    "print()\n",
    "print(\"THE MEDIAN AGE OF THE BOYS IS...\")\n",
    "print(df['Age'].median())\n",
    "print()\n",
    "print()\n",
    "# Data Analysis 3\n",
    "print(\"SOME STATISTICS ABOUT THE BOYS HEIGHTS:\")\n",
    "print(df.describe())"
   ]
  }
 ],
 "metadata": {
  "kernelspec": {
   "display_name": "base",
   "language": "python",
   "name": "python3"
  },
  "language_info": {
   "codemirror_mode": {
    "name": "ipython",
    "version": 3
   },
   "file_extension": ".py",
   "mimetype": "text/x-python",
   "name": "python",
   "nbconvert_exporter": "python",
   "pygments_lexer": "ipython3",
   "version": "3.9.12"
  },
  "orig_nbformat": 4
 },
 "nbformat": 4,
 "nbformat_minor": 2
}
