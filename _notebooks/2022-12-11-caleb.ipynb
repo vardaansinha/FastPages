{
 "cells": [
  {
   "cell_type": "markdown",
   "metadata": {},
   "source": [
    "# \"Sections 12-13 Hacks\"\n",
    "> \"The Section 12-13 Hacks\"\n",
    "\n",
    "- toc: true \n",
    "- badges: true\n",
    "- comments: true\n",
    "- categories: [jupyter]\n",
    "- author: Vardaan Sinha"
   ]
  },
  {
   "cell_type": "markdown",
   "metadata": {},
   "source": [
    "**3.12 Hacks Part 1**"
   ]
  },
  {
   "cell_type": "markdown",
   "metadata": {},
   "source": [
    "*Problem 1*: Qais is writing code to calculate formulas from his math class. He's currently working on a procedure to calculate average speed, based on this formula:\n",
    "\n",
    "Average speed = Total Distance/Total Time\n",
    "\n",
    "Highlight which of these is the best procedure for calculating and displaying average speed:\n",
    "\n",
    "**PROCEDURE calcAvgSpeed (distance, time) { DISPLAY (distance/time) }**\n",
    "PROCEDURE calcAvgSpeed (distance) { DISPLAY (distance/time) }\n",
    "PROCEDURE calcAvgSpeed (distance, time) { DISPLAY (time/distance) }\n",
    "\n",
    "<br>\n",
    "Explanation: Since the first option uses the correct formula for average speed (distance over time) and the two parameters are properly utilized (distance and time), that would be the best procedure for calculating and displaying average speed."
   ]
  },
  {
   "cell_type": "markdown",
   "metadata": {},
   "source": [
    "*Problem 2*: James Hunter is looking through his classmate's program and sees a procedure called heightenEmotions: PROCEDURE heightenEmotions(myEmotion). That procedure manipulates strings using two built-in procedures, CONCAT for concatenating two strings together, and UPPER for converting a string to uppercase.\n",
    "\n",
    "James Hunter then sees this line of code:\n",
    "\n",
    "heightenEmotions(\"im mad\")\n",
    "\n",
    "After that line of code runs, will nothing be displayed?\n",
    "\n",
    "**A. True**\n",
    "B. False\n",
    "\n",
    "<br>\n",
    "Explanation: Nothing is going to be displayed, since there is no DISPLAY(__) line in the program."
   ]
  },
  {
   "cell_type": "markdown",
   "metadata": {},
   "source": [
    "*Problem 3*: Which of these code snippets successfully calculates and stores her total footprint? Highlight 2 answers.\n",
    "\n",
    "**1. totalFootprint ← calcFlightFootprint(2451, 118) + calcFlightFootprint(3442, 252)**\n",
    "\n",
    "2. totalFootprint ← calcFlightFootprint(2451, 118 + 3442, 252)\n",
    "\n",
    "**3. totalFootprint ← calcFlightFootprint((2451, 118) + (3442, 252))**\n",
    "\n",
    "4. laNyCarbon ← calcFlightFootprint(2451, 118) nyLondonCarbon ← calcFlightFootprint(3442, 252) totalFootprint ← laNyCarbon + nyLondonCarbon\n",
    "\n",
    "<br>\n",
    "Explanation: The first code snippet works, since the total footprint is outputted by adding the two flight's footprints separately and then adding them together. Then, the third code snippet also works, because it is adding the two components with each other from both flights, setting it as the entire \"calcFlightFootprint\", and then showing it as the \"totalFootprint\". "
   ]
  },
  {
   "cell_type": "markdown",
   "metadata": {},
   "source": [
    "**3.12 Hacks Part 2**"
   ]
  },
  {
   "cell_type": "markdown",
   "metadata": {},
   "source": [
    "*Problem 1*: \n",
    "\n",
    "Find a.\n",
    "\n",
    "c = 9\n",
    "\n",
    "b = 9 * 9 = 81\n",
    "\n",
    "a = b * c = 81 * 9 = **729**"
   ]
  },
  {
   "cell_type": "markdown",
   "metadata": {},
   "source": [
    "*Problem #2*:\n",
    "\n",
    "Find the cost.\n",
    "\n",
    "'Temp' becomes equal to 110 (100 + percent taxed, and the percent taxed is 10%.)\n",
    "\n",
    "Then, it is divided by 100. 110/100 = 1.1\n",
    "\n",
    "Then, to find the final cost, the initial cost ($173) is multiplied by 1.1, which yields **$190.30**."
   ]
  },
  {
   "cell_type": "markdown",
   "metadata": {},
   "source": [
    "*Problem #3*:\n",
    "\n",
    "Find the temperature in degrees Celsius.\n",
    "\n",
    "Initial Temperature: 103 degrees Fahrenheit\n",
    "\n",
    "103 - 32 = 71 \n",
    "\n",
    "71 x (5/9) = **39.44 degrees Celsius**"
   ]
  },
  {
   "cell_type": "markdown",
   "metadata": {},
   "source": [
    "**3.13 Hacks**"
   ]
  },
  {
   "cell_type": "code",
   "execution_count": 2,
   "metadata": {},
   "outputs": [
    {
     "name": "stdout",
     "output_type": "stream",
     "text": [
      "1260\n"
     ]
    }
   ],
   "source": [
    "# Problem 1\n",
    "\n",
    "def replaceRByards(toprbyardspg, currentrbyards, totalGames):\n",
    "    if ((toprbyardspg/totalGames) < (currentrbyards/totalGames)):\n",
    "        toprbyardspg = currentrbyards\n",
    "    print(toprbyardspg)\n",
    "\n",
    "replaceRByards(100, 1260, 12)\n"
   ]
  },
  {
   "cell_type": "code",
   "execution_count": null,
   "metadata": {},
   "outputs": [],
   "source": [
    "# Problem 2\n",
    "\n",
    "PROCEDURE aPlus() {\n",
    "    if (canMoveForward):\n",
    "        moveForward\n",
    "    else (canMoveRight):\n",
    "        rotateRight\n",
    "        moveForward\n",
    "    if (canMoveLeft):\n",
    "        rotateLeft\n",
    "        moveForward\n",
    "}"
   ]
  },
  {
   "cell_type": "markdown",
   "metadata": {},
   "source": [
    "*Problem 3*: Which is the correct way to define the name of a procedure?\n",
    "\n",
    "A. PROCEDURE MYLIST\n",
    "**B. PROCEDURE MyList**\n",
    "C. procedure mylist\n",
    "\n",
    "<br>\n",
    "Explanation: Option B is definitely the right answer, as the procedure name is supposed to have some capital letters (not all capitals), and the word procedure should be in all caps."
   ]
  },
  {
   "cell_type": "code",
   "execution_count": null,
   "metadata": {},
   "outputs": [],
   "source": [
    "# Problem 4\n",
    "\n",
    "PROCEDURE greenSquare {\n",
    "    rotateLeft\n",
    "    moveForward\n",
    "    moveForward\n",
    "    moveForward\n",
    "    moveForward\n",
    "    moveForward\n",
    "    moveForward\n",
    "    rotateLeft\n",
    "    rotateLeft\n",
    "    rotateLeft\n",
    "}"
   ]
  }
 ],
 "metadata": {
  "kernelspec": {
   "display_name": "Python 3.8.10 64-bit",
   "language": "python",
   "name": "python3"
  },
  "language_info": {
   "codemirror_mode": {
    "name": "ipython",
    "version": 3
   },
   "file_extension": ".py",
   "mimetype": "text/x-python",
   "name": "python",
   "nbconvert_exporter": "python",
   "pygments_lexer": "ipython3",
   "version": "3.8.10"
  },
  "orig_nbformat": 4,
  "vscode": {
   "interpreter": {
    "hash": "916dbcbb3f70747c44a77c7bcd40155683ae19c65e1c03b4aa3499c5328201f1"
   }
  }
 },
 "nbformat": 4,
 "nbformat_minor": 2
}
