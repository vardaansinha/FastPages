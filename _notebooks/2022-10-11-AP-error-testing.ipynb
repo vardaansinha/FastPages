{
 "cells": [
  {
   "cell_type": "markdown",
   "metadata": {},
   "source": [
    "# Big Idea 1 'Identifying and Correcting Errors'\n",
    "> Practice with identifying and correcting code blocks\n",
    "\n",
    "- layout: default\n",
    "- badges: false\n",
    "- permalink: /collegeboard/error\n",
    "- image: /images/apcsp.png\n",
    "- categories: [1.B, 4.C]\n",
    "- type: ap\n",
    "- week: 7"
   ]
  },
  {
   "cell_type": "markdown",
   "metadata": {},
   "source": [
    "[College Board Big Idea 1](https://apclassroom.collegeboard.org/103/home?unit=1)\n",
    "\n",
    "## Identifying and Correcting Errors (Unit 1.4)\n",
    "> Become familiar with types of errors and strategies to fixing them\n",
    "- Lightly Review Videos and take notes on topics with Blog\n",
    "- Complete assigned MCQ questions"
   ]
  },
  {
   "cell_type": "markdown",
   "metadata": {},
   "source": [
    "# Here are some code segments you can practice fixing:"
   ]
  },
  {
   "cell_type": "code",
   "execution_count": 1,
   "metadata": {},
   "outputs": [
    {
     "name": "stdout",
     "output_type": "stream",
     "text": [
      "['a', 'b', 'c', 'd', 'e', 'f', 'g', 'h', 'i', 'j', 'k', 'l', 'm', 'n', 'o', 'p', 'q', 'r', 's', 't', 'u', 'v', 'w', 'x', 'y', 'z']\n"
     ]
    }
   ],
   "source": [
    "alphabet = \"abcdefghijklmnopqrstuvwxyz\"\n",
    "\n",
    "alphabetList = []\n",
    "\n",
    "for i in alphabet:\n",
    "    alphabetList.append(i)\n",
    "\n",
    "print(alphabetList)"
   ]
  },
  {
   "cell_type": "markdown",
   "metadata": {},
   "source": [
    "The intended outcome is to determine where the letter is in the alphabet using a while loop\n",
    "- What is a good test case to check the current outcome? Why?\n",
    "- Make changes to get the intended outcome."
   ]
  },
  {
   "cell_type": "code",
   "execution_count": 2,
   "metadata": {},
   "outputs": [
    {
     "name": "stdout",
     "output_type": "stream",
     "text": [
      "The letter z is the 26 letter in the alphabet\n"
     ]
    }
   ],
   "source": [
    "letter = input(\"What letter would you like to check?\")\n",
    "\n",
    "i = 0\n",
    "\n",
    "while i < 26:\n",
    "    if alphabetList[i] == letter:\n",
    "        print(\"The letter \" + letter + \" is the \" + str(i+1) + \" letter in the alphabet\")\n",
    "    i += 1\n",
    "\n"
   ]
  },
  {
   "cell_type": "markdown",
   "metadata": {},
   "source": [
    "The intended outcome is to determine where the letter is in the alphabet using a for loop\n",
    "- What is a good test case to check the current outcome? Why?\n",
    "- Make changes to get the intended outcome."
   ]
  },
  {
   "cell_type": "code",
   "execution_count": 3,
   "metadata": {},
   "outputs": [
    {
     "name": "stdout",
     "output_type": "stream",
     "text": [
      "The letter a is the 1 letter in the alphabet\n"
     ]
    }
   ],
   "source": [
    "letter = input(\"What letter would you like to check?\")\n",
    "\n",
    "for i in alphabetList:\n",
    "    count = 0\n",
    "    if i == letter:\n",
    "        print(\"The letter \" + letter + \" is the \" + str(count+1) + \" letter in the alphabet\")\n",
    "    count += 1\n",
    "\n"
   ]
  },
  {
   "cell_type": "markdown",
   "metadata": {},
   "source": [
    "This code outputs the even numbers from 0 - 10 using a while loop.\n",
    "- Analyze this code to determine what can be changed to get the outcome to be odd numbers. (Code block below)\n"
   ]
  },
  {
   "cell_type": "code",
   "execution_count": 4,
   "metadata": {},
   "outputs": [
    {
     "name": "stdout",
     "output_type": "stream",
     "text": [
      "[1, 3, 5, 7, 9]\n"
     ]
    }
   ],
   "source": [
    "\n",
    "evens = []\n",
    "i = 1\n",
    "\n",
    "while i <= 10:\n",
    "    evens.append(i)\n",
    "    i += 2\n",
    "\n",
    "print(evens)    \n",
    "\n"
   ]
  },
  {
   "cell_type": "markdown",
   "metadata": {},
   "source": [
    "This code should output the odd numbers from 0 - 10 using a while loop."
   ]
  },
  {
   "cell_type": "code",
   "execution_count": 5,
   "metadata": {},
   "outputs": [
    {
     "name": "stdout",
     "output_type": "stream",
     "text": [
      "[1, 3, 5, 7, 9]\n"
     ]
    }
   ],
   "source": [
    "\n",
    "odds = []\n",
    "i = 1\n",
    "\n",
    "while i <= 10:\n",
    "    odds.append(i)\n",
    "    i += 2\n",
    "\n",
    "print(odds)"
   ]
  },
  {
   "cell_type": "markdown",
   "metadata": {},
   "source": [
    "This code outputs the even numbers from 0 - 10 using a for loop.\n",
    "- Analyze this code to determine what can be changed to get the outcome to be odd numbers. (Code block below)"
   ]
  },
  {
   "cell_type": "code",
   "execution_count": 6,
   "metadata": {},
   "outputs": [
    {
     "name": "stdout",
     "output_type": "stream",
     "text": [
      "[1, 3, 5, 7, 9]\n"
     ]
    }
   ],
   "source": [
    "\n",
    "numbers = [0,1,2,3,4,5,6,7,8,9,10]\n",
    "evens = []\n",
    "\n",
    "for i in numbers:\n",
    "    if (numbers[i] % 2 == 1):\n",
    "        evens.append(numbers[i])\n",
    "\n",
    "print(evens)\n",
    "\n"
   ]
  },
  {
   "cell_type": "markdown",
   "metadata": {},
   "source": [
    "This code should output the odd numbers from 0 - 10 using a for loop."
   ]
  },
  {
   "cell_type": "code",
   "execution_count": 8,
   "metadata": {},
   "outputs": [
    {
     "name": "stdout",
     "output_type": "stream",
     "text": [
      "[1, 3, 5, 7, 9]\n"
     ]
    }
   ],
   "source": [
    "\n",
    "numbers = [0,1,2,3,4,5,6,7,8,9,10]\n",
    "odds = []\n",
    "\n",
    "for i in numbers:\n",
    "    if (numbers[i] % 2 == 1):\n",
    "        odds.append(numbers[i])\n",
    "\n",
    "print(odds)"
   ]
  },
  {
   "cell_type": "markdown",
   "metadata": {},
   "source": [
    "The intended outcome is printing a number between 1 and 100 once, if it is a multiple of 2 or 5 \n",
    "- What values are outputted incorrectly. Why?\n",
    "- Make changes to get the intended outcome."
   ]
  },
  {
   "cell_type": "code",
   "execution_count": 9,
   "metadata": {},
   "outputs": [
    {
     "name": "stdout",
     "output_type": "stream",
     "text": [
      "[2, 4, 6, 8, 10, 12, 14, 16, 18, 20, 22, 24, 26, 28, 30, 32, 34, 36, 38, 40, 42, 44, 46, 48, 50, 52, 54, 56, 58, 60, 62, 64, 66, 68, 70, 72, 74, 76, 78, 80, 82, 84, 86, 88, 90, 92, 94, 96, 98, 100]\n"
     ]
    }
   ],
   "source": [
    "\n",
    "numbers = []\n",
    "newNumbers = []\n",
    "i = 0\n",
    "\n",
    "while i <= 100:\n",
    "    numbers.append(i)\n",
    "    i += 1\n",
    "\n",
    "for i in numbers:\n",
    "    if numbers[i] == 0:\n",
    "        pass\n",
    "    elif numbers[i] % 2 == 0:\n",
    "        newNumbers.append(numbers[i])\n",
    "    elif numbers[i] % 2 == 0:\n",
    "        newNumbers.append(numbers[i])\n",
    "\n",
    "print(newNumbers) \n",
    "\n"
   ]
  },
  {
   "cell_type": "markdown",
   "metadata": {},
   "source": [
    "# Challenge\n",
    "\n",
    "This code segment is at a very early stage of implementation.\n",
    "- What are some ways to (user) error proof this code?\n",
    "- The code should be able to calculate the cost of the meal of the user\n",
    "\n",
    "Hint:\n",
    "- write a “single” test describing an expectation of the program of the program\n",
    "- test - input burger, expect output of burger price\n",
    "- run the test, which should fail because the program lacks that feature\n",
    "- write “just enough” code, the simplest possible, to make the test pass\n",
    "\n",
    "Then repeat this process until you get program working like you want it to work."
   ]
  },
  {
   "cell_type": "code",
   "execution_count": 11,
   "metadata": {},
   "outputs": [
    {
     "name": "stdout",
     "output_type": "stream",
     "text": [
      "Menu\n",
      "burger  $3.99\n",
      "fries  $1.99\n",
      "drink  $0.99\n",
      "1 drink: $0.99\n",
      "Your total is $0.99. Have a nice day!\n"
     ]
    }
   ],
   "source": [
    "menu =  {\"burger\": 3.99,\n",
    "         \"fries\": 1.99,\n",
    "         \"drink\": 0.99}\n",
    "total = 0\n",
    "\n",
    "#shows the user the menu and prompts them to select an item\n",
    "print(\"Menu\")\n",
    "for k,v in menu.items():\n",
    "    print(k + \"  $\" + str(v)) #why does v have \"str\" in front of it?\n",
    "\n",
    "#ideally the code should prompt the user multiple times\n",
    "item = input(\"Please select an item from the menu. Once you are done selecting items, type 'done'\")\n",
    "\n",
    "# create an if loop\n",
    "if item.lower() == \"burger\": # .lower() allows the same output whether the person types upper or lowercase\n",
    "        print(\"1 burger: $3.99\") \n",
    "        total = total + 3.99\n",
    "elif item.lower() == \"fries\": # create an if loop for fries\n",
    "        print(\"1 fries: $1.99\")   \n",
    "        total = total + 1.99\n",
    "elif item.lower() == \"drink\": # create an if loop for drinks  \n",
    "        print(\"1 drink: $0.99\")\n",
    "        total = total + 0.99\n",
    "elif input:\n",
    "        print(\"You misspelled that. Try again please.\")\n",
    "\n",
    "#code should add the price of the menu items selected by the user \n",
    "print(\"Your total is $\" + str(total) + \".\" + \" Have a nice day!\")"
   ]
  },
  {
   "cell_type": "markdown",
   "metadata": {},
   "source": [
    "## Hacks\n",
    "> Now is a good time to think about Testing of your teams final project...\n",
    "- What errors may arise in your project?\n",
    "- What are some test cases that can be used?\n",
    "- Make sure to document any bugs you encounter and how you solved the problem.\n",
    "- What are “single” tests that you will perform on your project? Or, your part of the project?\n",
    "    * As Hack Design and Test plan action … Divide these “single” tests into Issues for Scrum Board prior to coding. FYI, related tests could be in same Issue by using markdown checkboxes to separate tests."
   ]
  }
 ],
 "metadata": {
  "kernelspec": {
   "display_name": "Python 3.8.10 64-bit",
   "language": "python",
   "name": "python3"
  },
  "language_info": {
   "codemirror_mode": {
    "name": "ipython",
    "version": 3
   },
   "file_extension": ".py",
   "mimetype": "text/x-python",
   "name": "python",
   "nbconvert_exporter": "python",
   "pygments_lexer": "ipython3",
   "version": "3.8.10"
  },
  "orig_nbformat": 4,
  "vscode": {
   "interpreter": {
    "hash": "916dbcbb3f70747c44a77c7bcd40155683ae19c65e1c03b4aa3499c5328201f1"
   }
  }
 },
 "nbformat": 4,
 "nbformat_minor": 2
}
