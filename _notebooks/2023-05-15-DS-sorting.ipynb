{
 "cells": [
  {
   "attachments": {},
   "cell_type": "markdown",
   "metadata": {},
   "source": [
    "# Sorting Algorithms\n",
    "> Working with Data Structures and manipulating data.\n",
    "\n",
    "- toc: true\n",
    "- categories: []\n",
    "- type: pbl\n",
    "- week: 34"
   ]
  },
  {
   "attachments": {},
   "cell_type": "markdown",
   "metadata": {},
   "source": [
    "[wget link](https://raw.githubusercontent.com/nighthawkcoders/APCSP/master/_notebooks/2023-05-15-DS-sorting.ipynb)"
   ]
  },
  {
   "cell_type": "code",
   "execution_count": null,
   "metadata": {},
   "outputs": [],
   "source": [
    "import random\n",
    "\n",
    "numbers = []\n",
    "for i in range(10):\n",
    "    numbers.append(random.randint(0,100))\n",
    "print(\"Random List\")\n",
    "print(numbers)"
   ]
  },
  {
   "attachments": {},
   "cell_type": "markdown",
   "metadata": {},
   "source": [
    "# Warm Up\n",
    "\n",
    "> Discuss with a partner... \n",
    "What are some strategies you would use to sort this list? (Don't worry about writing code for now)\n",
    "- **You could use a bubble sort or you could use an insertion sort. One way is to check if the first number is smaller than the number directly after it, and if it meets that condition, then to move it, and if not, then to not swap.**"
   ]
  },
  {
   "attachments": {},
   "cell_type": "markdown",
   "metadata": {},
   "source": [
    "# Explore\n",
    "\n",
    "Get into groups of 3\n",
    "\n",
    "We will be focusing on 4 algorithms today.\n",
    "\n",
    "We will look at the first one together, Bubble Sort\n",
    "\n",
    "![](images/bubble-sort.png)\n",
    "\n",
    "What is happening with this sort?\n",
    "\n",
    "In your groups you will each choose to be an expert on a sorting algorithm. Merge, Selection, and Insertion.\n",
    "Take about 5 minutes to read about your algorithm (Geek for Geeks linked below) and be ready to explain it to your other group members. \n",
    "\n",
    "[Merge](https://www.geeksforgeeks.org/merge-sort/#): **Here, an array is divided up into smaller subarrays. Then, each subarray is sorted, and then all of the sorted subarrays are put back together to make the final sorted full array.**\n",
    "\n",
    "[Selection](https://www.geeksforgeeks.org/selection-sort/): **This is where every segment of the list is sorted based on the smallest or largest number, and then it is moved to a sorted segment of the list. Selection keeps iterating this process over and over again, until the entire list is sorted.**\n",
    "\n",
    "[Insertion](https://www.geeksforgeeks.org/insertion-sort/): **An insertion sort is where an array is split into two parts: a sorted part and an unsorted part. The sorted part is used as a framework, and the unsorted part is used to take values and put it in the accurate position into the sorted part of the array. This process keeps going until the entire thing is sorted.**"
   ]
  },
  {
   "attachments": {},
   "cell_type": "markdown",
   "metadata": {},
   "source": [
    "## Practice\n",
    "\n",
    "[75, 17, 46, 80, 67, 45, 69, 79, 40, 0]\n",
    "\n",
    "How would you sort this list with... \n",
    "- Bubble Sort: **Go through each list index and check the pair of numbers. If the left number is greater than the number right next to it, they will be swapped. This process can keep going until the entire list is gone from least to greatest.**\n",
    "- Selection Sort: **From the unsorted part of the list, look at the smallest number and move it to the accurate position in the sorted part of the list. Keep repeating this process until the task is finished.**\n",
    "\n",
    "SORTED: [0, 17, 40, 45, 46, 67, 69, 75, 79, 80]\n",
    "\n",
    "\n",
    "[88, 39, 53, 39, 58, 43, 74, 81, 71, 51]\n",
    "\n",
    "How would you sort this list with... \n",
    "- Merge Sort: **Here, the list would be divided up into subarrays. The subarrays would be sorted, and then compiled together to sort the entire list.**\n",
    "- Insertion Sort: **The lowest number would go to the left, and the highest number would go to the right, and this process would keep continuing until the list is completely sorted.**\n",
    "\n",
    "SORTED: [39, 39, 43, 51, 53, 58, 71, 74, 81, 88]\n",
    "\n"
   ]
  },
  {
   "attachments": {},
   "cell_type": "markdown",
   "metadata": {},
   "source": [
    "# Sorting Words\n",
    "> Sorting strings works in the same way as integers. Using your expertise algorithm, sort the following list of random words."
   ]
  },
  {
   "cell_type": "code",
   "execution_count": 2,
   "metadata": {},
   "outputs": [
    {
     "name": "stdout",
     "output_type": "stream",
     "text": [
      "Random List\n",
      "['Idaean', 'peristeropod', 'Marssonina', 'knightlike', 'implant', 'kaempferol', 'ineligibly', 'mycosin', 'Maccabees', 'nidificate']\n",
      "SORTED LIST: \n",
      "['Baalitical', 'Imperata', 'aculeated', 'cleanse', 'insure', 'monomineral', 'parakinetic', 'sequester', 'unnabbed', 'wiredrawn']\n"
     ]
    },
    {
     "name": "stderr",
     "output_type": "stream",
     "text": [
      "[nltk_data] Downloading package words to /home/vardaan/nltk_data...\n",
      "[nltk_data]   Package words is already up-to-date!\n"
     ]
    }
   ],
   "source": [
    "import nltk\n",
    "import random\n",
    "from nltk.corpus import words\n",
    "nltk.download('words')  # Download the word list (only required once)\n",
    "english_words = words.words()\n",
    "\n",
    "def new_words():\n",
    "    # You can now use the 'english_words' list in your code\n",
    "    random_words = []\n",
    "    for i in range(10):\n",
    "        random_words.append(english_words[random.randint(0,len(english_words))])\n",
    "    return random_words\n",
    "        \n",
    "\n",
    "print(\"Random List\")\n",
    "print(new_words())\n",
    "\n",
    "word_list = ['cleanse', 'insure', 'monomineral', 'aculeated', 'Baalitical', 'wiredrawn', 'unnabbed', 'Imperata', 'parakinetic', 'sequester']\n",
    "word_list.sort()\n",
    "print(\"SORTED LIST: \")\n",
    "print(word_list)"
   ]
  },
  {
   "attachments": {},
   "cell_type": "markdown",
   "metadata": {},
   "source": [
    "**NOTE: FOR THE ABOVE EXERCISE, WE CANNOT MAKE A SET WORD LIST, SINCE IT CHANGES EACH TIME.**"
   ]
  },
  {
   "attachments": {},
   "cell_type": "markdown",
   "metadata": {},
   "source": [
    "## Discuss \n",
    "Answer the following with your group.\n",
    "\n",
    "- When should you use each algorithm? What makes an algorithm the right choice?: **An algorithm can be deemed \"the right choice\" based on the efficiency needed to sort the list and the size of the list and the corresponding situation. A bubble sort can be used for an easy list, since it's a very straightforward algorithm, and each element is compared to the next, so it will be too time consuming for a very large list. The insertion sort should also be utilized for smaller lists, since the list is sorted one element at a time. Finally, the merge sort is a much more complex sorting algorithm, which can be utilized for larger and more complex datasets. This is because it utilizes recursion.**\n",
    "- Given the following lists...\n",
    "    - [0, 2, 6, 4, 8, 10]: **A BUBBLE OR INSERTION SORT BOTH WORK**\n",
    "    <br>\n",
    "    - [Elephant, Banana, Cat, Dog, Apple]: **SELECTION SORT**\n",
    "    <br>\n",
    "    - [29, 13, 83, 47, 32, 78, 100, 60, 65, 15, 24, 9, 40, 68, 53, 8, 90, 58, 39, 32, 34, 91, 74, 94, 49, 87, 34, 87, 23, 17, 27, 2, 38, 58, 84, 15, 9, 46, 74, 40, 44, 8, 55, 28, 81, 92, 81, 88, 53, 38, 19, 21, 9, 54, 21, 67, 3, 41, 3, 74, 13, 71, 70, 45, 5, 36, 80, 64, 97, 86, 73, 74, 94, 79, 49, 32, 20, 68, 64, 69, 1, 77, 31, 56, 100, 80, 48, 75, 85, 93, 67, 57, 26, 56, 43, 53, 59, 28, 67, 50]: **MERGE SORT**\n",
    "    <br>\n",
    "Select the algorithm you believe is best for each, explain."
   ]
  }
 ],
 "metadata": {
  "kernelspec": {
   "display_name": "base",
   "language": "python",
   "name": "python3"
  },
  "language_info": {
   "codemirror_mode": {
    "name": "ipython",
    "version": 3
   },
   "file_extension": ".py",
   "mimetype": "text/x-python",
   "name": "python",
   "nbconvert_exporter": "python",
   "pygments_lexer": "ipython3",
   "version": "3.9.12"
  },
  "orig_nbformat": 4
 },
 "nbformat": 4,
 "nbformat_minor": 2
}
