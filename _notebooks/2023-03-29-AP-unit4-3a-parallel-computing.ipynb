{
 "cells": [
  {
   "attachments": {},
   "cell_type": "markdown",
   "metadata": {},
   "source": [
    "#  Unit 4.3a Parallel Computing\n",
    "> Observe an algorithm using parallel computing in Python Code.  Monitor processes on host.\n",
    "- toc: true\n",
    "- image: /images/python.png\n",
    "- categories: []\n",
    "- type: ap\n",
    "- week: 28"
   ]
  },
  {
   "attachments": {},
   "cell_type": "markdown",
   "metadata": {},
   "source": [
    "## Analyzing Parallel Computing\n",
    "> Once again we will use image lab, this time to review Parallel Computing.\n",
    "- Change baseWidth in this line in code to increase computation requirements: ```def process_image(image, baseWidth=512):```  For instance 320, 512, 1024, 2048, 4096.\n",
    "- Compare Sequential and Parallel computing code and time to achieve outputs"
   ]
  },
  {
   "cell_type": "code",
   "execution_count": 1,
   "metadata": {},
   "outputs": [],
   "source": [
    "from IPython.display import HTML, display\n",
    "from pathlib import Path  # https://medium.com/@ageitgey/python-3-quick-tip-the-easy-way-to-deal-with-file-paths-on-windows-mac-and-linux-11a072b58d5f\n",
    "from PIL import Image as pilImage # as PIL Image is used to avoid conflicts\n",
    "from io import BytesIO\n",
    "import base64\n",
    "import numpy as np\n",
    "\n",
    "\n",
    "# prepares a series of images\n",
    "def image_data(path=Path(\"images/\"), images=None):  # path of static images is defaulted\n",
    "    if images is None:  # default image\n",
    "        images = [\n",
    "            {'source': \"Internet\", 'label': \"Green Square\", 'file': \"green-square-16.png\"},\n",
    "            {'source': \"Peter Carolin\", 'label': \"Clouds Impression\", 'file': \"clouds-impression.png\"},\n",
    "            {'source': \"Peter Carolin\", 'label': \"Lassen Volcano\", 'file': \"lassen-volcano.jpg\"}\n",
    "        ]\n",
    "    for image in images:\n",
    "        # File to open\n",
    "        image['filename'] = path / image['file']  # file with path\n",
    "    return images\n",
    "\n",
    "# Scale to baseWidth\n",
    "def scale_image(img, baseWidth):\n",
    "    scalePercent = (baseWidth/float(img.size[0]))\n",
    "    scaleHeight = int((float(img.size[1])*float(scalePercent)))\n",
    "    scale = (baseWidth, scaleHeight)\n",
    "    return img.resize(scale)\n",
    "\n",
    "# PIL image converted to base64\n",
    "def image_to_base64(img, format):\n",
    "    with BytesIO() as buffer:\n",
    "        img.save(buffer, format)\n",
    "        return base64.b64encode(buffer.getvalue()).decode()\n",
    "    \n",
    "# Convert pixels to Grey Scale\n",
    "def grey_pixel(pixel):\n",
    "    average = (pixel[0] + pixel[1] + pixel[2]) // 3  # average pixel values and use // for integer division\n",
    "    if len(pixel) > 3:\n",
    "        return( (average, average, average, pixel[3]) ) # PNG format\n",
    "    else:\n",
    "        return( (average, average, average) )\n",
    "    \n",
    "# Convert pixels to Red Scale\n",
    "def red_pixel(pixel):\n",
    "    if len(pixel) > 3:\n",
    "        return( (pixel[0], 0, 0, pixel[3]) ) # PNG format\n",
    "    else:\n",
    "        return( (pixel[0], 0, 0) )\n",
    "    \n",
    "# Convert pixels to Red Scale\n",
    "def green_pixel(pixel):\n",
    "    if len(pixel) > 3:\n",
    "        return( (0, pixel[1], 0, pixel[3]) ) # PNG format\n",
    "    else:\n",
    "        return( (0, pixel[1], 0) )\n",
    "    \n",
    "# Convert pixels to Red Scale\n",
    "def blue_pixel(pixel):\n",
    "    if len(pixel) > 3:\n",
    "        return( (0, 0, pixel[2], pixel[3]) ) # PNG format\n",
    "    else:\n",
    "        return( (0, 0, pixel[2]) )\n",
    "        \n",
    "# Set Properties of Image, Scale, and convert to Base64\n",
    "def image_management(image, baseWidth):  # path of static images is defaulted        \n",
    "    # Image open return PIL image object\n",
    "    img = pilImage.open(image['filename'])\n",
    "    \n",
    "    # Python Image Library operations\n",
    "    image['format'] = img.format\n",
    "    image['mode'] = img.mode\n",
    "    image['size'] = img.size\n",
    "    # Scale the Image\n",
    "    img = scale_image(img, baseWidth)\n",
    "    image['pil'] = img\n",
    "    image['scaled_size'] = img.size\n",
    "    image['numpy'] = np.array(img.getdata())\n",
    "    # Scaled HTML\n",
    "    image['html'] = '<img src=\"data:image/png;base64,%s\">' % image_to_base64(image['pil'], image['format'])\n",
    "    \n",
    "    # Grey HTML\n",
    "    # each pixel in numpy array is turned to grey \n",
    "    # then resulting list, using List Comprehension, is put back into img    \n",
    "    img.putdata([grey_pixel(pixel) for pixel in image['numpy']])\n",
    "    image['html_grey'] =  '<img src=\"data:image/png;base64,%s\">' % image_to_base64(img, image['format'])\n",
    "    \n",
    "    # Red HTML\n",
    "    img.putdata([red_pixel(pixel) for pixel in image['numpy']])\n",
    "    image['html_red'] =  '<img src=\"data:image/png;base64,%s\">' % image_to_base64(img, image['format'])\n",
    "    \n",
    "    # Green HTML\n",
    "    img.putdata([green_pixel(pixel) for pixel in image['numpy']])\n",
    "    image['html_green'] =  '<img src=\"data:image/png;base64,%s\">' % image_to_base64(img, image['format'])\n",
    "    \n",
    "    # Blue HTML\n",
    "    img.putdata([blue_pixel(pixel) for pixel in image['numpy']])\n",
    "    image['html_blue'] =  '<img src=\"data:image/png;base64,%s\">' % image_to_base64(img, image['format'])\n",
    "    \n",
    "    \n",
    "def process_image(image, baseWidth=320):\n",
    "    image_management(image, baseWidth)\n",
    "    print(\"---- meta data -----\")\n",
    "    print(image['label'])\n",
    "    print(image['source'])\n",
    "    print(image['format'])\n",
    "    print(image['mode'])\n",
    "    print(\"Original size: \", image['size'])\n",
    "    print(\"Scaled size: \", image['scaled_size'])\n",
    "    \n",
    "    print(\"-- images --\")\n",
    "    display(HTML(image['html'])) \n",
    "    display(HTML(image['html_grey'])) \n",
    "    display(HTML(image['html_red'])) \n",
    "    display(HTML(image['html_green'])) \n",
    "    display(HTML(image['html_blue'])) \n"
   ]
  },
  {
   "attachments": {},
   "cell_type": "markdown",
   "metadata": {},
   "source": [
    "## Sequential Processing \n",
    "> The for loop iterates over the list of images and processes them one at a time, in order."
   ]
  },
  {
   "cell_type": "code",
   "execution_count": 2,
   "metadata": {},
   "outputs": [
    {
     "name": "stdout",
     "output_type": "stream",
     "text": [
      "---- meta data -----\n",
      "Green Square\n",
      "Internet\n",
      "PNG\n",
      "RGBA\n",
      "Original size:  (16, 16)\n",
      "Scaled size:  (320, 320)\n",
      "-- images --\n"
     ]
    },
    {
     "data": {
      "text/html": [
       "<img src=\"data:image/png;base64,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\">"
      ],
      "text/plain": [
       "<IPython.core.display.HTML object>"
      ]
     },
     "metadata": {},
     "output_type": "display_data"
    },
    {
     "data": {
      "text/html": [
       "<img src=\"data:image/png;base64,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\">"
      ],
      "text/plain": [
       "<IPython.core.display.HTML object>"
      ]
     },
     "metadata": {},
     "output_type": "display_data"
    },
    {
     "data": {
      "text/html": [
       "<img src=\"data:image/png;base64,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\">"
      ],
      "text/plain": [
       "<IPython.core.display.HTML object>"
      ]
     },
     "metadata": {},
     "output_type": "display_data"
    },
    {
     "data": {
      "text/html": [
       "<img src=\"data:image/png;base64,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\">"
      ],
      "text/plain": [
       "<IPython.core.display.HTML object>"
      ]
     },
     "metadata": {},
     "output_type": "display_data"
    },
    {
     "data": {
      "text/html": [
       "<img src=\"data:image/png;base64,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\">"
      ],
      "text/plain": [
       "<IPython.core.display.HTML object>"
      ]
     },
     "metadata": {},
     "output_type": "display_data"
    },
    {
     "name": "stdout",
     "output_type": "stream",
     "text": [
      "---- meta data -----\n",
      "Clouds Impression\n",
      "Peter Carolin\n",
      "PNG\n",
      "RGBA\n",
      "Original size:  (320, 234)\n",
      "Scaled size:  (320, 234)\n",
      "-- images --\n"
     ]
    },
    {
     "data": {
      "text/html": [
       "<img src=\"data:image/png;base64,iVBORw0KGgoAAAANSUhEUgAAAUAAAADqCAYAAADTYJyWAAADJklEQVR4nO3XsRHAMAwDMTr77+xUmSHFAxOo+qPO2c7d7rad7Qwg4ogeUPX8fQDAX55tu9v93mCACgsQyBJAIEsAgSwBBLIEEMgSQCBLAIEsAQSyBBDIEkAgSwCBLAEEsgQQyBJAIEsAgSwBBLIEEMgSQCBLAIEsAQSyBBDIEkAgSwCBLAEEsgQQyBJAIEsAgSwBBLIEEMgSQCBLAIEsAQSyBBDIEkAgSwCBLAEEsgQQyBJAIEsAgSwBBLIEEMgSQCBLAIEsAQSyBBDIEkAgSwCBLAEEsgQQyBJAIEsAgSwBBLIEEMgSQCBLAIEsAQSyBBDIEkAgSwCBLAEEsgQQyBJAIEsAgSwBBLIEEMgSQCBLAIEsAQSyBBDIEkAgSwCBLAEEsgQQyBJAIEsAgSwBBLIEEMgSQCBLAIEsAQSyBBDIEkAgSwCBLAEEsgQQyBJAIEsAgSwBBLIEEMgSQCBLAIEsAQSyBBDIEkAgSwCBLAEEsgQQyBJAIEsAgSwBBLIEEMgSQCBLAIEsAQSyBBDIEkAgSwCBLAEEsgQQyBJAIEsAgSwBBLIEEMgSQCBLAIEsAQSyBBDIEkAgSwCBLAEEsgQQyBJAIEsAgSwBBLIEEMgSQCBLAIEsAQSyBBDIEkAgSwCBLAEEsgQQyBJAIEsAgSwBBLIEEMgSQCBLAIEsAQSyBBDIEkAgSwCBLAEEsgQQyBJAIEsAgSwBBLIEEMgSQCBLAIEsAQSyBBDIEkAgSwCBLAEEsgQQyBJAIEsAgSwBBLIEEMgSQCBLAIEsAQSyBBDIEkAgSwCBLAEEsgQQyBJAIEsAgSwBBLIEEMgSQCBLAIEsAQSyBBDIEkAgSwCBLAEEsgQQyBJAIEsAgSwBBLIEEMgSQCBLAIEsAQSyBBDIEkAgSwCBLAEEsgQQyBJAIEsAgSwBBLIEEMgSQCBLAIEsAQSyBBDIEkAgSwCBLAEEsgQQyBJAIEsAgSwBBLIEEMgSQCBLAIEsAQSyBBDIEkAgSwCBLAEEsgQQyBJAIEsAgSwBBLIEEMgSQCBLAIEsAQSyBBDIEkAgSwCBLAEEsgQQyBJAIOsFmOIH0zKPuaIAAAAASUVORK5CYII=\">"
      ],
      "text/plain": [
       "<IPython.core.display.HTML object>"
      ]
     },
     "metadata": {},
     "output_type": "display_data"
    },
    {
     "data": {
      "text/html": [
       "<img src=\"data:image/png;base64,iVBORw0KGgoAAAANSUhEUgAAAUAAAADqCAYAAADTYJyWAAADJUlEQVR4nO3XsQ2EQBAEwbnPP2cw0IsQMLoqgrVas2fb2XbtcQYQcSZ6QNTv6wMAvvIP4LX3DQZIsACBLAEEsgQQyBJAIEsAgSwBBLIEEMgSQCBLAIEsAQSyBBDIEkAgSwCBLAEEsgQQyBJAIEsAgSwBBLIEEMgSQCBLAIEsAQSyBBDIEkAgSwCBLAEEsgQQyBJAIEsAgSwBBLIEEMgSQCBLAIEsAQSyBBDIEkAgSwCBLAEEsgQQyBJAIEsAgSwBBLIEEMgSQCBLAIEsAQSyBBDIEkAgSwCBLAEEsgQQyBJAIEsAgSwBBLIEEMgSQCBLAIEsAQSyBBDIEkAgSwCBLAEEsgQQyBJAIEsAgSwBBLIEEMgSQCBLAIEsAQSyBBDIEkAgSwCBLAEEsgQQyBJAIEsAgSwBBLIEEMgSQCBLAIEsAQSyBBDIEkAgSwCBLAEEsgQQyBJAIEsAgSwBBLIEEMgSQCBLAIEsAQSyBBDIEkAgSwCBLAEEsgQQyBJAIEsAgSwBBLIEEMgSQCBLAIEsAQSyBBDIEkAgSwCBLAEEsgQQyBJAIEsAgSwBBLIEEMgSQCBLAIEsAQSyBBDIEkAgSwCBLAEEsgQQyBJAIEsAgSwBBLIEEMgSQCBLAIEsAQSyBBDIEkAgSwCBLAEEsgQQyBJAIEsAgSwBBLIEEMgSQCBLAIEsAQSyBBDIEkAgSwCBLAEEsgQQyBJAIEsAgSwBBLIEEMgSQCBLAIEsAQSyBBDIEkAgSwCBLAEEsgQQyBJAIEsAgSwBBLIEEMgSQCBLAIEsAQSyBBDIEkAgSwCBLAEEsgQQyBJAIEsAgSwBBLIEEMgSQCBLAIEsAQSyBBDIEkAgSwCBLAEEsgQQyBJAIEsAgSwBBLIEEMgSQCBLAIEsAQSyBBDIEkAgSwCBLAEEsgQQyBJAIEsAgSwBBLIEEMgSQCBLAIEsAQSyBBDIEkAgSwCBLAEEsgQQyBJAIEsAgSwBBLIEEMgSQCBLAIEsAQSyBBDIEkAgSwCBLAEEsgQQyBJAIEsAgSwBBLIEEMgSQCBLAIEsAQSyBBDIEkAgSwCBLAEEsm4OxATTVOPyAgAAAABJRU5ErkJggg==\">"
      ],
      "text/plain": [
       "<IPython.core.display.HTML object>"
      ]
     },
     "metadata": {},
     "output_type": "display_data"
    },
    {
     "data": {
      "text/html": [
       "<img src=\"data:image/png;base64,iVBORw0KGgoAAAANSUhEUgAAAUAAAADqCAYAAADTYJyWAAADJklEQVR4nO3XsRHAMAwDMTr77+xUmSHFAxOo+qPO2c7d7rad7Qwg4ogeUPX8fQDAX55tu9v93mCACgsQyBJAIEsAgSwBBLIEEMgSQCBLAIEsAQSyBBDIEkAgSwCBLAEEsgQQyBJAIEsAgSwBBLIEEMgSQCBLAIEsAQSyBBDIEkAgSwCBLAEEsgQQyBJAIEsAgSwBBLIEEMgSQCBLAIEsAQSyBBDIEkAgSwCBLAEEsgQQyBJAIEsAgSwBBLIEEMgSQCBLAIEsAQSyBBDIEkAgSwCBLAEEsgQQyBJAIEsAgSwBBLIEEMgSQCBLAIEsAQSyBBDIEkAgSwCBLAEEsgQQyBJAIEsAgSwBBLIEEMgSQCBLAIEsAQSyBBDIEkAgSwCBLAEEsgQQyBJAIEsAgSwBBLIEEMgSQCBLAIEsAQSyBBDIEkAgSwCBLAEEsgQQyBJAIEsAgSwBBLIEEMgSQCBLAIEsAQSyBBDIEkAgSwCBLAEEsgQQyBJAIEsAgSwBBLIEEMgSQCBLAIEsAQSyBBDIEkAgSwCBLAEEsgQQyBJAIEsAgSwBBLIEEMgSQCBLAIEsAQSyBBDIEkAgSwCBLAEEsgQQyBJAIEsAgSwBBLIEEMgSQCBLAIEsAQSyBBDIEkAgSwCBLAEEsgQQyBJAIEsAgSwBBLIEEMgSQCBLAIEsAQSyBBDIEkAgSwCBLAEEsgQQyBJAIEsAgSwBBLIEEMgSQCBLAIEsAQSyBBDIEkAgSwCBLAEEsgQQyBJAIEsAgSwBBLIEEMgSQCBLAIEsAQSyBBDIEkAgSwCBLAEEsgQQyBJAIEsAgSwBBLIEEMgSQCBLAIEsAQSyBBDIEkAgSwCBLAEEsgQQyBJAIEsAgSwBBLIEEMgSQCBLAIEsAQSyBBDIEkAgSwCBLAEEsgQQyBJAIEsAgSwBBLIEEMgSQCBLAIEsAQSyBBDIEkAgSwCBLAEEsgQQyBJAIEsAgSwBBLIEEMgSQCBLAIEsAQSyBBDIEkAgSwCBLAEEsgQQyBJAIEsAgSwBBLIEEMgSQCBLAIEsAQSyBBDIEkAgSwCBLAEEsgQQyBJAIOsFmOIH0zKPuaIAAAAASUVORK5CYII=\">"
      ],
      "text/plain": [
       "<IPython.core.display.HTML object>"
      ]
     },
     "metadata": {},
     "output_type": "display_data"
    },
    {
     "data": {
      "text/html": [
       "<img src=\"data:image/png;base64,iVBORw0KGgoAAAANSUhEUgAAAUAAAADqCAYAAADTYJyWAAADJUlEQVR4nO3XsQ2EQBAEwbnPP2cw0IsQMLoqgrVas2fb2XbtcQYQcSZ6QNTv6wMAvvIP4LX3DQZIsACBLAEEsgQQyBJAIEsAgSwBBLIEEMgSQCBLAIEsAQSyBBDIEkAgSwCBLAEEsgQQyBJAIEsAgSwBBLIEEMgSQCBLAIEsAQSyBBDIEkAgSwCBLAEEsgQQyBJAIEsAgSwBBLIEEMgSQCBLAIEsAQSyBBDIEkAgSwCBLAEEsgQQyBJAIEsAgSwBBLIEEMgSQCBLAIEsAQSyBBDIEkAgSwCBLAEEsgQQyBJAIEsAgSwBBLIEEMgSQCBLAIEsAQSyBBDIEkAgSwCBLAEEsgQQyBJAIEsAgSwBBLIEEMgSQCBLAIEsAQSyBBDIEkAgSwCBLAEEsgQQyBJAIEsAgSwBBLIEEMgSQCBLAIEsAQSyBBDIEkAgSwCBLAEEsgQQyBJAIEsAgSwBBLIEEMgSQCBLAIEsAQSyBBDIEkAgSwCBLAEEsgQQyBJAIEsAgSwBBLIEEMgSQCBLAIEsAQSyBBDIEkAgSwCBLAEEsgQQyBJAIEsAgSwBBLIEEMgSQCBLAIEsAQSyBBDIEkAgSwCBLAEEsgQQyBJAIEsAgSwBBLIEEMgSQCBLAIEsAQSyBBDIEkAgSwCBLAEEsgQQyBJAIEsAgSwBBLIEEMgSQCBLAIEsAQSyBBDIEkAgSwCBLAEEsgQQyBJAIEsAgSwBBLIEEMgSQCBLAIEsAQSyBBDIEkAgSwCBLAEEsgQQyBJAIEsAgSwBBLIEEMgSQCBLAIEsAQSyBBDIEkAgSwCBLAEEsgQQyBJAIEsAgSwBBLIEEMgSQCBLAIEsAQSyBBDIEkAgSwCBLAEEsgQQyBJAIEsAgSwBBLIEEMgSQCBLAIEsAQSyBBDIEkAgSwCBLAEEsgQQyBJAIEsAgSwBBLIEEMgSQCBLAIEsAQSyBBDIEkAgSwCBLAEEsgQQyBJAIEsAgSwBBLIEEMgSQCBLAIEsAQSyBBDIEkAgSwCBLAEEsgQQyBJAIEsAgSwBBLIEEMgSQCBLAIEsAQSyBBDIEkAgSwCBLAEEsm4OxATTVOPyAgAAAABJRU5ErkJggg==\">"
      ],
      "text/plain": [
       "<IPython.core.display.HTML object>"
      ]
     },
     "metadata": {},
     "output_type": "display_data"
    },
    {
     "data": {
      "text/html": [
       "<img src=\"data:image/png;base64,iVBORw0KGgoAAAANSUhEUgAAAUAAAADqCAYAAADTYJyWAAADJUlEQVR4nO3XsQ2EQBAEwbnPP2cw0IsQMLoqgrVas2fb2XbtcQYQcSZ6QNTv6wMAvvIP4LX3DQZIsACBLAEEsgQQyBJAIEsAgSwBBLIEEMgSQCBLAIEsAQSyBBDIEkAgSwCBLAEEsgQQyBJAIEsAgSwBBLIEEMgSQCBLAIEsAQSyBBDIEkAgSwCBLAEEsgQQyBJAIEsAgSwBBLIEEMgSQCBLAIEsAQSyBBDIEkAgSwCBLAEEsgQQyBJAIEsAgSwBBLIEEMgSQCBLAIEsAQSyBBDIEkAgSwCBLAEEsgQQyBJAIEsAgSwBBLIEEMgSQCBLAIEsAQSyBBDIEkAgSwCBLAEEsgQQyBJAIEsAgSwBBLIEEMgSQCBLAIEsAQSyBBDIEkAgSwCBLAEEsgQQyBJAIEsAgSwBBLIEEMgSQCBLAIEsAQSyBBDIEkAgSwCBLAEEsgQQyBJAIEsAgSwBBLIEEMgSQCBLAIEsAQSyBBDIEkAgSwCBLAEEsgQQyBJAIEsAgSwBBLIEEMgSQCBLAIEsAQSyBBDIEkAgSwCBLAEEsgQQyBJAIEsAgSwBBLIEEMgSQCBLAIEsAQSyBBDIEkAgSwCBLAEEsgQQyBJAIEsAgSwBBLIEEMgSQCBLAIEsAQSyBBDIEkAgSwCBLAEEsgQQyBJAIEsAgSwBBLIEEMgSQCBLAIEsAQSyBBDIEkAgSwCBLAEEsgQQyBJAIEsAgSwBBLIEEMgSQCBLAIEsAQSyBBDIEkAgSwCBLAEEsgQQyBJAIEsAgSwBBLIEEMgSQCBLAIEsAQSyBBDIEkAgSwCBLAEEsgQQyBJAIEsAgSwBBLIEEMgSQCBLAIEsAQSyBBDIEkAgSwCBLAEEsgQQyBJAIEsAgSwBBLIEEMgSQCBLAIEsAQSyBBDIEkAgSwCBLAEEsgQQyBJAIEsAgSwBBLIEEMgSQCBLAIEsAQSyBBDIEkAgSwCBLAEEsgQQyBJAIEsAgSwBBLIEEMgSQCBLAIEsAQSyBBDIEkAgSwCBLAEEsgQQyBJAIEsAgSwBBLIEEMgSQCBLAIEsAQSyBBDIEkAgSwCBLAEEsm4OxATTVOPyAgAAAABJRU5ErkJggg==\">"
      ],
      "text/plain": [
       "<IPython.core.display.HTML object>"
      ]
     },
     "metadata": {},
     "output_type": "display_data"
    },
    {
     "name": "stdout",
     "output_type": "stream",
     "text": [
      "---- meta data -----\n",
      "Lassen Volcano\n",
      "Peter Carolin\n",
      "JPEG\n",
      "RGB\n",
      "Original size:  (2792, 2094)\n",
      "Scaled size:  (320, 240)\n",
      "-- images --\n"
     ]
    },
    {
     "data": {
      "text/html": [
       "<img src=\"data:image/png;base64,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\">"
      ],
      "text/plain": [
       "<IPython.core.display.HTML object>"
      ]
     },
     "metadata": {},
     "output_type": "display_data"
    },
    {
     "data": {
      "text/html": [
       "<img src=\"data:image/png;base64,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\">"
      ],
      "text/plain": [
       "<IPython.core.display.HTML object>"
      ]
     },
     "metadata": {},
     "output_type": "display_data"
    },
    {
     "data": {
      "text/html": [
       "<img src=\"data:image/png;base64,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\">"
      ],
      "text/plain": [
       "<IPython.core.display.HTML object>"
      ]
     },
     "metadata": {},
     "output_type": "display_data"
    },
    {
     "data": {
      "text/html": [
       "<img src=\"data:image/png;base64,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\">"
      ],
      "text/plain": [
       "<IPython.core.display.HTML object>"
      ]
     },
     "metadata": {},
     "output_type": "display_data"
    },
    {
     "data": {
      "text/html": [
       "<img src=\"data:image/png;base64,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\">"
      ],
      "text/plain": [
       "<IPython.core.display.HTML object>"
      ]
     },
     "metadata": {},
     "output_type": "display_data"
    },
    {
     "name": "stdout",
     "output_type": "stream",
     "text": [
      "\n"
     ]
    }
   ],
   "source": [
    "# Jupyter Notebook Visualization of Images\n",
    "if __name__ == \"__main__\":\n",
    "    # setup default images\n",
    "    images = image_data()\n",
    "\n",
    "    # Sequential Processing    \n",
    "    for image in images:\n",
    "        process_image(image)\n",
    "        \n",
    "    print()"
   ]
  },
  {
   "attachments": {},
   "cell_type": "markdown",
   "metadata": {},
   "source": [
    "## Parallel Computing\n",
    "\n",
    " > In parallel or concurrent mode, the ThreadPoolExecutor is used to submit each image to a separate worker thread, allowing multiple images to be processed simultaneously. Multithreading allows multiple concurrent tasks of a process at the same time. The executor.map() method is used to apply the process_image function to each image in the images list.  \n",
    " - The order in which the images are processed is not guaranteed, as threads are performed simultaneously."
   ]
  },
  {
   "cell_type": "code",
   "execution_count": 3,
   "metadata": {},
   "outputs": [
    {
     "name": "stdout",
     "output_type": "stream",
     "text": [
      "---- meta data -----\n",
      "Clouds Impression\n",
      "Peter Carolin\n",
      "PNG\n",
      "RGBA\n",
      "Original size:  (320, 234)\n",
      "Scaled size:  (320, 234)\n",
      "-- images --\n"
     ]
    },
    {
     "data": {
      "text/html": [
       "<img src=\"data:image/png;base64,iVBORw0KGgoAAAANSUhEUgAAAUAAAADqCAYAAADTYJyWAAADJklEQVR4nO3XsRHAMAwDMTr77+xUmSHFAxOo+qPO2c7d7rad7Qwg4ogeUPX8fQDAX55tu9v93mCACgsQyBJAIEsAgSwBBLIEEMgSQCBLAIEsAQSyBBDIEkAgSwCBLAEEsgQQyBJAIEsAgSwBBLIEEMgSQCBLAIEsAQSyBBDIEkAgSwCBLAEEsgQQyBJAIEsAgSwBBLIEEMgSQCBLAIEsAQSyBBDIEkAgSwCBLAEEsgQQyBJAIEsAgSwBBLIEEMgSQCBLAIEsAQSyBBDIEkAgSwCBLAEEsgQQyBJAIEsAgSwBBLIEEMgSQCBLAIEsAQSyBBDIEkAgSwCBLAEEsgQQyBJAIEsAgSwBBLIEEMgSQCBLAIEsAQSyBBDIEkAgSwCBLAEEsgQQyBJAIEsAgSwBBLIEEMgSQCBLAIEsAQSyBBDIEkAgSwCBLAEEsgQQyBJAIEsAgSwBBLIEEMgSQCBLAIEsAQSyBBDIEkAgSwCBLAEEsgQQyBJAIEsAgSwBBLIEEMgSQCBLAIEsAQSyBBDIEkAgSwCBLAEEsgQQyBJAIEsAgSwBBLIEEMgSQCBLAIEsAQSyBBDIEkAgSwCBLAEEsgQQyBJAIEsAgSwBBLIEEMgSQCBLAIEsAQSyBBDIEkAgSwCBLAEEsgQQyBJAIEsAgSwBBLIEEMgSQCBLAIEsAQSyBBDIEkAgSwCBLAEEsgQQyBJAIEsAgSwBBLIEEMgSQCBLAIEsAQSyBBDIEkAgSwCBLAEEsgQQyBJAIEsAgSwBBLIEEMgSQCBLAIEsAQSyBBDIEkAgSwCBLAEEsgQQyBJAIEsAgSwBBLIEEMgSQCBLAIEsAQSyBBDIEkAgSwCBLAEEsgQQyBJAIEsAgSwBBLIEEMgSQCBLAIEsAQSyBBDIEkAgSwCBLAEEsgQQyBJAIEsAgSwBBLIEEMgSQCBLAIEsAQSyBBDIEkAgSwCBLAEEsgQQyBJAIEsAgSwBBLIEEMgSQCBLAIEsAQSyBBDIEkAgSwCBLAEEsgQQyBJAIEsAgSwBBLIEEMgSQCBLAIEsAQSyBBDIEkAgSwCBLAEEsgQQyBJAIOsFmOIH0zKPuaIAAAAASUVORK5CYII=\">"
      ],
      "text/plain": [
       "<IPython.core.display.HTML object>"
      ]
     },
     "metadata": {},
     "output_type": "display_data"
    },
    {
     "data": {
      "text/html": [
       "<img src=\"data:image/png;base64,iVBORw0KGgoAAAANSUhEUgAAAUAAAADqCAYAAADTYJyWAAADJUlEQVR4nO3XsQ2EQBAEwbnPP2cw0IsQMLoqgrVas2fb2XbtcQYQcSZ6QNTv6wMAvvIP4LX3DQZIsACBLAEEsgQQyBJAIEsAgSwBBLIEEMgSQCBLAIEsAQSyBBDIEkAgSwCBLAEEsgQQyBJAIEsAgSwBBLIEEMgSQCBLAIEsAQSyBBDIEkAgSwCBLAEEsgQQyBJAIEsAgSwBBLIEEMgSQCBLAIEsAQSyBBDIEkAgSwCBLAEEsgQQyBJAIEsAgSwBBLIEEMgSQCBLAIEsAQSyBBDIEkAgSwCBLAEEsgQQyBJAIEsAgSwBBLIEEMgSQCBLAIEsAQSyBBDIEkAgSwCBLAEEsgQQyBJAIEsAgSwBBLIEEMgSQCBLAIEsAQSyBBDIEkAgSwCBLAEEsgQQyBJAIEsAgSwBBLIEEMgSQCBLAIEsAQSyBBDIEkAgSwCBLAEEsgQQyBJAIEsAgSwBBLIEEMgSQCBLAIEsAQSyBBDIEkAgSwCBLAEEsgQQyBJAIEsAgSwBBLIEEMgSQCBLAIEsAQSyBBDIEkAgSwCBLAEEsgQQyBJAIEsAgSwBBLIEEMgSQCBLAIEsAQSyBBDIEkAgSwCBLAEEsgQQyBJAIEsAgSwBBLIEEMgSQCBLAIEsAQSyBBDIEkAgSwCBLAEEsgQQyBJAIEsAgSwBBLIEEMgSQCBLAIEsAQSyBBDIEkAgSwCBLAEEsgQQyBJAIEsAgSwBBLIEEMgSQCBLAIEsAQSyBBDIEkAgSwCBLAEEsgQQyBJAIEsAgSwBBLIEEMgSQCBLAIEsAQSyBBDIEkAgSwCBLAEEsgQQyBJAIEsAgSwBBLIEEMgSQCBLAIEsAQSyBBDIEkAgSwCBLAEEsgQQyBJAIEsAgSwBBLIEEMgSQCBLAIEsAQSyBBDIEkAgSwCBLAEEsgQQyBJAIEsAgSwBBLIEEMgSQCBLAIEsAQSyBBDIEkAgSwCBLAEEsgQQyBJAIEsAgSwBBLIEEMgSQCBLAIEsAQSyBBDIEkAgSwCBLAEEsgQQyBJAIEsAgSwBBLIEEMgSQCBLAIEsAQSyBBDIEkAgSwCBLAEEsm4OxATTVOPyAgAAAABJRU5ErkJggg==\">"
      ],
      "text/plain": [
       "<IPython.core.display.HTML object>"
      ]
     },
     "metadata": {},
     "output_type": "display_data"
    },
    {
     "name": "stdout",
     "output_type": "stream",
     "text": [
      "---- meta data -----\n",
      "Green Square\n",
      "---- meta data -----\n",
      "Internet\n",
      "PNG\n",
      "RGBA\n",
      "Original size:  (16, 16)\n",
      "Scaled size:  (320, 320)\n",
      "-- images --\n",
      "Lassen Volcano\n",
      "Peter Carolin\n",
      "JPEG\n",
      "RGB\n",
      "Original size:  (2792, 2094)\n",
      "Scaled size:  (320, 240)\n",
      "-- images --\n"
     ]
    },
    {
     "data": {
      "text/html": [
       "<img src=\"data:image/png;base64,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\">"
      ],
      "text/plain": [
       "<IPython.core.display.HTML object>"
      ]
     },
     "metadata": {},
     "output_type": "display_data"
    },
    {
     "data": {
      "text/html": [
       "<img src=\"data:image/png;base64,iVBORw0KGgoAAAANSUhEUgAAAUAAAADqCAYAAADTYJyWAAADJklEQVR4nO3XsRHAMAwDMTr77+xUmSHFAxOo+qPO2c7d7rad7Qwg4ogeUPX8fQDAX55tu9v93mCACgsQyBJAIEsAgSwBBLIEEMgSQCBLAIEsAQSyBBDIEkAgSwCBLAEEsgQQyBJAIEsAgSwBBLIEEMgSQCBLAIEsAQSyBBDIEkAgSwCBLAEEsgQQyBJAIEsAgSwBBLIEEMgSQCBLAIEsAQSyBBDIEkAgSwCBLAEEsgQQyBJAIEsAgSwBBLIEEMgSQCBLAIEsAQSyBBDIEkAgSwCBLAEEsgQQyBJAIEsAgSwBBLIEEMgSQCBLAIEsAQSyBBDIEkAgSwCBLAEEsgQQyBJAIEsAgSwBBLIEEMgSQCBLAIEsAQSyBBDIEkAgSwCBLAEEsgQQyBJAIEsAgSwBBLIEEMgSQCBLAIEsAQSyBBDIEkAgSwCBLAEEsgQQyBJAIEsAgSwBBLIEEMgSQCBLAIEsAQSyBBDIEkAgSwCBLAEEsgQQyBJAIEsAgSwBBLIEEMgSQCBLAIEsAQSyBBDIEkAgSwCBLAEEsgQQyBJAIEsAgSwBBLIEEMgSQCBLAIEsAQSyBBDIEkAgSwCBLAEEsgQQyBJAIEsAgSwBBLIEEMgSQCBLAIEsAQSyBBDIEkAgSwCBLAEEsgQQyBJAIEsAgSwBBLIEEMgSQCBLAIEsAQSyBBDIEkAgSwCBLAEEsgQQyBJAIEsAgSwBBLIEEMgSQCBLAIEsAQSyBBDIEkAgSwCBLAEEsgQQyBJAIEsAgSwBBLIEEMgSQCBLAIEsAQSyBBDIEkAgSwCBLAEEsgQQyBJAIEsAgSwBBLIEEMgSQCBLAIEsAQSyBBDIEkAgSwCBLAEEsgQQyBJAIEsAgSwBBLIEEMgSQCBLAIEsAQSyBBDIEkAgSwCBLAEEsgQQyBJAIEsAgSwBBLIEEMgSQCBLAIEsAQSyBBDIEkAgSwCBLAEEsgQQyBJAIEsAgSwBBLIEEMgSQCBLAIEsAQSyBBDIEkAgSwCBLAEEsgQQyBJAIEsAgSwBBLIEEMgSQCBLAIEsAQSyBBDIEkAgSwCBLAEEsgQQyBJAIOsFmOIH0zKPuaIAAAAASUVORK5CYII=\">"
      ],
      "text/plain": [
       "<IPython.core.display.HTML object>"
      ]
     },
     "metadata": {},
     "output_type": "display_data"
    },
    {
     "data": {
      "text/html": [
       "<img src=\"data:image/png;base64,/9j/4AAQSkZJRgABAQAAAQABAAD/2wBDAAgGBgcGBQgHBwcJCQgKDBQNDAsLDBkSEw8UHRofHh0aHBwgJC4nICIsIxwcKDcpLDAxNDQ0Hyc5PTgyPC4zNDL/2wBDAQgJCQwLDBgNDRgyIRwhMjIyMjIyMjIyMjIyMjIyMjIyMjIyMjIyMjIyMjIyMjIyMjIyMjIyMjIyMjIyMjIyMjL/wAARCADwAUADASIAAhEBAxEB/8QAHwAAAQUBAQEBAQEAAAAAAAAAAAECAwQFBgcICQoL/8QAtRAAAgEDAwIEAwUFBAQAAAF9AQIDAAQRBRIhMUEGE1FhByJxFDKBkaEII0KxwRVS0fAkM2JyggkKFhcYGRolJicoKSo0NTY3ODk6Q0RFRkdISUpTVFVWV1hZWmNkZWZnaGlqc3R1dnd4eXqDhIWGh4iJipKTlJWWl5iZmqKjpKWmp6ipqrKztLW2t7i5usLDxMXGx8jJytLT1NXW19jZ2uHi4+Tl5ufo6erx8vP09fb3+Pn6/8QAHwEAAwEBAQEBAQEBAQAAAAAAAAECAwQFBgcICQoL/8QAtREAAgECBAQDBAcFBAQAAQJ3AAECAxEEBSExBhJBUQdhcRMiMoEIFEKRobHBCSMzUvAVYnLRChYkNOEl8RcYGRomJygpKjU2Nzg5OkNERUZHSElKU1RVVldYWVpjZGVmZ2hpanN0dXZ3eHl6goOEhYaHiImKkpOUlZaXmJmaoqOkpaanqKmqsrO0tba3uLm6wsPExcbHyMnK0tPU1dbX2Nna4uPk5ebn6Onq8vP09fb3+Pn6/9oADAMBAAIRAxEAPwDxFsnFIfQU9xglewNR/WuY9x6C9KTvSFqOc0ybi0oPFNopBcdRmm5pKdhcw7NNJpR0oxQJ3YmTT8UYAFGeaBpW3ENLzSZ9qD0oAXvS5HtTM80m6mLmH5oyabml5zSHe4vPrS5PrSAGnBT70XKSYAmnZPWgKQKkC/WpbRvGLYzmlp20+tG0+tK5fKxBnGKXmjBFLilcpIQcmne+KMYNKeKVy0hM+1A+lHNKMmgaGkH0NJg+hqQ0Urg4XI8U4DH1p2OKMUXGoiYwRTuQOMGjOTT1HFJs0jHsNXI6in7gc4HFJRUmiutBQMrTCvOQKdmjPWgbSaKDnLk+tMPJpzZ4FGK6DxHqN6dqSnUlMVhMU7FJilzQJIbjmlxQCM0E8UBoFJSZzQTTJuPyKTcPSmZpRycAUWDmHbvakwTV630m8uORH5a+r8VsWuiW8A3THzX9+AKwniIQ6nrYXKMVidVGy7vT/g/gc/FaTzKWiidwO6ikaB4/voy9uRXYEhF2qAoHQDiqNyu4Z6nNc8cU5PY9atkMKULqd36af5nOYpQD1wcVfkX5iWTH4U0rnjFdHtDx3hLO1yoBk04cU8wkNxSGNx1BqrpmfJJdA7UuTigLxml6Ui1cXFFITzSbqRV0h2KUdqbn3oJxQNNDqQcmkzSg0D3HbeKQAClHNBpF2F28UbRgUZpaRVkNopSM03FMhi0oPbNJRQPYdmmk0Yoxx1pDbYA0pYYFNxgUBcnmgSb2KzDn8KZT3OKjNbo8yQdaSjPaimZ3DNGKSl64A6mgVxOlJmpGt5lxlCN3T3qVLCVzgYpc0V1KVGrJ2UWVaUKWIAHJNaNrpTzybSwXHWty3021swGVdz/3m5NY1MTCGm7PUweS4jE+8/dj3f8AkY9toM8rAzMsaZ5wckj2rcttPtLPmKMBv7x5NOaTPAGBTSQOTXn1KtSpuz67CYDCYTWEbvu9fu7E7OAeKYWLVAbqIMqkgbuB71GbtfPERGBnqTUKm+x1zxdPrLyJZZdg4+ZugFUXvix2FgtNkvQMyKDuz8meij6VTYs5LE8kk10wpJbnh4rHNu1N/wDDE/2nJ+b1pbiaNpD5HKD14qvt745pQSOorblW55/tptcr/wCCRyyk7WxjHWpMs2AG59PWlIV8ZXpTwI2+8+3HOTTbRlGEm229/kQsCN2VIzUbKc89KviWCQhVLk+uOtW0soZkGWw2M4JyR+FS6vLujojgHWdqckzCcED+tMBY8itmTSJXZlBXb1Bz1qlLpdzEcqjECtI1oPqcdbL8TTd3B2KobApQQaGEi5V0OfcU3IHbBrQ4tVuPBxTlNRbh6GngjPGaTRUZElKT2phcLycj8KA4IyDmlZm3OtrjxTqi81PWn+au3qPzpNMuM49x3am0u5WwQRijIIyOlIbsxDSH2pSKTnHoKZLEGaUZo6UtIErAT8tNGS3tTjkg01eKYPcryDLZHTFRGppDzULAgZxxWyPMqbiZ/Kpood4Vs8Z5FWIrF0iSSSF3z/DjoKd5ZQ7RGUUnoahzXQ6aeEmrOovzKksBU/I24fyqW0twGEso+QdB61aEah93pySamWAyjGf/AK1ZyqaWOulglz8yXyGyT+aqkoPlwAfYU+3imcAp8i9yeBU8cMUAx94jtU43ydeB6VzymkrI9qlhpSlzVHr2X+Y6BFiGFYsx6k1MScY4FMUBRgUtcz1dz2oLljyoAAB3JqG6ZYo/3h5YYCk/rVmJcvVTWECojAclqcNZpGeJThh5VF0K32cExyzFo0wcD+VV5beQTB2IbcNwOefxrQv2EohZDlNuc1WQtKCWPCjjFdMJO1zxcRRp87pryd++n5diAKO6ikIwakJ7cfQU1vQ9Ku5zOKSG0Y60fjQSOuOaZACkaMNgmn4GPams3akmOUVbUjDSxAiPAyeuOams7lbc7yrM+eef61H5UsoO1M1esrJQN88eSeit0FE5RUfeHhqVaVVez0t1eyNC2ma4hEnllcnge1TnNNEir8oIGB0p4IJ615st72PtaS91JyuxPLBHPH0qvJaRu2Sqt9atEjucUDB6UlJoqdGE1ZoqG2iP3ol/FRUD6bbs24ZXnoDTrq8WKcoMN7elR/a8Lnb+Zrpiqlro8irLCOThJJ28v8iRrOBgcxIQfXIrMu7GOPHlYBJ6ZrSiut45247cU0p5rAOq4z0q4TlF6s5sTQoV4e5FXfkZH9nTk/dU+4YUklt5PyyJtbr9RW0bcDgcCoZEQqVY5Faqu2zzqmVwhF238zEMYHI/ShVPUMRzWiLaBuGDD6NUoltAojKZx/eOa1dXsjhjgNbykkUAxA5/OjOe9XVa0dseVtqT/RQSpiAqHU8jeOFuvjX4md1o5q/HCjOA6rtP8Q4pWsos/Kxx7ij2iWg1gqjXMjO5FBP1q09synjBFRtE392rUkznlQnHSw17Fo0WRxnd2HakMYVh6DmpfOluS5BIQYG3OBUqR5Iz0AxUuTW5rGjTl/DWhMb1wFY5Ld8HioWla5YE9qmWNBwq8dMU/aFxwBWN4rZHpuNWovfloQpEoX5vmP04qTJ6Lxn0p/1H50oUHkipcr7msaSWkRFj4yTnNToCBimDk4FTgYHvWUmdtKCWwm2kdggoeTbwOtQFietJK5dSoo6IsQykknHGefpT723+0w+X3ByKhhmSNCr459atJKsvSpd1K6N6fJUpOnN3v0M17WSC0ySDzjHpmq28KCBgZrS1ASSW3ydB94D0rKKFSNw4IyCK6qb5ldniY2HsanLBOySAc5FIc96YWGTt7U+OGSf5v4e3Fa7as85NyfLFXYw5IJAOB6U+O3mkTeqMV9hWlZ2hiyxzn3q3FJu3/wCycZrGVa3wnp0Mt57Oq7X6GPFbTyfKsZHuavxWO1P3nLe1XhzSj6VzzrSZ6tDLaVPVu7KojUcAYp+zI61JNIIoyx69vrVE3UhIUge+OKSUpamlSVKi+Vk7x7SCDkjtTTNj+FvrirCIxQZPOO9MdCoyQMetCa2ZUqckrx0K7XJxxUf2xweCamZFZc9R7VGYlxxx+FaLl7HFU9te6kVirOxYqCSetMMRPOCancBOd3AqtcTGNRtOSe9bRu9jzKyjBNzJ4Yd4+ZenvViSJ1TImC46HFVbS63KVcAEY5q0J4JGKbice/FRNSTOvDyoypqz387GfNPcI4/eB8+maq5JwQeetbpitlPLID15NQmK2iUhNpJUle4NXGquxy1sBUbu5q3rcyTJI3G4n8Kac5681a8tPL3tIMAZx3JqqzsBgDJrojrseRVi46ye4ivsb1IOae15I4KsiHPHSq7tg5AINNDOfw56VfKnqzl9vKPuxZbjlVFwVyfWg3RB+VfzquCflo2scnFLlXU09vO1olsXrd1FPW7Rjg5H4VTUDIz9KTaQ3Pap5ImqxVZdbmlbReShVhnJyMd+Ks43LhgFH60gZSilOhGQabyTXK227nu04xpwUVsSIB/DUmAe3NRqQAAKcJgnQZNQ7nVBxSsxywsT83A96cYB2YkU1bhifm5B7YqTzRjCqF+lQ+Y3iqTWg6KMDJIwB1psj46fKPfqaaZGxjGRULEMx5GR1GelCV3qE6ijG0RJJQqFmPyjkmkDBhuUgj2qu0qTxqg+VZcqD6UWqvHG0bDhWwDjGRW/JZeZ5nt3KoktU1v57/kTHmno7RtuHJ96jZgoJPAHWo0uFkdUVSSckelLlbRTqxhJa6mnHcCQ9NrehPWqslkZZW2PsiXHP9BT4WYEZHbpQ0wjlEfRm7Vmk4v3TtqShVgvbd/QBYRbccM1WVi2IB6enegSovcBscioReoHZTnOcfWpfPI3isPR7K5LGWZQJDhgf0pUmjMhjDZas+e4kD+YePRaEuQACuN3aq9ldXMFjoxly9u+7RpSMw6ccelV3O8ffOfQ1W+2SR453epNTHdJEZCyuuM4HSkoOO5csTGrdRv6Ad2fmH45p8SxA5kIyO1VpHQRKVZmYDkHtUO9z0zV8jaOV4iMJbX/ABNkTR/3xTZWSSJlDrz71jEtj71C/eHzUvYW1uavM3JcriXGlWNCqnOOPlqlJfHJAyaZLIY+i7smoWj5zxlucV0Qppbnj4jF1HpDSxMLkywlWUgn+76VUkcs+Dk4yBxT9+xmEZzlcVFgYPPNbRikeZWqymkm7ssQr5kch7jpj1xUlocgr3zkUtqpWHPqagQtbybiPlIxmpet0dMf3fJN/MdJMwlcTHnPX0pwckjnp0qC7IknIU53Yobcq55xT5dEYutJTkt0h7HCYzye1KkYaPe3BxnBqBmy8ZHBB5qSVirM3OTgLmqsZqau29kPS3Dnt+NWBEsaHaoBx1FVEmKTHJwAuKm3sykqaiSkdNGVJLRakcqAEYBpyj930pU3EMWxSDOzg9OKL9CeVX5l1GMoEh44pCrFc/pQyneSRxxzTww6FsVRkkm2noWbWbau0np071ZyG5HNZYjkQgocnr9KuC4UBQ3XuQOKxnDW6PSw2IfJyz0sWCD0o21HcNJGodOVB+YY61NbOJ0DAY9R6Vi00rnfFxlU9n1FVeakCkCqM1/5VyVRM7TtOavRyLNGHQ5B/nSlGSSbNaFWlOThF6oCQOCRnsPWs+Ni89xcKDs24HHWrzIGYEqMr09qQDAwAAPaiLSQq1OU5LWyX+X/AASnFbgiNwCuBnaDxmp24QmlaVVJHUgZNUpZmlJcZC9MVqk5PU4pyp0I2juS+asgkUg4K8Z/WmWSF7jO3CoD39abbIGypBz/ADqeHEQbkb8EAZq3omkc9O9SUJz6FiKZJA2zIGe9Q+Q0kxYyAAHII5NNtQFwW3AKOARipGfBzj8qztyt8p2KSq04uoK7t9r3dVCgbqrSqxuGPVeo+tSPnACsQx7ilPIzjpzxVLQyqe/dPvcjLBWGTk4/SoXUq+4HjrxVrHPr8tVZCYwTgFc8VUTmrKyux0r7gCpyMfnRDKQgXdxnpTcbrYMOKjt4sne2cDkGrsrGPPP2it1LhBB9aSNx5gUnoQTzUbTAKRnmomfbGHA69ahRZvKsou66E7yjcz8AZ9Ka5VFXtxUHm5DADg8YpyguVQHPzYHvV8tjndbm21/4cfLwCepzSiDcySHAxjPNTxw5l8qTnIzx60skDDbHtz34qOfojpWHbvNr/hypLEAxx+GKiZSpC+tXHQxuN+KlSNfJd8YYMSv5U+eyM3heeTS0YyIFo+PwzUMm0kxN2GAatQK724YYyDwD3qtcRlJk4wTUxfvWNqsGqSlbsOWKNWQxr0GCD/OrKW8UxKuucjtUSxSGLzF5Gcc0b3C5DYIIzipd3szWCjD4o6dipdWT25JUFlzkN7e9RnMoBOfXmtS6mCxMoYbyMfSs0Pk/MMGtYSlKN2cOKo0qdTlg9H0GFC7Fm6ntT0+RMUxtu7OaYzbj14rTc47qDutyZGAfBbFNDlmYjnHNRDByBU5jZAoYAEnA9aTSQ4ylJabIkQB+T+tNeLD56GlV9pIwKlKs6detRezOtRUo26htG0E/3RmodpYhiflzUj8xD6CnEBYAD1JpXsU4qXyQjys3BPHpTIpmjUrxg880oYhs4zTHGJBgdaaS2JlOV+dPUbPGVkdhghhuBNWrW72wvE+MBSVIHOarEdAw59fWmhexPUU2k1ZmcKkqdRzh1/UvQXyfZT5h+dRwP71JbXjzuY3Vd3PI9KorxkNTkUAhhkfjUunHU1hjK3u3ei/H1LCYiSRFBO4Yx70oRMhT2FKG8sYVcs3Wo3GJNzY3dBx0xRuy3aMV5fgTbwrfL3p8cLeYHOAM59zVeGUFzuXO09fWlnuZA6+WRj0qXF3sjVVaajzy77ItsAWwT+HrUXK5HBB4pFkWXa+TlfSnhkAUk4XOM1FrHS5KeqZE+VkGckAc4ppYngZ5qdkDBmJPsP5VWeTawarjqc1Vcju3oShspjPfFMkH7lsc01HKp65NOQl87hxTtYlS51buRF/LhGBlarGQ+v4Ve2qEII7d6gWGJ3PXpmrjJHLVpzdkmRlS0e4jleDTm4tifbip0XquOoxVBpCY5EOMhsdaqPvGFW1JXfVMlhk8qQZAwetPClLxW3HYPmXFVo1XzFbkcVaSQMgO3le9OSs9CKMuZWfR3RZEpibeBnA6fhU6TuYxKzAoTgjHTt1qi8quh65xQkn7ho+o5rFwuj04YlxlZPS34mkdrRliA3cVWmmIRlGMHipoIQttkN15Pt3qjNnAGOByaiCVzpxM5RpqVrNot2M6eX5RzvyTTblXe4GBwMAYqtbtsdWHbGfep/O3XOc8ZpuNpNoyhVU6Eacn1JbiRdhRD3xxUBcCLHfOaJH/AH74AwTUTHIOeBTjHQmtVbk38iJ23uWJyaZIcZ9QaQNnv1pXG/JrdaHlSfMm0NChot38VNwR161JGAEYH1pj8H2qk9TOUfdTEVhvHHQ1euyCgI42kYPrVe3thPlgSpU9fWpJtwJU7iRz7VDaclY6KcZxoybWj2IknJ+9watwuNjEnjtVUuCANvP0pPMwOp/KhxuOnVcNW7kzkuuMdPSgOWVc9s0RcS59TQV/eBSM5qfI1V2uYkhTexX1FN24bd3qwpAZiox2FVpJAJGX+HgA1Cu2dFRRhBXFZRsHr2NRupDDn8KN+5/bOMUN9a0WhyyakroRkyc55qVYmMYJGF6ZqLPGKng++QTwfU0m7IqnFOVu45QF56gCoXfc6nH61OcBD9KqnJk2/wB0cVMVfU1rNxSSCNjvbHpTmGXH0xTC222+Tlt3Ix2pFY4OVOa0t1OTmslH5k9tnew9RU8XzbgRn0qurfIpAwT1pUm2k+prOSudlKpGCSf9XLkhCRgE9FrPYk49qsTNlargZPB6GiCsgxM+aVkOVl24yKl3YqA857H6VIuMHHUCm0Zwm9hxYFDmiPCsHUZ7fWozgj600FV4JosP2mqbJN45A6+tZ8iZlbHXJq0zqisVGTjimR4IAP3sc+9aw93U4q9qrUWMjUueOgFSwxlWYs2ATxRsaI5Kkcfzp29CgG4DHU0N32CEFH4t0SFCYwCOgqOHiMnvirMS+ZEDkkkZ5quqtGSMDPOKzT3R1yhbll0aL9s5NnJHuBYnp6DFZ0zuJNpZguTkZqa3uA9xsIwwBH1FJIFAcnnK4/GlFcsnc0rVFVox5Xtp9wiA+U7Dr2pV4bn9KdCu2IKSe+aqpKRKyEE+h9KpK9zGUlBRb6lgn5xjvVc3KNlTkk1KT0qu0AUlw3HYHrTil1Ma0p/Z+Y08vgDqanVSiMGHNQqP3i/WrLdMdzzVSfQyoxveRExAXGOetI4z+dNlBR8e2ac3TnrxRYTd7rsWbbiIDHU1Opbysk5INMi5jix6VK6kQEqM81zyep7FGLUNOiKVwV3pjqevtSGKLYWLH8KVkYTOWBG1cnPrSMQiDcPvcVsuljz5Wbk5L+th4GDnOMc1IxRoy6H51OCPWmPECqnqTjipFi2ICw6noKh2N4KW1tB4G1W+b5uPlz0pYrUHe8nT09aiC7tSIJwFXn8ulTyymOBVU4Lc1Lvsup0Q5GnKa0jdEiWsXkhOPMIyp7n3rPcMZnGOQaliuD92RzgAgHuKVsGUv64JppNN3Iqyp1IR5FaxXP3SfTmnw5LBvzoYYZuMjHehMpgkdxmqexzRVpak56EH0qjNMpPHHHNXW5Q+tUGhDOR055p07dRYxyslEerDYMnHGTQrHkhfl7c0z/VkAjI6Z96c7FQI81o0cinpr0Jd2CCfqaTODkdaYPnQ4HTilzt5PU1NjXnZIZcgACguBxxk9qix82fagkE5Y8DtRYbqS3ZJsJ2n1NOwVOR0ojkynXpQXGCcVOpquW10DdARQpjyC3U0wNnI/KmNw4J9cU7EudtSe5x5RVVGaoRllZdwPLYFSys20jIAqNGwQOo61pBWiceIqc9W+xpeYhDAdOmaps6eaEXp/Fx0pRmQhR1NStaPHC0jAqAO9Zq0dzrm6lZXitEOSdolAQgoBjFSfKNuDufGTj0qh5ilNoIJz0p9vMBcFN3OD0puHUUMSrqLen5DI2a3uoy/XJGa0fLLqJGUheuO9UJJMsrunQ5ANQreSm5UvIxBPTPrVODlqjGniKdBuEtU3p/wTU3BtxHGMVSYYunPtmnvO8ZIXGG9RVYOWkck8mphG12aYitGTS6plknK/QVGxPlqCMYpwb86aZA3UjP500iJyTW4xMiRfzqyx5+lVy21R1H0p4PAz1+tDV9RU5ct4jZyWfIGeKYkm4bT1qRlMgIA6gZx2qFI8MR0NUrWMZ8ynddTRtfljUt61Ot4FX5VJXkD3rLIJHBNWI2xDjkkdqxlBPVnpUMVKK5Y6WJJ7hrrCBMDPJqvJG7NnKgDoCakwcYH+FRSRyDklfwNVGy0RjWcp3lO7ZaiYHg8Hrmp9wypb8qqIvGe2KejHO89B1qJLU66VRqKTHzRpv3xklnP5GoywfO5TnHHPak3F9xJpJVwAd+GPI/+vVLsZTktZJaDwq8YUZHenL8q5IyM8/SpIVXyN2CD0P1FDAYbJyMdKi/Q6FTslIgJ3ZakDDGMdabI4RVXHGOag+0oMAZ49q0UW0cU60YOzZeyNgqJ2+T7v41W+15JwDj2FO3lxnc2KFBrcHiYzVojuXwCoHPWmMgaTk09D8x9BThyc4p3sZ8iktRdm1cK3J71E/MmKlJwDTSoZw3ekn3KnG6tEainaMk0ZTIXHJ609R8uaTg5OOQapPUlx0RFu8pyeuR+dIHLHl8D6U5iCdrd6iYbMjrmrRzSbj6EgcJnvimMSzK27jPSmE5VqjyduKaRlOo3p0FmkLLxwKYjY4zzSsMnGOKZg7vxrRJWscc5S5uYnEpBye1MluJW+UucDtnimEnavvTmt5D8x4B60rJblOdSStG4sZABbvzRB810mDg5qMkxnb+FIWMbgrwwOc07EKdrX6F274UD0FUixDKw6g1ZuH8yNCvcVXWNpJAgUkk9KmGi1NcS+ap7vkXWO5h344qJlwc+tWDbmJNzdaaCAckA1mn2O6dOX29GRwsxGWI4PansBuP9KkMe4DaMfSmHjhh9RRe7HyOMbMQEbevOaVT83TFNByOBjnijPNAkxV5OO9AGTk4H0oCHaW5x7Ui8evNAX2uKTg0hyq5pTGVxlWUH1qa3iXzlSUqyg8knihtJXKjCU5cpZtNMe5VJmlKxk8qRyRUt/apbLHtbLMSMEDGMVZa/QYVZEBH93ms66uDNOpL7goJFcsXUlK72PdrQwlGg4w1k7a369euhKECR5J4xiomIEJXPJNNaRnVSR8o6fWmL85xz1wa0scUqidlHsKB8uOeacAf4hwCD+FIynzGAIwDipBlI2O3PGADTuJR/AfHKv2cY+Vdx4Paq/nAsPm59KjRXljbau1M5H19BSiBoz90lumafKk2Ze1qTUbLQZOSTwSQBUTooIbbgE1K5O8DGOOlV1Zmyp6VrHY4KrXM79SUMFyCMAdakGxk3Bjj0qJ1PysRw6/nzTyjRIAwwSM4+v/6qGkVByTd1ov6Q6BsuwxgdhSvLh8dOw96SzTzZpGPQCm3P3gCc8frU2XNY15pKip+ZM3P40xiQOvtxRGxeMMetEi5Pygkkc47VKWtjSUrx5kRmUx59Cc49DSLKHHIOfQ0ojJIDg496X7Nu6D6Yq7o50qr22IyeckD8aXlvWnfZz60xoSF+/indEOM1uhG4Bzn8qjwQKsQRlgfm+X1NDwouMHNPmSdiXSlKPN0IlweMU5kBAz2pVRQcgH8adg+lJscYaWZCEAPerEQUHDDI75o2EDPFLsIGe9JyuaQpcrvYiktckfMMZwKbPbE5KAnHXA71OynGW/CpYH2qR60c7Wo/q9OTcWrXKcSNGq7lPHIFTi4lDZUDPstMaZmBGe+DRHlpABQ9dyYe61GDZLJcSzKBIAMdwMVGBn3qywZYW4U8c1UHT2qY26G9VSUlzO7JpLjAHlDAHrULPuySc5pTggYGPWlVFKkEEGmrIiTnN7jBkDGKsW1r9pbHmKnHUiowmQTxVi3OxGBGBRJ6aF0IR51z6ov3bx22miKGRGYYVsHn3rFPXODipjJ/qw2Nuc9KY8hfg/d7DpiohHlRti66ryT2SSSRYvZPN2E4UKvHvVSXiPcBgMcCpHZSytjOB0qRZEkBR1GPaqXupGVS1WUm3qyiiMQSOnrUsZK53U7KBsENt9AatLc2qhf9HBx6mqlJ9jCjRjfWSVu4w3CMgULigTLnPeqIz2FGWo5EJYqW7LzTozZIB4x0pfPUkZLEA9DiqHzf3aXcQOVFHIivrcjS+1p/k0fah6D86zMt6D86TLen61PsUX/aFQ0JW83BGAw6HNMigiQZb5mzknNVDu96Q7/Wq5GlZMzeJi5c8o3ZptMoA4Bx09qgmnLgjbz2PTFU9zf5NG5z6UKmkOpjJTVtiyl0Ygq4yB1PqaSWaKVcFCp61Bz7ZowTT5Ve5k603Hl6Fn7VGFCrHgYxR9oK9c4+tVttGz3P5UcsSvb1SybhT2HHrTftJB7VDtA9aXFLlQe2qdx5nLHNN3nFNwKXGadkRzSe7AyN60m4nvS7aNv0p6EvmAM2OooG89TijHvSE0Dv3H4K9XAoD7OQ/wCtRZ5z3ppajlJdW2xY8/jls/U0CUcdqqE0bqfIifrMi4rKrFgOScmkj+ViT3qpvIo8w0cgfWVpoXSR3Y00PtOcVU800nmmjkB4pblsvnrS+bntVLzTS+cQuP1p8gvrSLZlx6fjQJvVgPpVEuTTC2aapmcsY1sae8NgbyaaXB7is3NODUezF9db6GjuGRzwKXcAxPY1RjkUH5qlM4/hFS4G0cSmrsmLAE96Y02DtxxVd23nO7FJt/2qpRXUxlXk/hLIX1NAApx4pQN3bH4VDZ0qPQTAp6wlhwDTlGP/ANVOyw71LZvGmuoLacZdh9BzSNCnARTn1Jpd59OaTLdMnHvSuzRqnayQG3UN9/j0FL5Efdv1puD3NGP9qjXuK0P5QMcYOARSGIdiKCPalVST0NGpNk9LDDH7Ck8vnpz7VOIi3Xil2BckH8TRzD9jfWxXAwcZxR/FjNTbc/M3H9aVUycdh2p8wvZPZETJt6kUDB/hJq0seP4cn2qPYcnnHtS5i3RaICCO350wlh1xVhgBwXNRSIuOdx/GqTMZwa2I9470b801gFwVzTeDyKuyOVzknYkDZppoRS3I6CnFCDg8GloP3mrjDTcZOAOam2e9Pji5znpRzJDVJydiqylTyMU2rM65NQeWWYDFUnoY1KbjKyGUqjc2OlSyQeVw2CSM5p0cO7BH3hT5la5Koy5uVorsNrEU3NWpoiMBgMnvVYISwApxaaMqtOUZWG5ozVoQx+WcAkjqTUckaLPtQErgfnQpJhKjKKuQ5o27qlljIYKFxUlsm0lmxnoKfNpcUaTc+VlUqRSVNNkyMexPYVF1ppmU42dhKUfWpBAxhMv8OajxRe4nGUd0Lx60E+lPiheRh8rbc8kCpLiBIwNucn1pXV7GqpzcHO2he8uRT8vI9aa5bu2fpUu5Sm0EjjnvTNqnvXLfue846Wi/xI9/tSqCxwB+dSBVpckcdKLiUH1ZGVb2FIEOfmPHrU6qXyOMYzzUewqOV5oTG6fURYxuB2k+3rTnLEgsAT6dgKlTLdePwpwiVnO58KOOKnm11NlSvH3eoxIh1I5+lSEbRycZNNSJnGAwx7HNO8pEPz5b68VLZtGNloiMtHjALMfpQEkIzjA9+KlMgUDaoGfQUmdwJ7e9F2HKm9/uIRGxJ+Y/XHelCMv3iQPUmpPNyNucde9RjJz0z6GquzJxithQX6DkVGxfHGST1pxUkfdH4GkC4IBXbTVjOV3oVzu3fMSM+9LuOMDgD8amdA6kbh/WolX58t0HWtE0zmlGUX6iOnzZOTUbjLdMHFW5FAA2nII61NZ2yzZYrkip51FXZqsK6s+SO7KMS7V+pqXyyx+7Wgulv5pbIC56e1W1swOuKxlXj0PQoZXVatJWMcQvngHFPaFkjJ2n61sC2Var3UZVHIywAACgVCrczsdM8u9lByZleWXBIHA4pvkkGti2tT5REiFTnvTZ4F34C4AHFV7ZXsYPLZcimzGu+Ch/2adaDcT+X0rQl0t5ymWCqAc+tSrp8dtbttyWzndVutDltfUwjl1d1nUatFf5GRcrtbBOcVDtXYCv3iK0p7USsCDjPWrn2KEQISOUXrVe2jFIx/s6pVnJrRIyAuEwe56UCPzOAMMv8qmnJD4ziptNRmlZ2U7duM496blaPMRCgp1VSKyW7FyXzk04quNoQDjt3rSuYgdrD6VnvwT+VRGfNqdNbDKh7pEAFRueMmqoX2q7Gm5CSOMmneSnUnFaKdjhlQc0mhJIUeBVyRtGenFUfL46cVqyECInsRiqw2FemCaUJuxpiMPFyXoS2yhrdcjpwBVa6i+b2FToxQYVuKepLsSSMmkm1K5c4xnTUOp//9k=\">"
      ],
      "text/plain": [
       "<IPython.core.display.HTML object>"
      ]
     },
     "metadata": {},
     "output_type": "display_data"
    },
    {
     "data": {
      "text/html": [
       "<img src=\"data:image/png;base64,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\">"
      ],
      "text/plain": [
       "<IPython.core.display.HTML object>"
      ]
     },
     "metadata": {},
     "output_type": "display_data"
    },
    {
     "data": {
      "text/html": [
       "<img src=\"data:image/png;base64,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\">"
      ],
      "text/plain": [
       "<IPython.core.display.HTML object>"
      ]
     },
     "metadata": {},
     "output_type": "display_data"
    },
    {
     "data": {
      "text/html": [
       "<img src=\"data:image/png;base64,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\">"
      ],
      "text/plain": [
       "<IPython.core.display.HTML object>"
      ]
     },
     "metadata": {},
     "output_type": "display_data"
    },
    {
     "data": {
      "text/html": [
       "<img src=\"data:image/png;base64,iVBORw0KGgoAAAANSUhEUgAAAUAAAADqCAYAAADTYJyWAAADJUlEQVR4nO3XsQ2EQBAEwbnPP2cw0IsQMLoqgrVas2fb2XbtcQYQcSZ6QNTv6wMAvvIP4LX3DQZIsACBLAEEsgQQyBJAIEsAgSwBBLIEEMgSQCBLAIEsAQSyBBDIEkAgSwCBLAEEsgQQyBJAIEsAgSwBBLIEEMgSQCBLAIEsAQSyBBDIEkAgSwCBLAEEsgQQyBJAIEsAgSwBBLIEEMgSQCBLAIEsAQSyBBDIEkAgSwCBLAEEsgQQyBJAIEsAgSwBBLIEEMgSQCBLAIEsAQSyBBDIEkAgSwCBLAEEsgQQyBJAIEsAgSwBBLIEEMgSQCBLAIEsAQSyBBDIEkAgSwCBLAEEsgQQyBJAIEsAgSwBBLIEEMgSQCBLAIEsAQSyBBDIEkAgSwCBLAEEsgQQyBJAIEsAgSwBBLIEEMgSQCBLAIEsAQSyBBDIEkAgSwCBLAEEsgQQyBJAIEsAgSwBBLIEEMgSQCBLAIEsAQSyBBDIEkAgSwCBLAEEsgQQyBJAIEsAgSwBBLIEEMgSQCBLAIEsAQSyBBDIEkAgSwCBLAEEsgQQyBJAIEsAgSwBBLIEEMgSQCBLAIEsAQSyBBDIEkAgSwCBLAEEsgQQyBJAIEsAgSwBBLIEEMgSQCBLAIEsAQSyBBDIEkAgSwCBLAEEsgQQyBJAIEsAgSwBBLIEEMgSQCBLAIEsAQSyBBDIEkAgSwCBLAEEsgQQyBJAIEsAgSwBBLIEEMgSQCBLAIEsAQSyBBDIEkAgSwCBLAEEsgQQyBJAIEsAgSwBBLIEEMgSQCBLAIEsAQSyBBDIEkAgSwCBLAEEsgQQyBJAIEsAgSwBBLIEEMgSQCBLAIEsAQSyBBDIEkAgSwCBLAEEsgQQyBJAIEsAgSwBBLIEEMgSQCBLAIEsAQSyBBDIEkAgSwCBLAEEsgQQyBJAIEsAgSwBBLIEEMgSQCBLAIEsAQSyBBDIEkAgSwCBLAEEsgQQyBJAIEsAgSwBBLIEEMgSQCBLAIEsAQSyBBDIEkAgSwCBLAEEsgQQyBJAIEsAgSwBBLIEEMgSQCBLAIEsAQSyBBDIEkAgSwCBLAEEsm4OxATTVOPyAgAAAABJRU5ErkJggg==\">"
      ],
      "text/plain": [
       "<IPython.core.display.HTML object>"
      ]
     },
     "metadata": {},
     "output_type": "display_data"
    },
    {
     "data": {
      "text/html": [
       "<img src=\"data:image/png;base64,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\">"
      ],
      "text/plain": [
       "<IPython.core.display.HTML object>"
      ]
     },
     "metadata": {},
     "output_type": "display_data"
    },
    {
     "data": {
      "text/html": [
       "<img src=\"data:image/png;base64,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\">"
      ],
      "text/plain": [
       "<IPython.core.display.HTML object>"
      ]
     },
     "metadata": {},
     "output_type": "display_data"
    },
    {
     "data": {
      "text/html": [
       "<img src=\"data:image/png;base64,iVBORw0KGgoAAAANSUhEUgAAAUAAAADqCAYAAADTYJyWAAADJUlEQVR4nO3XsQ2EQBAEwbnPP2cw0IsQMLoqgrVas2fb2XbtcQYQcSZ6QNTv6wMAvvIP4LX3DQZIsACBLAEEsgQQyBJAIEsAgSwBBLIEEMgSQCBLAIEsAQSyBBDIEkAgSwCBLAEEsgQQyBJAIEsAgSwBBLIEEMgSQCBLAIEsAQSyBBDIEkAgSwCBLAEEsgQQyBJAIEsAgSwBBLIEEMgSQCBLAIEsAQSyBBDIEkAgSwCBLAEEsgQQyBJAIEsAgSwBBLIEEMgSQCBLAIEsAQSyBBDIEkAgSwCBLAEEsgQQyBJAIEsAgSwBBLIEEMgSQCBLAIEsAQSyBBDIEkAgSwCBLAEEsgQQyBJAIEsAgSwBBLIEEMgSQCBLAIEsAQSyBBDIEkAgSwCBLAEEsgQQyBJAIEsAgSwBBLIEEMgSQCBLAIEsAQSyBBDIEkAgSwCBLAEEsgQQyBJAIEsAgSwBBLIEEMgSQCBLAIEsAQSyBBDIEkAgSwCBLAEEsgQQyBJAIEsAgSwBBLIEEMgSQCBLAIEsAQSyBBDIEkAgSwCBLAEEsgQQyBJAIEsAgSwBBLIEEMgSQCBLAIEsAQSyBBDIEkAgSwCBLAEEsgQQyBJAIEsAgSwBBLIEEMgSQCBLAIEsAQSyBBDIEkAgSwCBLAEEsgQQyBJAIEsAgSwBBLIEEMgSQCBLAIEsAQSyBBDIEkAgSwCBLAEEsgQQyBJAIEsAgSwBBLIEEMgSQCBLAIEsAQSyBBDIEkAgSwCBLAEEsgQQyBJAIEsAgSwBBLIEEMgSQCBLAIEsAQSyBBDIEkAgSwCBLAEEsgQQyBJAIEsAgSwBBLIEEMgSQCBLAIEsAQSyBBDIEkAgSwCBLAEEsgQQyBJAIEsAgSwBBLIEEMgSQCBLAIEsAQSyBBDIEkAgSwCBLAEEsgQQyBJAIEsAgSwBBLIEEMgSQCBLAIEsAQSyBBDIEkAgSwCBLAEEsgQQyBJAIEsAgSwBBLIEEMgSQCBLAIEsAQSyBBDIEkAgSwCBLAEEsgQQyBJAIEsAgSwBBLIEEMgSQCBLAIEsAQSyBBDIEkAgSwCBLAEEsm4OxATTVOPyAgAAAABJRU5ErkJggg==\">"
      ],
      "text/plain": [
       "<IPython.core.display.HTML object>"
      ]
     },
     "metadata": {},
     "output_type": "display_data"
    },
    {
     "data": {
      "text/html": [
       "<img src=\"data:image/png;base64,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\">"
      ],
      "text/plain": [
       "<IPython.core.display.HTML object>"
      ]
     },
     "metadata": {},
     "output_type": "display_data"
    },
    {
     "data": {
      "text/html": [
       "<img src=\"data:image/png;base64,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\">"
      ],
      "text/plain": [
       "<IPython.core.display.HTML object>"
      ]
     },
     "metadata": {},
     "output_type": "display_data"
    },
    {
     "data": {
      "text/html": [
       "<img src=\"data:image/png;base64,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\">"
      ],
      "text/plain": [
       "<IPython.core.display.HTML object>"
      ]
     },
     "metadata": {},
     "output_type": "display_data"
    },
    {
     "name": "stdout",
     "output_type": "stream",
     "text": [
      "\n"
     ]
    }
   ],
   "source": [
    "import concurrent.futures\n",
    "\n",
    "# Jupyter Notebook Visualization of Images\n",
    "if __name__ == \"__main__\":\n",
    "    # setup default images\n",
    "    images = image_data()\n",
    "    \n",
    "    # Parallel Processsing\n",
    "    # executor allocates threads, it considers core execution capability of machine\n",
    "    with concurrent.futures.ThreadPoolExecutor() as executor:\n",
    "        executor.map(process_image, images)  # order is not predictable\n",
    "        \n",
    "    print()"
   ]
  },
  {
   "attachments": {},
   "cell_type": "markdown",
   "metadata": {},
   "source": [
    "## Observing Parallel Computing and Threads\n",
    "> You can observe Processes, CPU Percentage, and Threads with Tools on your machine. Common tools to monitor performance are Activity Monitor on MacOS or Task Manager on Windows.   \n",
    "\n",
    "- This example is using ```top``` launched in VSCode Terminal. (mac)\n",
    "- Try ```top -H``` for linux.\n",
    "![](images/top.png)\n",
    "    - PID is Process ID.  \n",
    "    - COMMAND is task running on machine.  Python is activated when running this Jupyter notebook.\n",
    "    - #TH is number of threads.   This increases from 15/1 to 18/1 on my machine when running python parallel computing example.\n"
   ]
  },
  {
   "attachments": {},
   "cell_type": "markdown",
   "metadata": {},
   "source": [
    "## Hacks\n",
    "> AP Classroom. Provide answers and thoughts on theoritical question form college board Video in section 4.3.  They start at about the 9 minute mark.\n",
    "- Example 1\n",
    "- Example 2\n",
    "\n",
    "> Data Structures.  Build a List Comprehension example\n",
    "- list = [calc(item) for item in items]"
   ]
  },
  {
   "attachments": {},
   "cell_type": "markdown",
   "metadata": {},
   "source": [
    "## Example 1:\n",
    "\n",
    "What is the minimum amount of time (approximate) to execute all three processes when the two processors are run in parallel?\n",
    "\n",
    "**The minimum amount of time will most definitely be approximately 50 seconds, due to the execution time on either processor of process X being 50 seconds. This is the longest execution time of any of the processes X, Y, Z listed.**\n",
    "\n",
    "\n",
    "This was the correct answer."
   ]
  },
  {
   "attachments": {},
   "cell_type": "markdown",
   "metadata": {},
   "source": [
    "## Example 2:\n",
    "\n",
    "What is the difference in execution time between running the two processes in parallel in place of running them one after the other on a single processor?\n",
    "\n",
    "**SEQUENTIAL RUNNING: 45 seconds + 25 seconds = 70 seconds total time**\n",
    "\n",
    "**PARALLEL: 45 seconds total time because of Process B**\n",
    "\n",
    "**Difference in Execution Time would be 70 - 45 = 25 seconds.**\n",
    "\n",
    "This turned out to be the correct answer!"
   ]
  },
  {
   "attachments": {},
   "cell_type": "markdown",
   "metadata": {},
   "source": [
    "## Example 3:\n",
    "\n",
    "Describe how the program should assign the four processes to optimize execution time?\n",
    "\n",
    "**I think that processes A and D should be run in parallel, as this would take 40 seconds, and then processes B and C can be run sequentially, which would take 35 seconds. In total, this would take 75 seconds, which is the lowest amount of time according to my calculations.**\n",
    "\n",
    "\n",
    "**NOTE: This was wrong! The correct answer was to assign Processes A and B to one processor and C and D to the other processor.**\n",
    "\n"
   ]
  },
  {
   "attachments": {},
   "cell_type": "markdown",
   "metadata": {},
   "source": [
    "## RECAP OF DAILY VIDEO\n",
    "\n",
    "1. Parallel Computing allows scheduled tasks to be run at the same time (parallel!)\n",
    "\n",
    "2. Sequential Computing is the opposite, where each task is run one by one. This is much slower and more inefficient.\n",
    "\n",
    "3. Distributed Computing is where tasks are sent from one computer to others, and all the devices are utilized to run a program."
   ]
  },
  {
   "attachments": {},
   "cell_type": "markdown",
   "metadata": {},
   "source": [
    "## List Comprehension"
   ]
  },
  {
   "cell_type": "code",
   "execution_count": 6,
   "metadata": {},
   "outputs": [
    {
     "name": "stdout",
     "output_type": "stream",
     "text": [
      "['drake', 'tswift', 'selena', 'carti']\n",
      "['drake', 'tswift', 'selena']\n",
      "['tswift']\n"
     ]
    }
   ],
   "source": [
    "artists = [\"drake\", \"tswift\", \"selena\", \"carti\"]\n",
    "\n",
    "newartists = [x for x in artists]\n",
    "\n",
    "print(newartists)\n",
    "\n",
    "morenewartists = [x for x in artists if x != \"carti\"]\n",
    "\n",
    "print(morenewartists)\n",
    "\n",
    "evenmorenewartists = [x for x in artists if \"w\" in x]\n",
    "\n",
    "print(evenmorenewartists)"
   ]
  }
 ],
 "metadata": {
  "kernelspec": {
   "display_name": "base",
   "language": "python",
   "name": "python3"
  },
  "language_info": {
   "codemirror_mode": {
    "name": "ipython",
    "version": 3
   },
   "file_extension": ".py",
   "mimetype": "text/x-python",
   "name": "python",
   "nbconvert_exporter": "python",
   "pygments_lexer": "ipython3",
   "version": "3.9.12"
  },
  "orig_nbformat": 4,
  "vscode": {
   "interpreter": {
    "hash": "97665909bff1aeed1f66b160cba17d56ca0fda8f19b996955574cde620028738"
   }
  }
 },
 "nbformat": 4,
 "nbformat_minor": 2
}
