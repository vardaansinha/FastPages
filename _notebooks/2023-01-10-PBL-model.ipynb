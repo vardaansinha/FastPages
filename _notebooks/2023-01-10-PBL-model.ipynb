{
 "cells": [
  {
   "attachments": {},
   "cell_type": "markdown",
   "metadata": {},
   "source": [
    "# Model and Object-Oriented Programming\n",
    "> Object Oriented Programming is a part of learning Python.  The objective of this blog is to introduce OOP with the intention of PBL task to create a database.  The foundations for a database is defining a Class and understanding instance data and methods.  A database is often a focus of backend coding as it will store persistent data, that can be recalled after the immediate session is closed.\n",
    "\n",
    "- title: Model and Object-Oriented Programming\n",
    "- toc: true\n",
    "- categories: []\n",
    "- image: /images/python.png\n",
    "- type: pbl\n",
    "- week: 18"
   ]
  },
  {
   "cell_type": "markdown",
   "metadata": {},
   "source": [
    "## HACKS (with comments in code)"
   ]
  },
  {
   "cell_type": "code",
   "execution_count": 10,
   "metadata": {},
   "outputs": [
    {
     "name": "stdout",
     "output_type": "stream",
     "text": [
      "Dictionary: \n",
      "[{\"_name\": \"Vardaan Sinha\", \"_uid\": \"vardaansinha\", \"_password\": \"sha512$mJ5EjyDwoYLQZ0v9$9a72cf42677cfaa18ab1e2250f6291c520c631b6d8400e5c65406d72a5fedd54d36268c077f7ca62292174ab0bbc8ab5d77b44a8298f6ea22a7a23b29bb75684\", \"_dob\": [2006, 9, 28], \"_age\": 16, \"_classOf\": 2024}, {\"_name\": \"Aarav Arora\", \"_uid\": \"aaravarora09\", \"_password\": \"sha512$hLP6mSnrK4CDv5iY$65868cc23e04f34c49a16277301148ac4e980913779fa0aaccfeb21361b68aa36d9faade73778cba61751312706e456c172c9b7a5b2f7931f6c2c9b23813dfa9\", \"_dob\": [2005, 12, 14], \"_age\": 17, \"_classOf\": 2024}, {\"_name\": \"Eshan Sinha\", \"_uid\": \"esinha22\", \"_password\": \"sha512$5yOiQlrPBRFpCalS$3e3f4b4f236877c29be1b0359fffafaaced2e49cda08635385e9366467affe73ca98538eaf0f03b7651a741d156df6e16f8670761c03efa107da20e715c82ac9\", \"_dob\": [2001, 3, 22], \"_age\": 21, \"_classOf\": 2019}, {\"_name\": \"Mihir Sampath\", \"_uid\": \"msampath\", \"_password\": \"sha512$6xqjxn46k4kOay0f$4b9b111c8f8e816d93054dd4eeda2b2c93cd9924ff925820fe38aabeb8e39322221d142ce09751a027bf72c457455e8ed7e67cd1ca4d176199aa3576bc267299\", \"_dob\": [2005, 6, 9], \"_age\": 17, \"_classOf\": 2023}]\n"
     ]
    }
   ],
   "source": [
    "from werkzeug.security import generate_password_hash, check_password_hash\n",
    "from datetime import date\n",
    "import json\n",
    "\n",
    "# Define a User Class/Template\n",
    "# -- A User represents the data we want to manage\n",
    "class User:    \n",
    "    # constructor of a User object, initializes the instance variables within object (self)\n",
    "    def __init__(self, name, uid, password, classOf, dob, age): # name, uid, and password are presets for each user\n",
    "        self._name = name    # variables with self prefix become part of the object, \n",
    "        self._uid = uid\n",
    "        self.set_password(password)\n",
    "        self._dob = dob\n",
    "        self._age = age\n",
    "        self._classOf = classOf\n",
    "\n",
    "    # use getter to get information from the defined objects\n",
    "    @property\n",
    "    def name(self):\n",
    "        return self._name\n",
    "    \n",
    "    # use setter to update name after we create the object\n",
    "    @name.setter\n",
    "    def name(self, name):\n",
    "        self._name = name\n",
    "    \n",
    "    # getter, gets the email id from object\n",
    "    @property\n",
    "    def uid(self):\n",
    "        return self._uid\n",
    "    \n",
    "    # a setter function, allows name to be updated after initial object creation\n",
    "    @uid.setter\n",
    "    def uid(self, uid):\n",
    "        self._uid = uid\n",
    "        \n",
    "    # check if uid parameter matches user id in object, return boolean\n",
    "    def is_uid(self, uid):\n",
    "        return self._uid == uid\n",
    "    \n",
    "    @property\n",
    "    def password(self):\n",
    "        return self._password[0:10] + \"...\" # because of security only show 1st characters\n",
    "\n",
    "    # update password, this is conventional setter\n",
    "    def set_password(self, password):\n",
    "        \"\"\"Create a hashed password.\"\"\"\n",
    "        self._password = generate_password_hash(password, method='sha512')\n",
    "\n",
    "    # check password parameter versus stored/encrypted password\n",
    "    def is_password(self, password):\n",
    "        \"\"\"Check against hashed password.\"\"\"\n",
    "        result = check_password_hash(self._password, password)\n",
    "        return result\n",
    "    \n",
    "    @property \n",
    "    def classOf(self):\n",
    "        return self._classOf\n",
    "\n",
    "    @classOf.setter\n",
    "    def classOf(self, classOf):\n",
    "        self._classOf = classOf\n",
    "\n",
    "    \n",
    "    # output content using str(object) in human readable form, uses getter\n",
    "    def __str__(self):\n",
    "        return f'name: \"{self.name}\", id: \"{self.uid}\", psw: \"{self.password}\", classOf: \"{self.classOf}\", dob: \"{self.dob}\", age: \"{self.age}\"'\n",
    "\n",
    "    # output command to recreate the object, uses attribute directly\n",
    "    def __repr__(self):\n",
    "        return f'Person(name={self._name}, uid={self._uid}, password={self._password}, classOf={self._classOf}, dob={self.dob}, age={self._age})'\n",
    "\n",
    " # a name getter method, extracts date of birth from object\n",
    "    @property\n",
    "    def dob(self):\n",
    "        return self._dob\n",
    "    \n",
    "    # a setter function, allows date of birth to be updated after initial object creation\n",
    "    @dob.setter\n",
    "    def dob(self, dob):\n",
    "        self._dob = dob\n",
    "\n",
    "    @property \n",
    "    def age(self):\n",
    "        return self._age\n",
    "\n",
    "    @age.setter\n",
    "    def age(self, age):\n",
    "        self._age = age\n",
    "\n",
    "# tester method to print users\n",
    "def tester(users, uid, psw, classOf, dob, age):\n",
    "    result = None\n",
    "    for user in users:\n",
    "        # test for match in database\n",
    "        if user.uid == uid and user.is_password(psw):  # check for match\n",
    "            print(\"* \", end=\"\")\n",
    "            result = user\n",
    "        # print using __str__ method\n",
    "        print(str(user))\n",
    "    return result\n",
    "\n",
    "from datetime import date\n",
    "\n",
    "def calculate_age(born):\n",
    "    today = date.today()\n",
    "    return today.year - born.year - ((today.month, today.day) < (born.month, born.day)) \n",
    "\n",
    "\n",
    "# place tester code inside of special if!  This allows include without tester running\n",
    "if __name__ == \"__main__\": #\n",
    "\n",
    "    # defining each user as an object\n",
    "    u1 = User(name='Vardaan Sinha', uid='vardaansinha', password='vardsin123!', classOf=2024, dob=[2006, 9, 28], age= calculate_age(date(2006, 9, 28)))\n",
    "    u2 = User(name='Aarav Arora', uid='aaravarora09', password='aa09123!', classOf=2024, dob=[2005, 12, 14], age= calculate_age(date(2005, 12, 14)))\n",
    "    u3 = User(name='Eshan Sinha', uid='esinha22', password='eshans22!', classOf=2019, dob=[2001, 3, 22], age= calculate_age(date(2001, 3, 22)))\n",
    "    u4 = User(name='Mihir Sampath', uid='msampath', password='123coco', classOf=2023, dob=[2005, 6, 9], age= calculate_age(date(2005, 6, 9)))\n",
    "\n",
    "    # list defining\n",
    "    users = [u1, u2, u3, u4]\n",
    "\n",
    "    # Dictionary\n",
    "    ''' \n",
    "    The __dict__ in Python represents a dictionary or any mapping object that is used to store the attributes of the object. \n",
    "    Every object in Python has an attribute that is denoted by __dict__. \n",
    "    Use the json.dumps() method to convert the list of Users to a JSON string.\n",
    "    '''\n",
    "    print(\"Dictionary: \")\n",
    "    json_string = json.dumps([user.__dict__ for user in users]) \n",
    "    print(json_string)\n",
    "\n"
   ]
  },
  {
   "cell_type": "markdown",
   "metadata": {},
   "source": [
    "## Start Code for Hacks"
   ]
  },
  {
   "cell_type": "code",
   "execution_count": 11,
   "metadata": {},
   "outputs": [
    {
     "name": "stdout",
     "output_type": "stream",
     "text": [
      "16\n"
     ]
    }
   ],
   "source": [
    "from datetime import date\n",
    "\n",
    "def calculate_age(born):\n",
    "    today = date.today()\n",
    "    return today.year - born.year - ((today.month, today.day) < (born.month, born.day))\n",
    "\n",
    "dob = date(2006, 9, 28)\n",
    "age = calculate_age(date(2006, 9, 28))\n",
    "print(age)\n",
    "\n"
   ]
  },
  {
   "cell_type": "markdown",
   "metadata": {},
   "source": [
    "For an interesting change from the original code snippet for the hacks, I changed the password encoding for each of the users from sha256 to sha512. sha512 is a slightly faster cipher and adds a touch more security to the concealment of each of the user objects' passwords. "
   ]
  },
  {
   "cell_type": "markdown",
   "metadata": {},
   "source": []
  }
 ],
 "metadata": {
  "kernelspec": {
   "display_name": "Python 3.8.10 64-bit",
   "language": "python",
   "name": "python3"
  },
  "language_info": {
   "codemirror_mode": {
    "name": "ipython",
    "version": 3
   },
   "file_extension": ".py",
   "mimetype": "text/x-python",
   "name": "python",
   "nbconvert_exporter": "python",
   "pygments_lexer": "ipython3",
   "version": "3.8.10"
  },
  "orig_nbformat": 4,
  "vscode": {
   "interpreter": {
    "hash": "916dbcbb3f70747c44a77c7bcd40155683ae19c65e1c03b4aa3499c5328201f1"
   }
  }
 },
 "nbformat": 4,
 "nbformat_minor": 2
}
