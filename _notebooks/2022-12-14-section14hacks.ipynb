{
 "cells": [
  {
   "cell_type": "markdown",
   "metadata": {},
   "source": [
    "# \"Sections 14-15 Hacks\"\n",
    "> \"The Section 14-15 Hacks\"\n",
    "\n",
    "- toc: true \n",
    "- badges: true\n",
    "- comments: true\n",
    "- categories: [jupyter]\n",
    "- author: Vardaan Sinha"
   ]
  },
  {
   "cell_type": "markdown",
   "metadata": {},
   "source": [
    "**Reflection**:\n",
    "\n",
    "In the lesson, I learned about software libraries, the use for existing code segments, APIs, and the importance of documentation for these APIs and software libraries. First off, I learned that it is very useful to use existing procedures in code, as this can make the creation of the program more efficient. Furthermore, it is important to accompany these procedures with the proper documentation, which explains what the procedure is doing and what the program is attempting to accomplish. Furthermore, I also learned more about the \"random\" module that is often used in Python. It can serve as a random number generator and a number shuffler as well, which is very cool."
   ]
  },
  {
   "cell_type": "markdown",
   "metadata": {},
   "source": [
    "**Multiple Choice**:\n",
    "\n",
    "1. What does random (a,b) function generate?\n",
    "\n",
    "A. A random integer from a to b exclusive\n",
    "\n",
    "**B. A random integer from a to b inclusive**\n",
    "\n",
    "C. A random word from variable a to variable b exclusive\n",
    "\n",
    "D. A random word from variable a to variable b inclusive\n",
    "\n",
    "\n",
    "Option B is the correct answer, since the random function is used to generate a random number from a range a to b, and the random number can be the bounds of that range as well, therefore rendering it INCLUSIVE.\n",
    "\n",
    "\n",
    "\n",
    "2. What is x, y, and z in random.randrange(x, y, z)?\n",
    "\n",
    "**A. x = start, y = stop, z = step**\n",
    "\n",
    "B. x = start, y = step, z = stop\n",
    "\n",
    "C. x = stop, y = start, z = step\n",
    "\n",
    "D. x = step, y = start, z = stop\n",
    "\n",
    "\n",
    "\n",
    "3. Which of the following is NOT part of the random library?\n",
    "\n",
    "A. **random.item**\n",
    "\n",
    "B. random.random\n",
    "\n",
    "C. random.shuffle\n",
    "\n",
    "D. random.randint"
   ]
  },
  {
   "cell_type": "markdown",
   "metadata": {},
   "source": [
    "**Short Answer Questions**:\n",
    "\n",
    "\n",
    "1. Libraries allow us to use already tested and functional code in our own procedures. This creates a more efficient programming process. \n",
    "\n",
    "2. This procedure goes through a series of steps. First of all, the random module is imported to be used in this procedure. Then, an input is provided for the user to input everyone's names. The \"names\" variable is then defined as everyone's names split with a comma in between. Then, there is a variable defined as \"num_items\", which measures the number of names inputted. \n",
    "\n",
    "Then, the random module comes into place by selecting a random number in between 0 and the number of names - 1, inclusive. Then, in order to figure out the person who will pay the bill, the numbers corresponding to the names are randomized, and the name of the person that the code lands on is printed at the end."
   ]
  },
  {
   "cell_type": "markdown",
   "metadata": {},
   "source": [
    "**Coding Challenges**"
   ]
  },
  {
   "cell_type": "code",
   "execution_count": 1,
   "metadata": {},
   "outputs": [
    {
     "name": "stdout",
     "output_type": "stream",
     "text": [
      "you got these 5 random names: ['Aarav', 'Shaurya', 'G', 'James', 'Rohan']\n"
     ]
    }
   ],
   "source": [
    "import random \n",
    "\n",
    "namesList = [\"Safin\",\"Aarav\",\"Boomin\",\"G\",\"Navan\",\"Shaurya\",\"Justin\",\"Theo\",\"James\",\"Mihir\",\"Aryan\",\"Karthik\",\"Rohan\",\"Rohit\",\"Zach\"]\n",
    "\n",
    "sample_namesList = random.sample(namesList, k=5) # here, k = number of items to select\n",
    "print(f\"you got these 5 random names: {sample_namesList}\")"
   ]
  },
  {
   "cell_type": "code",
   "execution_count": null,
   "metadata": {},
   "outputs": [],
   "source": [
    "import random \n",
    "\n",
    "player1= random.randrange(1,6)\n",
    "player1t2 = random.randrange(1,6)\n",
    "print(\"Player 1 landed on a\", player1, \"and\", player1t2, \"adding up to:\", player1+player1t2)\n",
    "\n",
    "player2 = random.randrange(1,6)\n",
    "player2t2 = random.randrange(1,6)\n",
    "print(\"Player 2 landed on a\", player2, \"and\", player2t2, \"adding up to:\", player2+player2t2)\n",
    "\n",
    "player1score = player1 + player1t2\n",
    "player2score = player2 + player2t2\n",
    "\n",
    "if player1score > player2score:\n",
    "    print(\"Player 1 is the winner.\")\n",
    "elif player1score == player2score:\n",
    "    print(\"It's a tie.\")\n",
    "else: \n",
    "    print(\"Player 2 is the winner.\")"
   ]
  },
  {
   "cell_type": "markdown",
   "metadata": {},
   "source": [
    "**Extra Credit Try**"
   ]
  },
  {
   "cell_type": "code",
   "execution_count": 2,
   "metadata": {},
   "outputs": [
    {
     "name": "stdout",
     "output_type": "stream",
     "text": [
      "You are starting in this direction: up\n",
      "You will start at this block number: 7\n",
      "Your mission if you choose to accept it is to make it to this block: 20\n",
      "The obstacles are in the following areas: \n",
      "11\n",
      "12\n",
      "4\n",
      "5\n",
      "24\n",
      "17\n"
     ]
    }
   ],
   "source": [
    "import random\n",
    "\n",
    "directions = [\"up\", \"down\", \"left\", \"right\"]\n",
    "\n",
    "start_move = random.choice(directions)\n",
    "start_point = random.randint(1,25)\n",
    "end_point = random.randint(1,25)\n",
    "\n",
    "print(\"You are starting in this direction: \" + start_move)\n",
    "print(\"You will start at this block number: \" + str(start_point))\n",
    "print(\"Your mission if you choose to accept it is to make it to this block: \" + str(end_point))\n",
    "print(\"The obstacles are in the following areas: \")\n",
    "i = 1\n",
    "while i <= 6:\n",
    "    obstacle = random.randint(1,25)\n",
    "    print(str(obstacle))\n",
    "    i += 1\n",
    "    "
   ]
  },
  {
   "cell_type": "markdown",
   "metadata": {},
   "source": [
    "I wasn't really sure where to go from here, so this was my attempt."
   ]
  }
 ],
 "metadata": {
  "kernelspec": {
   "display_name": "Python 3.8.10 64-bit",
   "language": "python",
   "name": "python3"
  },
  "language_info": {
   "codemirror_mode": {
    "name": "ipython",
    "version": 3
   },
   "file_extension": ".py",
   "mimetype": "text/x-python",
   "name": "python",
   "nbconvert_exporter": "python",
   "pygments_lexer": "ipython3",
   "version": "3.8.10"
  },
  "orig_nbformat": 4,
  "vscode": {
   "interpreter": {
    "hash": "916dbcbb3f70747c44a77c7bcd40155683ae19c65e1c03b4aa3499c5328201f1"
   }
  }
 },
 "nbformat": 4,
 "nbformat_minor": 2
}
