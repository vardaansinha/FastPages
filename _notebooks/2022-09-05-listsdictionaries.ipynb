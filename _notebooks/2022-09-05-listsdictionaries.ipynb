{
 "cells": [
  {
   "cell_type": "markdown",
   "metadata": {},
   "source": [
    "# \"Lists, Dictionaries, Iterations\"\n",
    "> \"A thorough demonstration of InfoDB, looping, and other Python components, such as dictionaries and lists.\"\n",
    "\n",
    "- toc: true \n",
    "- badges: true\n",
    "- comments: true\n",
    "- categories: [jupyter,python]\n",
    "- author: Vardaan Sinha"
   ]
  },
  {
   "cell_type": "markdown",
   "metadata": {},
   "source": [
    "# Types of Integers/Strings/Variables:"
   ]
  },
  {
   "cell_type": "code",
   "execution_count": 76,
   "metadata": {},
   "outputs": [
    {
     "name": "stdout",
     "output_type": "stream",
     "text": [
      "Name: Vardaan Sinha <class 'str'>\n",
      "Age: 15 <class 'int'>\n",
      "APEL Grade: 75 <class 'int'>\n",
      "Classes: ['AP Physics', 'AP Stats', 'AP CSP', 'APEL', 'US History'] <class 'list'>\n",
      "Period 3 Class: AP CSP <class 'str'>\n",
      "\n",
      "Reversed Langs:\n",
      "JavaScript, HTML, Java, Python, C\n",
      "\n",
      "Random Class Order:\n",
      "AP CSP, US History, AP Stats, APEL, AP Physics\n"
     ]
    }
   ],
   "source": [
    "import random \n",
    "\n",
    "# type string\n",
    "name = \"Vardaan Sinha\"\n",
    "print(\"Name:\", name, type(name))\n",
    "\n",
    "# type integer\n",
    "age = 15\n",
    "print(\"Age:\", age, type(age))\n",
    "\n",
    "# float variable\n",
    "apelgrade = 75\n",
    "print(\"APEL Grade:\", apelgrade, type(apelgrade))\n",
    "\n",
    "# type list\n",
    "classes = [\"AP Physics\", \"AP Stats\", \"AP CSP\", \"APEL\", \"US History\"]\n",
    "print(\"Classes:\", classes, type(classes))\n",
    "print(\"Period 3 Class:\", classes[2], type(classes[2]))\n",
    "\n",
    "# reversed list\n",
    "langs = [\"C\", \"Python\", \"Java\", \"HTML\", \"JavaScript\"]\n",
    "langs.reverse()\n",
    "print('\\nReversed Langs:'),\n",
    "print(', '.join(langs))\n",
    "\n",
    "# randomized order with random module\n",
    "random.shuffle(classes)\n",
    "print('\\nRandom Class Order:'),\n",
    "print(', '.join(classes))"
   ]
  },
  {
   "cell_type": "markdown",
   "metadata": {},
   "source": [
    "# InfoDb Demonstration:"
   ]
  },
  {
   "cell_type": "code",
   "execution_count": 77,
   "metadata": {},
   "outputs": [
    {
     "name": "stdout",
     "output_type": "stream",
     "text": [
      "[{'FirstName': 'Samit', 'LastName': 'Poojary', 'DOB': 'February 24th, 2006', 'Email': 'samitpoojary@gmail.com', 'Height': \"5'7\", 'Hobbies': ['Playing Soccer', 'Fantasy Football', 'Programming']}, {'FirstName': 'Akshat', 'LastName': 'Parikh', 'DOB': 'December 28th, 2005', 'Email': 'akshat1228@gmail.com', 'Height': \"6'\", 'Hobbies': ['Playing Basketball', 'Trading', 'Programming']}]\n"
     ]
    }
   ],
   "source": [
    "InfoDb = []\n",
    "\n",
    "# first dictionary value\n",
    "InfoDb.append({\n",
    "    \"FirstName\": \"Samit\",\n",
    "    \"LastName\": \"Poojary\",\n",
    "    \"DOB\": \"February 24th, 2006\",\n",
    "    \"Email\": \"samitpoojary@gmail.com\",\n",
    "    \"Height\": \"5'7\",\n",
    "    \"Hobbies\": [\"Playing Soccer\", \"Fantasy Football\", \"Programming\"]\n",
    "    \n",
    "})\n",
    "\n",
    "# adding second dictionary value\n",
    "InfoDb.append({\n",
    "    \"FirstName\": \"Akshat\",\n",
    "    \"LastName\": \"Parikh\",\n",
    "    \"DOB\": \"December 28th, 2005\",\n",
    "    \"Email\": \"akshat1228@gmail.com\",\n",
    "    \"Height\": \"6'\",\n",
    "    \"Hobbies\": [\"Playing Basketball\", \"Trading\", \"Programming\"]\n",
    "    \n",
    "})\n",
    "\n",
    "\n",
    "\n",
    "\n",
    "print(InfoDb)"
   ]
  },
  {
   "cell_type": "markdown",
   "metadata": {},
   "source": [
    "# Printing InfoDb Data:"
   ]
  },
  {
   "cell_type": "code",
   "execution_count": 78,
   "metadata": {},
   "outputs": [
    {
     "name": "stdout",
     "output_type": "stream",
     "text": [
      "Name: Akshat Parikh\n",
      "Birthday: December 28th, 2005\n",
      "Email: akshat1228@gmail.com\n",
      "Height: 6'\n",
      "Hobbies: ['Playing Basketball', 'Trading', 'Programming']\n",
      "\n"
     ]
    }
   ],
   "source": [
    "# This defines all the data with the parameter \"homie\".\n",
    "def print_data(homie):\n",
    "    print(\"Name:\", homie[\"FirstName\"], homie[\"LastName\"])\n",
    "    print(\"Birthday:\", homie[\"DOB\"])\n",
    "    print(\"Email:\", homie[\"Email\"])\n",
    "    print(\"Height:\", homie[\"Height\"])\n",
    "    print(\"Hobbies:\", homie[\"Hobbies\"])\n",
    "    print()\n",
    "\n",
    "# This prints the data for the SECOND dictionary value, as Python always starts from 0 instead of 1. \n",
    "print_data(InfoDb[1])"
   ]
  },
  {
   "cell_type": "markdown",
   "metadata": {},
   "source": [
    "# Loops:"
   ]
  },
  {
   "cell_type": "code",
   "execution_count": 79,
   "metadata": {},
   "outputs": [
    {
     "name": "stdout",
     "output_type": "stream",
     "text": [
      "Name: Samit Poojary\n",
      "Birthday: February 24th, 2006\n",
      "Email: samitpoojary@gmail.com\n",
      "Height: 5'7\n",
      "Hobbies: ['Playing Soccer', 'Fantasy Football', 'Programming']\n",
      "\n",
      "Name: Akshat Parikh\n",
      "Birthday: December 28th, 2005\n",
      "Email: akshat1228@gmail.com\n",
      "Height: 6'\n",
      "Hobbies: ['Playing Basketball', 'Trading', 'Programming']\n",
      "\n",
      "For Loop\n",
      "\n",
      "Name: Samit Poojary\n",
      "Birthday: February 24th, 2006\n",
      "Email: samitpoojary@gmail.com\n",
      "Height: 5'7\n",
      "Hobbies: ['Playing Soccer', 'Fantasy Football', 'Programming']\n",
      "\n",
      "Name: Akshat Parikh\n",
      "Birthday: December 28th, 2005\n",
      "Email: akshat1228@gmail.com\n",
      "Height: 6'\n",
      "Hobbies: ['Playing Basketball', 'Trading', 'Programming']\n",
      "\n"
     ]
    }
   ],
   "source": [
    "# This is a for loop and indexed for loop. \n",
    "def for_loop():\n",
    "    for homie in InfoDb:\n",
    "        print_data(homie)\n",
    "# Prints the data from InfoDb based on the index falling in the specified range.\n",
    "def indexed_for_loop():\n",
    "    print(\"For Loop\\n\")\n",
    "    for i in range(len(InfoDb)):\n",
    "        print_data(InfoDb[i])\n",
    "\n",
    "for_loop()\n",
    "indexed_for_loop()"
   ]
  },
  {
   "cell_type": "markdown",
   "metadata": {},
   "source": [
    "# While Loops:"
   ]
  },
  {
   "cell_type": "code",
   "execution_count": 80,
   "metadata": {},
   "outputs": [
    {
     "name": "stdout",
     "output_type": "stream",
     "text": [
      "While Loop\n",
      "\n",
      "Name: Samit Poojary\n",
      "Birthday: February 24th, 2006\n",
      "Email: samitpoojary@gmail.com\n",
      "Height: 5'7\n",
      "Hobbies: ['Playing Soccer', 'Fantasy Football', 'Programming']\n",
      "\n",
      "Name: Akshat Parikh\n",
      "Birthday: December 28th, 2005\n",
      "Email: akshat1228@gmail.com\n",
      "Height: 6'\n",
      "Hobbies: ['Playing Basketball', 'Trading', 'Programming']\n",
      "\n"
     ]
    }
   ],
   "source": [
    "def while_loops():\n",
    "    i = 0\n",
    "    while i < len(InfoDb):\n",
    "        print_data(InfoDb[i])\n",
    "        i = i + 1\n",
    "\n",
    "print(\"While Loop\\n\")\n",
    "while_loops()"
   ]
  },
  {
   "cell_type": "markdown",
   "metadata": {},
   "source": [
    "# Recursive Loops:"
   ]
  },
  {
   "cell_type": "code",
   "execution_count": 81,
   "metadata": {},
   "outputs": [
    {
     "name": "stdout",
     "output_type": "stream",
     "text": [
      "Name: Akshat Parikh\n",
      "Birthday: December 28th, 2005\n",
      "Email: akshat1228@gmail.com\n",
      "Height: 6'\n",
      "Hobbies: ['Playing Basketball', 'Trading', 'Programming']\n",
      "\n"
     ]
    }
   ],
   "source": [
    "# Recursive loops are loops that repeatedly call itself.\n",
    "def recursive(i):\n",
    "    if i >= len(InfoDb):\n",
    "        return\n",
    "    print_data(InfoDb[i])\n",
    "    return recursive(i + 1)\n",
    "\n",
    "recursive(1)"
   ]
  },
  {
   "cell_type": "markdown",
   "metadata": {},
   "source": [
    "# Dictionary Quiz:"
   ]
  },
  {
   "cell_type": "code",
   "execution_count": 82,
   "metadata": {},
   "outputs": [
    {
     "name": "stdout",
     "output_type": "stream",
     "text": [
      "This is a Python-centric quiz that will allow you to test your knowledge of the AP CSP content thus far.\n",
      "Question: Which type of loop is used to call repeatedly?\n",
      "Answer: while\n",
      "Incorrect!\n",
      "Question: A Python ___ stores associated keys and values.\n",
      "Answer: dictionary\n",
      "Correct!\n",
      "Question: What type of variable can contain numbers with 'floating' decimal values?\n",
      "Answer: float\n",
      "Correct!\n",
      "You got only 2/3 correct.\n",
      "vardaan That's a 66.66666666666666%\n",
      "The answers in order were 'recursive', 'dictionary', and 'float' for next time.\n",
      "Your recorded answers for review: {'Q1': 'while', 'Q2': 'dictionary', 'Q3': 'float'}\n"
     ]
    }
   ],
   "source": [
    "import getpass \n",
    "\n",
    "questions = 3\n",
    "correct = 0\n",
    "\n",
    "print(\"This is a Python-centric quiz that will allow you to test your knowledge of the AP CSP content thus far.\")\n",
    "\n",
    "def question_answer(q, a):\n",
    "    print(\"Question: \" + q)\n",
    "    resp = input()\n",
    "    print(\"Answer: \" + resp)\n",
    "\n",
    "    if a == resp.lower():\n",
    "        print(\"Correct!\")\n",
    "        global correct\n",
    "        correct +=1\n",
    "    else:\n",
    "        print(\"Incorrect!\")\n",
    "    return resp\n",
    "\n",
    "q1 = question_answer(\"Which type of loop is used to call repeatedly?\", \"recursive\")\n",
    "q2 = question_answer(\"A Python ___ stores associated keys and values.\", \"dictionary\")\n",
    "q3 = question_answer(\"What type of variable can contain numbers with 'floating' decimal values?\", \"float\")\n",
    "\n",
    "if correct < 3:\n",
    "    print(f'You got only {correct}/3 correct.')\n",
    "    print (getpass.getuser() + \" That's a \" + str((correct / questions)* 100)+ \"%\")\n",
    "    \n",
    "    print(\"The answers in order were 'recursive', 'dictionary', and 'float' for next time.\")\n",
    "else:\n",
    "    print(f'Great job! You got a 100%.')\n",
    "\n",
    "# DICTIONARY COMPONENT\n",
    "\n",
    "PyQuiz = {\n",
    "    \"Q1\": q1,\n",
    "    \"Q2\": q2,\n",
    "    \"Q3\": q3\n",
    "}\n",
    "\n",
    "print(\"Your recorded answers for review:\", PyQuiz)\n",
    "\n"
   ]
  }
 ],
 "metadata": {
  "kernelspec": {
   "display_name": "Python 3.8.10 64-bit",
   "language": "python",
   "name": "python3"
  },
  "language_info": {
   "codemirror_mode": {
    "name": "ipython",
    "version": 3
   },
   "file_extension": ".py",
   "mimetype": "text/x-python",
   "name": "python",
   "nbconvert_exporter": "python",
   "pygments_lexer": "ipython3",
   "version": "3.8.10"
  },
  "orig_nbformat": 4,
  "vscode": {
   "interpreter": {
    "hash": "916dbcbb3f70747c44a77c7bcd40155683ae19c65e1c03b4aa3499c5328201f1"
   }
  }
 },
 "nbformat": 4,
 "nbformat_minor": 2
}
