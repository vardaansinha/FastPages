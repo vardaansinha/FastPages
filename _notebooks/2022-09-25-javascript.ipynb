{
 "cells": [
  {
   "cell_type": "markdown",
   "metadata": {},
   "source": [
    "# \"Applied JavaScript Usage\"\n",
    "> \"A thorough demonstration of JavaScript.\"\n",
    "\n",
    "- toc: true\n",
    "- layout: post\n",
    "- description: JavaScript's tools.\n",
    "- categories: [jupyter,js]\n",
    "- title: JavaScript Usage\n",
    "- show_tags: true\n",
    "- comments: true"
   ]
  },
  {
   "cell_type": "code",
   "execution_count": null,
   "metadata": {},
   "outputs": [],
   "source": [
    "// This utilizes JavaScript to print a message using the \"console.log\" feature.\n",
    "console.log(\"TEST RUN\")"
   ]
  }
 ],
 "metadata": {
  "kernelspec": {
   "display_name": "JavaScript (Node.js)",
   "language": "javascript",
   "name": "javascript"
  },
  "language_info": {
   "file_extension": ".js",
   "mimetype": "application/javascript",
   "name": "javascript",
   "version": "6.11.2"
  },
  "orig_nbformat": 4
 },
 "nbformat": 4,
 "nbformat_minor": 2
}
